{
 "nbformat": 4,
 "nbformat_minor": 0,
 "metadata": {
  "colab": {
   "name": "tf_TextWorld_RL.ipynb",
   "provenance": [],
   "collapsed_sections": []
  },
  "kernelspec": {
   "name": "python3",
   "display_name": "Python 3"
  },
  "language_info": {
   "name": "python"
  },
  "accelerator": "GPU"
 },
 "cells": [
  {
   "cell_type": "markdown",
   "metadata": {
    "id": "VJQwRDYVlPwi"
   },
   "source": [
    "# Advanced Deep Learning for NLP - Text based adventure game RL\n"
   ]
  },
  {
   "cell_type": "markdown",
   "metadata": {
    "id": "LPNo9umRmNlr"
   },
   "source": [
    "WIP: Links not assigned yet\n",
    "\n",
    "<table class=\"tfo-notebook-buttons\" align=\"left\">\n",
    "  <td>\n",
    "    <a target=\"_blank\" href=\"https://colab.research.google.com/github/tensorflow/agents/blob/master/docs/tutorials/1_dqn_tutorial.ipynb\">\n",
    "    <img src=\"https://www.tensorflow.org/images/colab_logo_32px.png\" />\n",
    "    Run in Google Colab</a>\n",
    "  </td>\n",
    "  <td>\n",
    "    <a target=\"_blank\" href=\"https://github.com/tensorflow/agents/blob/master/docs/tutorials/1_dqn_tutorial.ipynb\">\n",
    "    <img src=\"https://www.tensorflow.org/images/GitHub-Mark-32px.png\" />\n",
    "    View source on GitHub</a>\n",
    "  </td>\n",
    "</table>"
   ]
  },
  {
   "cell_type": "markdown",
   "metadata": {
    "id": "2BDIAa_mlcXp"
   },
   "source": [
    "## Google Colab stuff"
   ]
  },
  {
   "cell_type": "code",
   "metadata": {
    "id": "hXImSpAcBqWk",
    "executionInfo": {
     "status": "ok",
     "timestamp": 1628005728288,
     "user_tz": -120,
     "elapsed": 13321,
     "user": {
      "displayName": "Max Lamparth",
      "photoUrl": "https://lh3.googleusercontent.com/a-/AOh14GggONWhA_LZZ2SpKMaopk7rlmYZrhiQrouD31deaw=s64",
      "userId": "07608444463794873074"
     }
    }
   },
   "source": [
    "%%capture\n",
    "!pip install tf-agents\n",
    "!pip install textworld\n",
    "!pip install -q -U tensorflow-text\n",
    "!pip install tensorflow-text\n",
    "\n",
    "from google.colab import drive\n",
    "drive.mount(\"/content/drive\")\n",
    "import os\n",
    "os.chdir(\"/content/drive/MyDrive/DeepLearningNLP/\")"
   ],
   "execution_count": 1,
   "outputs": []
  },
  {
   "cell_type": "markdown",
   "metadata": {
    "id": "UkpwpO2ll8md"
   },
   "source": [
    "Or alternatively (for future, when project not private anymore):"
   ]
  },
  {
   "cell_type": "code",
   "metadata": {
    "colab": {
     "base_uri": "https://localhost:8080/"
    },
    "id": "Z9iV-qUKmCpJ",
    "outputId": "65436aed-a27c-4ed5-fc23-278458003497"
   },
   "source": [
    "!git clone https://github.com/"
   ],
   "execution_count": null,
   "outputs": [
    {
     "output_type": "stream",
     "text": [
      "Cloning into 'github.com'...\n",
      "fatal: repository 'https://github.com/' not found\n"
     ],
     "name": "stdout"
    }
   ]
  },
  {
   "cell_type": "markdown",
   "metadata": {
    "id": "4ge9lm5ElgBF"
   },
   "source": [
    "## Imports"
   ]
  },
  {
   "cell_type": "code",
   "metadata": {
    "id": "85h9Bei-n_al",
    "executionInfo": {
     "status": "ok",
     "timestamp": 1628005733664,
     "user_tz": -120,
     "elapsed": 5389,
     "user": {
      "displayName": "Max Lamparth",
      "photoUrl": "https://lh3.googleusercontent.com/a-/AOh14GggONWhA_LZZ2SpKMaopk7rlmYZrhiQrouD31deaw=s64",
      "userId": "07608444463794873074"
     }
    }
   },
   "source": [
    "from resources import DEFAULT_PATHS\n",
    "# from tests import test_environment_creation\n",
    "\n",
    "from tf_train_loop import TWTrainer\n",
    "\n",
    "%load_ext autoreload\n",
    "%autoreload 2"
   ],
   "execution_count": 2,
   "outputs": []
  },
  {
   "cell_type": "markdown",
   "metadata": {
    "id": "LpLGgA5Xk2NE"
   },
   "source": [
    "## Generate games\n",
    "\n",
    "\n",
    "Only run of necessary."
   ]
  },
  {
   "cell_type": "code",
   "metadata": {
    "id": "svdyaH5irbYK"
   },
   "source": [
    "os.chdir(\"/content/drive/MyDrive/DeepLearningNLP/scripts/\")"
   ],
   "execution_count": null,
   "outputs": []
  },
  {
   "cell_type": "code",
   "metadata": {
    "colab": {
     "base_uri": "https://localhost:8080/"
    },
    "id": "AMXxZfzGk_fV",
    "executionInfo": {
     "status": "ok",
     "timestamp": 1627671800034,
     "user_tz": -120,
     "elapsed": 5099,
     "user": {
      "displayName": "Max Lamparth",
      "photoUrl": "https://lh3.googleusercontent.com/a-/AOh14GggONWhA_LZZ2SpKMaopk7rlmYZrhiQrouD31deaw=s64",
      "userId": "07608444463794873074"
     }
    },
    "outputId": "f7f54138-bacb-40b1-c461-694920680ed9"
   },
   "source": [
    "%%shell\n",
    "bash ./make_debug_game.sh"
   ],
   "execution_count": null,
   "outputs": [
    {
     "output_type": "stream",
     "text": [
      "Global seed: 2021\n",
      "Game generated: /content/drive/My Drive/DeepLearningNLP/resources/game_th_lvl2_simple.ulx\n"
     ],
     "name": "stdout"
    },
    {
     "output_type": "execute_result",
     "data": {
      "text/plain": [
       ""
      ]
     },
     "metadata": {
      "tags": []
     },
     "execution_count": 4
    }
   ]
  },
  {
   "cell_type": "code",
   "metadata": {
    "id": "tc9fq9C8n9q1"
   },
   "source": [
    "%%capture\n",
    "%%shell\n",
    "bash ./make_allgames.sh"
   ],
   "execution_count": null,
   "outputs": []
  },
  {
   "cell_type": "code",
   "metadata": {
    "id": "bX23AdS2riOI"
   },
   "source": [
    "os.chdir(\"/content/drive/MyDrive/DeepLearningNLP/\")"
   ],
   "execution_count": null,
   "outputs": []
  },
  {
   "cell_type": "markdown",
   "metadata": {
    "id": "i2kCbHw2QeVX"
   },
   "source": [
    "# Test environment"
   ]
  },
  {
   "cell_type": "code",
   "metadata": {
    "id": "HawL9R4V6AYJ"
   },
   "source": [
    "test_environment_creation()"
   ],
   "execution_count": null,
   "outputs": []
  },
  {
   "cell_type": "markdown",
   "metadata": {
    "id": "u1Zx2a9AQoVh"
   },
   "source": [
    "# Train"
   ]
  },
  {
   "cell_type": "code",
   "metadata": {
    "id": "fXTkK8pKyVX3",
    "executionInfo": {
     "status": "ok",
     "timestamp": 1628005733666,
     "user_tz": -120,
     "elapsed": 16,
     "user": {
      "displayName": "Max Lamparth",
      "photoUrl": "https://lh3.googleusercontent.com/a-/AOh14GggONWhA_LZZ2SpKMaopk7rlmYZrhiQrouD31deaw=s64",
      "userId": "07608444463794873074"
     }
    }
   },
   "source": [
    "REWARD_DICT = {\n",
    "    \"win_lose_value\": 100,\n",
    "    \"max_loop_pun\": 0,\n",
    "    \"change_reward\": 1,\n",
    "    \"useless_act_pun\": 1,\n",
    "    \"verb_in_adm\": 1,\n",
    "}"
   ],
   "execution_count": 3,
   "outputs": []
  },
  {
   "cell_type": "markdown",
   "metadata": {
    "id": "mh1VFswxyBw9"
   },
   "source": [
    "Try overfitting on one debug game (correct command \"take x\" will immediately win or lose the game):\n"
   ]
  },
  {
   "cell_type": "code",
   "metadata": {
    "id": "LL2l3YVFyKoM",
    "colab": {
     "base_uri": "https://localhost:8080/",
     "height": 1000
    },
    "executionInfo": {
     "status": "ok",
     "timestamp": 1628006427910,
     "user_tz": -120,
     "elapsed": 607599,
     "user": {
      "displayName": "Max Lamparth",
      "photoUrl": "https://lh3.googleusercontent.com/a-/AOh14GggONWhA_LZZ2SpKMaopk7rlmYZrhiQrouD31deaw=s64",
      "userId": "07608444463794873074"
     }
    },
    "outputId": "e4aa2440-49d6-4c88-dc5d-581bb549c674"
   },
   "source": [
    "DEFAULT_HP = {\n",
    "    \"learning_rate\": 1e-3,\n",
    "    \"initial_collect_steps\": 2000,\n",
    "    \"collect_steps_per_iteration\": 1,\n",
    "    \"replay_buffer_max_length\": 100000,\n",
    "    # large values lead to OOM with bert policy\n",
    "    \"batch_size\": 32,\n",
    "    \"num_eval_episodes\": 1,\n",
    "    \"game_gen_buffer\": 25,\n",
    "    \"num_eval_games\": 5,\n",
    "}\n",
    "trainer = TWTrainer(\n",
    "    reward_dict=REWARD_DICT,\n",
    "    hpar=DEFAULT_HP,\n",
    "    debug=False,\n",
    "    biased_buffer=True,\n",
    "    # embedding into fc is default policy\n",
    "    # agent_label=\"FCPolicy\",\n",
    "    agent_label=\"BertPolicy\",\n",
    ")\n",
    "eval_scores = trainer.train(\n",
    "    num_iterations=500,\n",
    "    log_interval=25,\n",
    "    eval_interval=25,\n",
    "    game_gen_interval=500,\n",
    "    plot_avg_ret=True,\n",
    ")"
   ],
   "execution_count": 5,
   "outputs": [
    {
     "output_type": "stream",
     "text": [
      "step = 25: loss = 8.91e+01, Buff-len = 36\n",
      "step = 25: Average Return = 1.0\n",
      "step = 50: loss = 8.87e+02, Buff-len = 38\n",
      "step = 50: Average Return = 0.0\n",
      "step = 75: loss = 3.89e+03, Buff-len = 44\n",
      "step = 75: Average Return = 0.0\n",
      "step = 100: loss = 1.55e+04, Buff-len = 47\n",
      "step = 100: Average Return = 0.0\n",
      "step = 125: loss = 6.03e+04, Buff-len = 48\n",
      "step = 125: Average Return = 0.0\n",
      "step = 150: loss = 1.34e+05, Buff-len = 69\n",
      "step = 150: Average Return = 50.0\n",
      "step = 175: loss = 1.37e+05, Buff-len = 142\n",
      "step = 175: Average Return = 0.0\n",
      "step = 200: loss = 1.56e+05, Buff-len = 146\n",
      "step = 200: Average Return = 0.0\n",
      "step = 225: loss = 1.33e+05, Buff-len = 187\n",
      "step = 225: Average Return = 0.0\n",
      "step = 250: loss = 4.06e+05, Buff-len = 188\n",
      "step = 250: Average Return = -50.0\n",
      "step = 275: loss = 2.12e+05, Buff-len = 210\n",
      "step = 275: Average Return = -50.0\n",
      "step = 300: loss = 4.09e+05, Buff-len = 271\n",
      "step = 300: Average Return = 50.0\n",
      "step = 325: loss = 6.27e+05, Buff-len = 277\n",
      "step = 325: Average Return = -50.0\n",
      "step = 350: loss = 7.27e+05, Buff-len = 283\n",
      "step = 350: Average Return = 50.0\n",
      "step = 375: loss = 1.07e+06, Buff-len = 313\n",
      "step = 375: Average Return = -50.0\n",
      "step = 400: loss = 8.62e+05, Buff-len = 314\n",
      "step = 400: Average Return = 0.0\n",
      "step = 425: loss = 1.65e+06, Buff-len = 317\n",
      "step = 425: Average Return = 0.0\n",
      "step = 450: loss = 2.17e+06, Buff-len = 320\n",
      "step = 450: Average Return = 0.0\n",
      "step = 475: loss = 1.81e+06, Buff-len = 323\n",
      "step = 475: Average Return = -50.0\n",
      "step = 500: loss = 5.50e+06, Buff-len = 325\n",
      "step = 500: Average Return = -50.0\n",
      "(20,) [ 25  50  75 100 125 150 175 200 225 250 275 300 325 350 375 400 425 450\n",
      " 475 500]\n",
      "(20,) [  1.   0.   0.   0.   0.  50.   0.   0.   0. -50. -50.  50. -50.  50.\n",
      " -50.   0.   0.   0. -50. -50.]\n"
     ],
     "name": "stdout"
    },
    {
     "output_type": "display_data",
     "data": {
      "image/png": "[encoded data removed]",
      "text/plain": [
       "<Figure size 432x288 with 1 Axes>"
      ]
     },
     "metadata": {
      "tags": [],
      "needs_background": "light"
     }
    }
   ]
  },
  {
   "cell_type": "code",
   "metadata": {
    "pycharm": {
     "name": "#%%\n"
    },
    "id": "TZMwAYvxQ36g",
    "executionInfo": {
     "status": "aborted",
     "timestamp": 1628004969602,
     "user_tz": -120,
     "elapsed": 9,
     "user": {
      "displayName": "Max Lamparth",
      "photoUrl": "https://lh3.googleusercontent.com/a-/AOh14GggONWhA_LZZ2SpKMaopk7rlmYZrhiQrouD31deaw=s64",
      "userId": "07608444463794873074"
     }
    }
   },
   "source": [
    "pathdir = DEFAULT_PATHS[\"path_logdir\"]\n",
    "%load_ext tensorboard\n",
    "%tensorboard --logdir $pathdir\n"
   ],
   "execution_count": null,
   "outputs": []
  },
  {
   "cell_type": "code",
   "metadata": {
    "id": "s-LGSOqOmx08"
   },
   "source": [
    "DEFAULT_HP = {\n",
    "    \"learning_rate\": 1e-3,\n",
    "    \"initial_collect_steps\": 10000,\n",
    "    \"collect_steps_per_iteration\": 1,\n",
    "    \"replay_buffer_max_length\": 100000,\n",
    "    \"batch_size\": 32,\n",
    "    \"num_eval_episodes\": 1,\n",
    "    \"game_gen_buffer\": 25,\n",
    "    \"num_eval_games\": 10,\n",
    "}\n",
    "\n",
    "trainer = TWTrainer(\n",
    "    env_dir=\"train_games_lvl1\",\n",
    "    reward_dict=REWARD_DICT,\n",
    "    hpar=DEFAULT_HP,\n",
    "    debug=False,\n",
    "    biased_buffer=True,\n",
    "    # embedding into fc is default policy\n",
    "    # agent_label=\"FCPolicy\",\n",
    "    agent_label=\"BertPolicy\",\n",
    ")"
   ],
   "execution_count": null,
   "outputs": []
  },
  {
   "cell_type": "code",
   "metadata": {
    "pycharm": {
     "name": "#%%\n"
    },
    "id": "LYD27Tn7_h3u"
   },
   "source": [
    "print(f\"Starting with lvl: 1 \\n\")\n",
    "\n",
    "eval_scores = trainer.train(\n",
    "    num_iterations=2000,\n",
    "    log_interval=250,\n",
    "    eval_interval=500,\n",
    "    game_gen_interval=500,\n",
    "    rndm_fill_replay=True,\n",
    "    plot_avg_ret=True,\n",
    ")"
   ],
   "execution_count": null,
   "outputs": []
  },
  {
   "cell_type": "code",
   "metadata": {
    "colab": {
     "base_uri": "https://localhost:8080/",
     "height": 561
    },
    "id": "zf5IasuAPhqn",
    "executionInfo": {
     "status": "ok",
     "timestamp": 1628000243556,
     "user_tz": -120,
     "elapsed": 1201003,
     "user": {
      "displayName": "Max Lamparth",
      "photoUrl": "https://lh3.googleusercontent.com/a-/AOh14GggONWhA_LZZ2SpKMaopk7rlmYZrhiQrouD31deaw=s64",
      "userId": "07608444463794873074"
     }
    },
    "outputId": "ba5d6d50-683a-4f15-caf4-b1fac13f92b4"
   },
   "source": [
    "print(f\"Changing to next lvl: 2 \\n\")\n",
    "\n",
    "trainer.change_env_dir(f\"train_games_lvl2\")\n",
    "eval_scores = trainer.train(\n",
    "    num_iterations=2000,\n",
    "    log_interval=250, \n",
    "    eval_interval=500,\n",
    "    game_gen_interval=500,\n",
    "    continue_training=True,\n",
    "    rndm_fill_replay=True,\n",
    "    plot_avg_ret=True,\n",
    ")"
   ],
   "execution_count": 9,
   "outputs": [
    {
     "output_type": "stream",
     "text": [
      "Changing to next lvl: 2 \n",
      "\n",
      "step = 250: loss = 9.68e+09, Buff-len = 792\n",
      "step = 500: loss = 1.74e+10, Buff-len = 817\n",
      "step = 500: Average Return = -4.0\n",
      "step = 750: loss = 2.90e+10, Buff-len = 836\n",
      "step = 1000: loss = 5.06e+10, Buff-len = 862\n",
      "step = 1000: Average Return = -44.0\n",
      "step = 1250: loss = 9.41e+10, Buff-len = 889\n",
      "step = 1500: loss = 1.30e+11, Buff-len = 922\n",
      "step = 1500: Average Return = -49.0\n",
      "step = 1750: loss = 2.35e+11, Buff-len = 946\n",
      "step = 2000: loss = 4.21e+11, Buff-len = 975\n",
      "step = 2000: Average Return = -49.0\n",
      "(4,) [ 500 1000 1500 2000]\n",
      "(4,) [ -4. -44. -49. -49.]\n"
     ],
     "name": "stdout"
    },
    {
     "output_type": "display_data",
     "data": {
      "image/png": "[encoded data removed]",
      "text/plain": [
       "<Figure size 432x288 with 1 Axes>"
      ]
     },
     "metadata": {
      "tags": [],
      "needs_background": "light"
     }
    }
   ]
  },
  {
   "cell_type": "code",
   "metadata": {
    "colab": {
     "base_uri": "https://localhost:8080/",
     "height": 400
    },
    "id": "7-uyCayyPtEt",
    "executionInfo": {
     "status": "error",
     "timestamp": 1628000340733,
     "user_tz": -120,
     "elapsed": 97211,
     "user": {
      "displayName": "Max Lamparth",
      "photoUrl": "https://lh3.googleusercontent.com/a-/AOh14GggONWhA_LZZ2SpKMaopk7rlmYZrhiQrouD31deaw=s64",
      "userId": "07608444463794873074"
     }
    },
    "outputId": "303614d8-0cbe-4a7f-f281-1ec517c49f50"
   },
   "source": [
    "print(f\"Changing to next lvl: 3 \\n\")\n",
    "\n",
    "trainer.change_env_dir(f\"train_games_lvl3\")\n",
    "eval_scores = trainer.train(\n",
    "    num_iterations=2000,\n",
    "    log_interval=250, \n",
    "    eval_interval=500,\n",
    "    game_gen_interval=500,\n",
    "    continue_training=True,\n",
    "    rndm_fill_replay=True,\n",
    "    plot_avg_ret=True,\n",
    ")"
   ],
   "execution_count": 10,
   "outputs": [
    {
     "output_type": "stream",
     "text": [
      "Changing to next lvl: 3 \n",
      "\n"
     ],
     "name": "stdout"
    },
    {
     "output_type": "error",
     "ename": "KeyboardInterrupt",
     "evalue": "ignored",
     "traceback": [
      "\u001B[0;31m---------------------------------------------------------------------------\u001B[0m",
      "\u001B[0;31mKeyboardInterrupt\u001B[0m                         Traceback (most recent call last)",
      "\u001B[0;32m<ipython-input-10-c787a057c11e>\u001B[0m in \u001B[0;36m<module>\u001B[0;34m()\u001B[0m\n\u001B[1;32m      9\u001B[0m     \u001B[0mcontinue_training\u001B[0m\u001B[0;34m=\u001B[0m\u001B[0;32mTrue\u001B[0m\u001B[0;34m,\u001B[0m\u001B[0;34m\u001B[0m\u001B[0;34m\u001B[0m\u001B[0m\n\u001B[1;32m     10\u001B[0m     \u001B[0mrndm_fill_replay\u001B[0m\u001B[0;34m=\u001B[0m\u001B[0;32mTrue\u001B[0m\u001B[0;34m,\u001B[0m\u001B[0;34m\u001B[0m\u001B[0;34m\u001B[0m\u001B[0m\n\u001B[0;32m---> 11\u001B[0;31m     \u001B[0mplot_avg_ret\u001B[0m\u001B[0;34m=\u001B[0m\u001B[0;32mTrue\u001B[0m\u001B[0;34m,\u001B[0m\u001B[0;34m\u001B[0m\u001B[0;34m\u001B[0m\u001B[0m\n\u001B[0m\u001B[1;32m     12\u001B[0m )\n",
      "\u001B[0;32m/content/drive/MyDrive/DeepLearningNLP/tf_train_loop.py\u001B[0m in \u001B[0;36mtrain\u001B[0;34m(self, num_iterations, train_interval, log_interval, eval_interval, game_gen_interval, continue_training, rndm_fill_replay, plot_avg_ret)\u001B[0m\n\u001B[1;32m    150\u001B[0m \u001B[0;34m\u001B[0m\u001B[0m\n\u001B[1;32m    151\u001B[0m         \u001B[0;32mif\u001B[0m \u001B[0mrndm_fill_replay\u001B[0m\u001B[0;34m:\u001B[0m\u001B[0;34m\u001B[0m\u001B[0;34m\u001B[0m\u001B[0m\n\u001B[0;32m--> 152\u001B[0;31m             \u001B[0mself\u001B[0m\u001B[0;34m.\u001B[0m\u001B[0m_fill_replay_buffer\u001B[0m\u001B[0;34m(\u001B[0m\u001B[0;34m)\u001B[0m\u001B[0;34m\u001B[0m\u001B[0;34m\u001B[0m\u001B[0m\n\u001B[0m\u001B[1;32m    153\u001B[0m \u001B[0;34m\u001B[0m\u001B[0m\n\u001B[1;32m    154\u001B[0m         \u001B[0;31m# prepare pipeline\u001B[0m\u001B[0;34m\u001B[0m\u001B[0;34m\u001B[0m\u001B[0;34m\u001B[0m\u001B[0m\n",
      "\u001B[0;32m/content/drive/MyDrive/DeepLearningNLP/tf_train_loop.py\u001B[0m in \u001B[0;36m_fill_replay_buffer\u001B[0;34m(self)\u001B[0m\n\u001B[1;32m    111\u001B[0m                     \u001B[0mself\u001B[0m\u001B[0;34m.\u001B[0m\u001B[0m_replay_buffer\u001B[0m\u001B[0;34m,\u001B[0m\u001B[0;34m\u001B[0m\u001B[0;34m\u001B[0m\u001B[0m\n\u001B[1;32m    112\u001B[0m                     \u001B[0;36m100\u001B[0m\u001B[0;34m,\u001B[0m\u001B[0;34m\u001B[0m\u001B[0;34m\u001B[0m\u001B[0m\n\u001B[0;32m--> 113\u001B[0;31m                     \u001B[0mself\u001B[0m\u001B[0;34m.\u001B[0m\u001B[0m_hpar\u001B[0m\u001B[0;34m[\u001B[0m\u001B[0;34m\"batch_size\"\u001B[0m\u001B[0;34m]\u001B[0m\u001B[0;34m,\u001B[0m\u001B[0;34m\u001B[0m\u001B[0;34m\u001B[0m\u001B[0m\n\u001B[0m\u001B[1;32m    114\u001B[0m                 )\n\u001B[1;32m    115\u001B[0m                 \u001B[0msteps\u001B[0m \u001B[0;34m+=\u001B[0m \u001B[0;36m100\u001B[0m\u001B[0;34m\u001B[0m\u001B[0;34m\u001B[0m\u001B[0m\n",
      "\u001B[0;32m/content/drive/MyDrive/DeepLearningNLP/tf_train_loop.py\u001B[0m in \u001B[0;36m_collect_data\u001B[0;34m(self, env, policy, buffer, steps, batch_size)\u001B[0m\n\u001B[1;32m    315\u001B[0m     \u001B[0;32mdef\u001B[0m \u001B[0m_collect_data\u001B[0m\u001B[0;34m(\u001B[0m\u001B[0mself\u001B[0m\u001B[0;34m,\u001B[0m \u001B[0menv\u001B[0m\u001B[0;34m,\u001B[0m \u001B[0mpolicy\u001B[0m\u001B[0;34m,\u001B[0m \u001B[0mbuffer\u001B[0m\u001B[0;34m,\u001B[0m \u001B[0msteps\u001B[0m\u001B[0;34m,\u001B[0m \u001B[0mbatch_size\u001B[0m\u001B[0;34m)\u001B[0m\u001B[0;34m:\u001B[0m\u001B[0;34m\u001B[0m\u001B[0;34m\u001B[0m\u001B[0m\n\u001B[1;32m    316\u001B[0m         \u001B[0;32mfor\u001B[0m \u001B[0m_\u001B[0m \u001B[0;32min\u001B[0m \u001B[0mrange\u001B[0m\u001B[0;34m(\u001B[0m\u001B[0msteps\u001B[0m\u001B[0;34m)\u001B[0m\u001B[0;34m:\u001B[0m\u001B[0;34m\u001B[0m\u001B[0;34m\u001B[0m\u001B[0m\n\u001B[0;32m--> 317\u001B[0;31m             \u001B[0mself\u001B[0m\u001B[0;34m.\u001B[0m\u001B[0m_collect_step\u001B[0m\u001B[0;34m(\u001B[0m\u001B[0menv\u001B[0m\u001B[0;34m,\u001B[0m \u001B[0mpolicy\u001B[0m\u001B[0;34m,\u001B[0m \u001B[0mbuffer\u001B[0m\u001B[0;34m,\u001B[0m \u001B[0mbatch_size\u001B[0m\u001B[0;34m)\u001B[0m\u001B[0;34m\u001B[0m\u001B[0;34m\u001B[0m\u001B[0m\n\u001B[0m\u001B[1;32m    318\u001B[0m \u001B[0;34m\u001B[0m\u001B[0m\n\u001B[1;32m    319\u001B[0m \u001B[0;34m\u001B[0m\u001B[0m\n",
      "\u001B[0;32m/content/drive/MyDrive/DeepLearningNLP/tf_train_loop.py\u001B[0m in \u001B[0;36m_collect_step\u001B[0;34m(self, environment, policy, buffer, batch_size)\u001B[0m\n\u001B[1;32m    282\u001B[0m \u001B[0;34m\u001B[0m\u001B[0m\n\u001B[1;32m    283\u001B[0m     \u001B[0;32mdef\u001B[0m \u001B[0m_collect_step\u001B[0m\u001B[0;34m(\u001B[0m\u001B[0mself\u001B[0m\u001B[0;34m,\u001B[0m \u001B[0menvironment\u001B[0m\u001B[0;34m,\u001B[0m \u001B[0mpolicy\u001B[0m\u001B[0;34m,\u001B[0m \u001B[0mbuffer\u001B[0m\u001B[0;34m,\u001B[0m \u001B[0mbatch_size\u001B[0m\u001B[0;34m)\u001B[0m\u001B[0;34m:\u001B[0m\u001B[0;34m\u001B[0m\u001B[0;34m\u001B[0m\u001B[0m\n\u001B[0;32m--> 284\u001B[0;31m         \u001B[0mtime_step\u001B[0m \u001B[0;34m=\u001B[0m \u001B[0menvironment\u001B[0m\u001B[0;34m.\u001B[0m\u001B[0mcurrent_time_step\u001B[0m\u001B[0;34m(\u001B[0m\u001B[0;34m)\u001B[0m\u001B[0;34m\u001B[0m\u001B[0;34m\u001B[0m\u001B[0m\n\u001B[0m\u001B[1;32m    285\u001B[0m         action_step = policy.action(\n\u001B[1;32m    286\u001B[0m             \u001B[0mtime_step\u001B[0m\u001B[0;34m,\u001B[0m \u001B[0mpolicy\u001B[0m\u001B[0;34m.\u001B[0m\u001B[0mget_initial_state\u001B[0m\u001B[0;34m(\u001B[0m\u001B[0mbatch_size\u001B[0m\u001B[0;34m=\u001B[0m\u001B[0mbatch_size\u001B[0m\u001B[0;34m)\u001B[0m\u001B[0;34m\u001B[0m\u001B[0;34m\u001B[0m\u001B[0m\n",
      "\u001B[0;32m/usr/local/lib/python3.7/dist-packages/tf_agents/environments/tf_environment.py\u001B[0m in \u001B[0;36mcurrent_time_step\u001B[0;34m(self)\u001B[0m\n\u001B[1;32m    194\u001B[0m           \u001B[0mcorresponding\u001B[0m \u001B[0mto\u001B[0m\u001B[0;31m \u001B[0m\u001B[0;31m`\u001B[0m\u001B[0mobservation_spec\u001B[0m\u001B[0;34m(\u001B[0m\u001B[0;34m)\u001B[0m\u001B[0;31m`\u001B[0m\u001B[0;34m.\u001B[0m\u001B[0;34m\u001B[0m\u001B[0;34m\u001B[0m\u001B[0m\n\u001B[1;32m    195\u001B[0m     \"\"\"\n\u001B[0;32m--> 196\u001B[0;31m     \u001B[0;32mreturn\u001B[0m \u001B[0mself\u001B[0m\u001B[0;34m.\u001B[0m\u001B[0m_current_time_step\u001B[0m\u001B[0;34m(\u001B[0m\u001B[0;34m)\u001B[0m\u001B[0;34m\u001B[0m\u001B[0;34m\u001B[0m\u001B[0m\n\u001B[0m\u001B[1;32m    197\u001B[0m \u001B[0;34m\u001B[0m\u001B[0m\n\u001B[1;32m    198\u001B[0m   \u001B[0;32mdef\u001B[0m \u001B[0mreset\u001B[0m\u001B[0;34m(\u001B[0m\u001B[0mself\u001B[0m\u001B[0;34m)\u001B[0m\u001B[0;34m:\u001B[0m\u001B[0;34m\u001B[0m\u001B[0;34m\u001B[0m\u001B[0m\n",
      "\u001B[0;32m/usr/local/lib/python3.7/dist-packages/tf_agents/environments/tf_py_environment.py\u001B[0m in \u001B[0;36m_current_time_step\u001B[0;34m(self)\u001B[0m\n\u001B[1;32m    241\u001B[0m           \u001B[0mself\u001B[0m\u001B[0;34m.\u001B[0m\u001B[0m_time_step_dtypes\u001B[0m\u001B[0;34m,\u001B[0m\u001B[0;34m\u001B[0m\u001B[0;34m\u001B[0m\u001B[0m\n\u001B[1;32m    242\u001B[0m           name='current_time_step_py_func')\n\u001B[0;32m--> 243\u001B[0;31m       \u001B[0;32mreturn\u001B[0m \u001B[0mself\u001B[0m\u001B[0;34m.\u001B[0m\u001B[0m_time_step_from_numpy_function_outputs\u001B[0m\u001B[0;34m(\u001B[0m\u001B[0moutputs\u001B[0m\u001B[0;34m)\u001B[0m\u001B[0;34m\u001B[0m\u001B[0;34m\u001B[0m\u001B[0m\n\u001B[0m\u001B[1;32m    244\u001B[0m \u001B[0;34m\u001B[0m\u001B[0m\n\u001B[1;32m    245\u001B[0m   \u001B[0;32mdef\u001B[0m \u001B[0m_reset\u001B[0m\u001B[0;34m(\u001B[0m\u001B[0mself\u001B[0m\u001B[0;34m)\u001B[0m\u001B[0;34m:\u001B[0m\u001B[0;34m\u001B[0m\u001B[0;34m\u001B[0m\u001B[0m\n",
      "\u001B[0;32m/usr/local/lib/python3.7/dist-packages/tf_agents/environments/tf_py_environment.py\u001B[0m in \u001B[0;36m_time_step_from_numpy_function_outputs\u001B[0;34m(self, outputs)\u001B[0m\n\u001B[1;32m    377\u001B[0m     time_step = _pack_named_sequence(outputs,\n\u001B[1;32m    378\u001B[0m                                      \u001B[0mself\u001B[0m\u001B[0;34m.\u001B[0m\u001B[0mtime_step_spec\u001B[0m\u001B[0;34m(\u001B[0m\u001B[0;34m)\u001B[0m\u001B[0;34m,\u001B[0m\u001B[0;34m\u001B[0m\u001B[0;34m\u001B[0m\u001B[0m\n\u001B[0;32m--> 379\u001B[0;31m                                      batch_shape)\n\u001B[0m\u001B[1;32m    380\u001B[0m     \u001B[0;32mreturn\u001B[0m \u001B[0mtime_step\u001B[0m\u001B[0;34m\u001B[0m\u001B[0;34m\u001B[0m\u001B[0m\n",
      "\u001B[0;32m/usr/local/lib/python3.7/dist-packages/tf_agents/environments/tf_py_environment.py\u001B[0m in \u001B[0;36m_pack_named_sequence\u001B[0;34m(flat_inputs, input_spec, batch_shape)\u001B[0m\n\u001B[1;32m     42\u001B[0m   \u001B[0mnamed_inputs\u001B[0m \u001B[0;34m=\u001B[0m \u001B[0;34m[\u001B[0m\u001B[0;34m]\u001B[0m\u001B[0;34m\u001B[0m\u001B[0;34m\u001B[0m\u001B[0m\n\u001B[1;32m     43\u001B[0m   \u001B[0;32mfor\u001B[0m \u001B[0mflat_input\u001B[0m\u001B[0;34m,\u001B[0m \u001B[0mspec\u001B[0m \u001B[0;32min\u001B[0m \u001B[0mzip\u001B[0m\u001B[0;34m(\u001B[0m\u001B[0mflat_inputs\u001B[0m\u001B[0;34m,\u001B[0m \u001B[0mtf\u001B[0m\u001B[0;34m.\u001B[0m\u001B[0mnest\u001B[0m\u001B[0;34m.\u001B[0m\u001B[0mflatten\u001B[0m\u001B[0;34m(\u001B[0m\u001B[0minput_spec\u001B[0m\u001B[0;34m)\u001B[0m\u001B[0;34m)\u001B[0m\u001B[0;34m:\u001B[0m\u001B[0;34m\u001B[0m\u001B[0;34m\u001B[0m\u001B[0m\n\u001B[0;32m---> 44\u001B[0;31m     \u001B[0mnamed_input\u001B[0m \u001B[0;34m=\u001B[0m \u001B[0mtf\u001B[0m\u001B[0;34m.\u001B[0m\u001B[0midentity\u001B[0m\u001B[0;34m(\u001B[0m\u001B[0mflat_input\u001B[0m\u001B[0;34m,\u001B[0m \u001B[0mname\u001B[0m\u001B[0;34m=\u001B[0m\u001B[0mspec\u001B[0m\u001B[0;34m.\u001B[0m\u001B[0mname\u001B[0m\u001B[0;34m)\u001B[0m\u001B[0;34m\u001B[0m\u001B[0;34m\u001B[0m\u001B[0m\n\u001B[0m\u001B[1;32m     45\u001B[0m     \u001B[0;32mif\u001B[0m \u001B[0;32mnot\u001B[0m \u001B[0mtf\u001B[0m\u001B[0;34m.\u001B[0m\u001B[0mexecuting_eagerly\u001B[0m\u001B[0;34m(\u001B[0m\u001B[0;34m)\u001B[0m\u001B[0;34m:\u001B[0m\u001B[0;34m\u001B[0m\u001B[0;34m\u001B[0m\u001B[0m\n\u001B[1;32m     46\u001B[0m       \u001B[0mnamed_input\u001B[0m\u001B[0;34m.\u001B[0m\u001B[0mset_shape\u001B[0m\u001B[0;34m(\u001B[0m\u001B[0mbatch_shape\u001B[0m\u001B[0;34m.\u001B[0m\u001B[0mconcatenate\u001B[0m\u001B[0;34m(\u001B[0m\u001B[0mspec\u001B[0m\u001B[0;34m.\u001B[0m\u001B[0mshape\u001B[0m\u001B[0;34m)\u001B[0m\u001B[0;34m)\u001B[0m\u001B[0;34m\u001B[0m\u001B[0;34m\u001B[0m\u001B[0m\n",
      "\u001B[0;32m/usr/local/lib/python3.7/dist-packages/tensorflow/python/util/dispatch.py\u001B[0m in \u001B[0;36mwrapper\u001B[0;34m(*args, **kwargs)\u001B[0m\n\u001B[1;32m    204\u001B[0m     \u001B[0;34m\"\"\"Call target, and fall back on dispatchers if there is a TypeError.\"\"\"\u001B[0m\u001B[0;34m\u001B[0m\u001B[0;34m\u001B[0m\u001B[0m\n\u001B[1;32m    205\u001B[0m     \u001B[0;32mtry\u001B[0m\u001B[0;34m:\u001B[0m\u001B[0;34m\u001B[0m\u001B[0;34m\u001B[0m\u001B[0m\n\u001B[0;32m--> 206\u001B[0;31m       \u001B[0;32mreturn\u001B[0m \u001B[0mtarget\u001B[0m\u001B[0;34m(\u001B[0m\u001B[0;34m*\u001B[0m\u001B[0margs\u001B[0m\u001B[0;34m,\u001B[0m \u001B[0;34m**\u001B[0m\u001B[0mkwargs\u001B[0m\u001B[0;34m)\u001B[0m\u001B[0;34m\u001B[0m\u001B[0;34m\u001B[0m\u001B[0m\n\u001B[0m\u001B[1;32m    207\u001B[0m     \u001B[0;32mexcept\u001B[0m \u001B[0;34m(\u001B[0m\u001B[0mTypeError\u001B[0m\u001B[0;34m,\u001B[0m \u001B[0mValueError\u001B[0m\u001B[0;34m)\u001B[0m\u001B[0;34m:\u001B[0m\u001B[0;34m\u001B[0m\u001B[0;34m\u001B[0m\u001B[0m\n\u001B[1;32m    208\u001B[0m       \u001B[0;31m# Note: convert_to_eager_tensor currently raises a ValueError, not a\u001B[0m\u001B[0;34m\u001B[0m\u001B[0;34m\u001B[0m\u001B[0;34m\u001B[0m\u001B[0m\n",
      "\u001B[0;32m/usr/local/lib/python3.7/dist-packages/tensorflow/python/ops/array_ops.py\u001B[0m in \u001B[0;36midentity\u001B[0;34m(input, name)\u001B[0m\n\u001B[1;32m    286\u001B[0m     \u001B[0;31m# variables. Variables have correct handle data when graph building.\u001B[0m\u001B[0;34m\u001B[0m\u001B[0;34m\u001B[0m\u001B[0;34m\u001B[0m\u001B[0m\n\u001B[1;32m    287\u001B[0m     \u001B[0minput\u001B[0m \u001B[0;34m=\u001B[0m \u001B[0mops\u001B[0m\u001B[0;34m.\u001B[0m\u001B[0mconvert_to_tensor\u001B[0m\u001B[0;34m(\u001B[0m\u001B[0minput\u001B[0m\u001B[0;34m)\u001B[0m\u001B[0;34m\u001B[0m\u001B[0;34m\u001B[0m\u001B[0m\n\u001B[0;32m--> 288\u001B[0;31m   \u001B[0mret\u001B[0m \u001B[0;34m=\u001B[0m \u001B[0mgen_array_ops\u001B[0m\u001B[0;34m.\u001B[0m\u001B[0midentity\u001B[0m\u001B[0;34m(\u001B[0m\u001B[0minput\u001B[0m\u001B[0;34m,\u001B[0m \u001B[0mname\u001B[0m\u001B[0;34m=\u001B[0m\u001B[0mname\u001B[0m\u001B[0;34m)\u001B[0m\u001B[0;34m\u001B[0m\u001B[0;34m\u001B[0m\u001B[0m\n\u001B[0m\u001B[1;32m    289\u001B[0m   \u001B[0;31m# Propagate handle data for happier shape inference for resource variables.\u001B[0m\u001B[0;34m\u001B[0m\u001B[0;34m\u001B[0m\u001B[0;34m\u001B[0m\u001B[0m\n\u001B[1;32m    290\u001B[0m   \u001B[0;32mif\u001B[0m \u001B[0mhasattr\u001B[0m\u001B[0;34m(\u001B[0m\u001B[0minput\u001B[0m\u001B[0;34m,\u001B[0m \u001B[0;34m\"_handle_data\"\u001B[0m\u001B[0;34m)\u001B[0m\u001B[0;34m:\u001B[0m\u001B[0;34m\u001B[0m\u001B[0;34m\u001B[0m\u001B[0m\n",
      "\u001B[0;32m/usr/local/lib/python3.7/dist-packages/tensorflow/python/ops/gen_array_ops.py\u001B[0m in \u001B[0;36midentity\u001B[0;34m(input, name)\u001B[0m\n\u001B[1;32m   3948\u001B[0m     \u001B[0;32mtry\u001B[0m\u001B[0;34m:\u001B[0m\u001B[0;34m\u001B[0m\u001B[0;34m\u001B[0m\u001B[0m\n\u001B[1;32m   3949\u001B[0m       _result = pywrap_tfe.TFE_Py_FastPathExecute(\n\u001B[0;32m-> 3950\u001B[0;31m         _ctx, \"Identity\", name, input)\n\u001B[0m\u001B[1;32m   3951\u001B[0m       \u001B[0;32mreturn\u001B[0m \u001B[0m_result\u001B[0m\u001B[0;34m\u001B[0m\u001B[0;34m\u001B[0m\u001B[0m\n\u001B[1;32m   3952\u001B[0m     \u001B[0;32mexcept\u001B[0m \u001B[0m_core\u001B[0m\u001B[0;34m.\u001B[0m\u001B[0m_NotOkStatusException\u001B[0m \u001B[0;32mas\u001B[0m \u001B[0me\u001B[0m\u001B[0;34m:\u001B[0m\u001B[0;34m\u001B[0m\u001B[0;34m\u001B[0m\u001B[0m\n",
      "\u001B[0;31mKeyboardInterrupt\u001B[0m: "
     ]
    }
   ]
  },
  {
   "cell_type": "code",
   "metadata": {
    "id": "Jm5fNV19Pvn1",
    "executionInfo": {
     "status": "aborted",
     "timestamp": 1628000340500,
     "user_tz": -120,
     "elapsed": 15,
     "user": {
      "displayName": "Max Lamparth",
      "photoUrl": "https://lh3.googleusercontent.com/a-/AOh14GggONWhA_LZZ2SpKMaopk7rlmYZrhiQrouD31deaw=s64",
      "userId": "07608444463794873074"
     }
    }
   },
   "source": [
    "print(f\"Changing to next lvl: 4 \\n\")\n",
    "\n",
    "trainer.change_env_dir(f\"train_games_lvl4\")\n",
    "eval_scores = trainer.train(\n",
    "    num_iterations=5000,\n",
    "    log_interval=250, \n",
    "    eval_interval=500,\n",
    "    game_gen_interval=500,\n",
    "    continue_training=True,\n",
    "    rndm_fill_replay=True,\n",
    "    plot_avg_ret=True,\n",
    ")"
   ],
   "execution_count": null,
   "outputs": []
  },
  {
   "cell_type": "markdown",
   "metadata": {
    "id": "izOrJDtvs4rO"
   },
   "source": [
    "## Hyper parameter search"
   ]
  },
  {
   "cell_type": "code",
   "metadata": {
    "id": "A4S3R9tSqH-c"
   },
   "source": [
    "%%capture\n",
    "!pip install optuna\n",
    "import optuna"
   ],
   "execution_count": null,
   "outputs": []
  },
  {
   "cell_type": "code",
   "metadata": {
    "id": "DQlG-WJQs74O"
   },
   "source": [
    "def objective(trial):\n",
    "    \"\"\"\"\"\"\n",
    "\n",
    "    hp_dict = {\n",
    "      \"num_iterations\": 2000,\n",
    "      \"learning_rate\": trial.suggest_loguniform(\"lr\", 1e-4, 1e-2),\n",
    "      \"initial_collect_steps\": 10000,\n",
    "      \"collect_steps_per_iteration\": 1,\n",
    "      \"replay_buffer_max_length\": 100000,\n",
    "      \"batch_size\": trial.suggest_int(\"batch_size\", 16, 256),\n",
    "      \"log_interval\": 500,\n",
    "      \"num_eval_episodes\": 1,\n",
    "      \"eval_interval\": 100,\n",
    "    }\n",
    "\n",
    "    REWARD_DICT = {\n",
    "        \"win_lose_value\": 100,\n",
    "        \"max_loop_pun\": 1,\n",
    "        \"change_reward\": 1,\n",
    "        \"useless_act_pun\": 1,\n",
    "        \"verb_in_adm\": 1,\n",
    "    }\n",
    "\n",
    "    eval_scores = train.main(plot_avg_ret=True, debug=False, reward_dict=REWARD_DICT, **hp_dict)\n",
    "    # eval_scores = np.delete(eval_scores, 0)\n",
    "\n",
    "    return max(eval_scores)\n",
    "\n",
    "study = optuna.create_study(direction=\"maximize\")\n",
    "study.optimize(objective, n_trials=30)\n",
    "print(study.best_trial)"
   ],
   "execution_count": null,
   "outputs": []
  },
  {
   "cell_type": "code",
   "metadata": {
    "id": "SeEcJWtgumr7",
    "colab": {
     "base_uri": "https://localhost:8080/"
    },
    "executionInfo": {
     "status": "ok",
     "timestamp": 1627651497254,
     "user_tz": -120,
     "elapsed": 385,
     "user": {
      "displayName": "Max Lamparth",
      "photoUrl": "https://lh3.googleusercontent.com/a-/AOh14GggONWhA_LZZ2SpKMaopk7rlmYZrhiQrouD31deaw=s64",
      "userId": "07608444463794873074"
     }
    },
    "outputId": "f790496d-7644-44f4-af65-3cc27a28e14a"
   },
   "source": [
    "print(study.best_trial)"
   ],
   "execution_count": null,
   "outputs": [
    {
     "output_type": "stream",
     "text": [
      "FrozenTrial(number=0, values=[203.0], datetime_start=datetime.datetime(2021, 7, 30, 11, 46, 26, 924586), datetime_complete=datetime.datetime(2021, 7, 30, 11, 50, 2, 140224), params={'lr': 0.004015582546958087, 'batch_size': 89}, distributions={'lr': LogUniformDistribution(high=0.01, low=0.0001), 'batch_size': IntUniformDistribution(high=256, low=16, step=1)}, user_attrs={}, system_attrs={}, intermediate_values={}, trial_id=0, state=TrialState.COMPLETE, value=None)\n"
     ],
     "name": "stdout"
    }
   ]
  },
  {
   "cell_type": "code",
   "metadata": {
    "id": "KKFKyzX-ltnR"
   },
   "source": [
    ""
   ],
   "execution_count": null,
   "outputs": []
  }
 ]
}