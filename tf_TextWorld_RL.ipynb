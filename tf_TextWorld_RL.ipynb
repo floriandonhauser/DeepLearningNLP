{
 "nbformat": 4,
 "nbformat_minor": 0,
 "metadata": {
  "colab": {
   "name": "tf_TextWorld_RL.ipynb",
   "provenance": [],
   "collapsed_sections": [
    "LpLGgA5Xk2NE",
    "qhIxLnjvWzLh",
    "i2kCbHw2QeVX"
   ]
  },
  "kernelspec": {
   "name": "python3",
   "display_name": "Python 3"
  },
  "language_info": {
   "name": "python"
  },
  "accelerator": "GPU"
 },
 "cells": [
  {
   "cell_type": "markdown",
   "metadata": {
    "id": "VJQwRDYVlPwi"
   },
   "source": [
    "# Advanced Deep Learning for NLP - Text based adventure game RL\n"
   ]
  },
  {
   "cell_type": "markdown",
   "metadata": {
    "id": "LPNo9umRmNlr"
   },
   "source": [
    "WIP: Links not assigned yet\n",
    "\n",
    "<table class=\"tfo-notebook-buttons\" align=\"left\">\n",
    "  <td>\n",
    "    <a target=\"_blank\" href=\"https://colab.research.google.com/github/tensorflow/agents/blob/master/docs/tutorials/1_dqn_tutorial.ipynb\">\n",
    "    <img src=\"https://www.tensorflow.org/images/colab_logo_32px.png\" />\n",
    "    Run in Google Colab</a>\n",
    "  </td>\n",
    "  <td>\n",
    "    <a target=\"_blank\" href=\"https://github.com/tensorflow/agents/blob/master/docs/tutorials/1_dqn_tutorial.ipynb\">\n",
    "    <img src=\"https://www.tensorflow.org/images/GitHub-Mark-32px.png\" />\n",
    "    View source on GitHub</a>\n",
    "  </td>\n",
    "</table>"
   ]
  },
  {
   "cell_type": "markdown",
   "metadata": {
    "id": "2BDIAa_mlcXp"
   },
   "source": [
    "## Google Colab stuff"
   ]
  },
  {
   "cell_type": "code",
   "metadata": {
    "id": "hXImSpAcBqWk",
    "executionInfo": {
     "status": "ok",
     "timestamp": 1628279902194,
     "user_tz": -120,
     "elapsed": 7803,
     "user": {
      "displayName": "Max Lamparth",
      "photoUrl": "https://lh3.googleusercontent.com/a-/AOh14GggONWhA_LZZ2SpKMaopk7rlmYZrhiQrouD31deaw=s64",
      "userId": "07608444463794873074"
     }
    }
   },
   "source": [
    "%%capture\n",
    "!pip install tf-agents\n",
    "!pip install textworld\n",
    "!pip install tensorflow-text\n",
    "\n",
    "from google.colab import drive\n",
    "drive.mount(\"/content/drive\")\n",
    "import os\n",
    "os.chdir(\"/content/drive/MyDrive/DeepLearningNLP/\")"
   ],
   "execution_count": 1,
   "outputs": []
  },
  {
   "cell_type": "markdown",
   "metadata": {
    "id": "UkpwpO2ll8md"
   },
   "source": [
    "Or alternatively (for future, when project not private anymore):"
   ]
  },
  {
   "cell_type": "code",
   "metadata": {
    "colab": {
     "base_uri": "https://localhost:8080/"
    },
    "id": "Z9iV-qUKmCpJ",
    "outputId": "65436aed-a27c-4ed5-fc23-278458003497"
   },
   "source": [
    "!git clone https://github.com/"
   ],
   "execution_count": null,
   "outputs": [
    {
     "output_type": "stream",
     "text": [
      "Cloning into 'github.com'...\n",
      "fatal: repository 'https://github.com/' not found\n"
     ],
     "name": "stdout"
    }
   ]
  },
  {
   "cell_type": "markdown",
   "metadata": {
    "id": "4ge9lm5ElgBF"
   },
   "source": [
    "## Imports"
   ]
  },
  {
   "cell_type": "code",
   "metadata": {
    "id": "85h9Bei-n_al",
    "executionInfo": {
     "status": "ok",
     "timestamp": 1628279905833,
     "user_tz": -120,
     "elapsed": 3643,
     "user": {
      "displayName": "Max Lamparth",
      "photoUrl": "https://lh3.googleusercontent.com/a-/AOh14GggONWhA_LZZ2SpKMaopk7rlmYZrhiQrouD31deaw=s64",
      "userId": "07608444463794873074"
     }
    }
   },
   "source": [
    "from resources import DEFAULT_PATHS\n",
    "from tests import test_environment_creation\n",
    "\n",
    "from tf_train_loop import TWTrainer\n",
    "\n",
    "%load_ext autoreload\n",
    "%autoreload 2"
   ],
   "execution_count": 2,
   "outputs": []
  },
  {
   "cell_type": "markdown",
   "metadata": {
    "id": "LpLGgA5Xk2NE"
   },
   "source": [
    "## Generate games\n",
    "\n",
    "\n",
    "Generate simple debug game and large dataset of train and eval games."
   ]
  },
  {
   "cell_type": "code",
   "metadata": {
    "id": "svdyaH5irbYK"
   },
   "source": [
    "os.chdir(\"/content/drive/MyDrive/DeepLearningNLP/scripts/\")"
   ],
   "execution_count": null,
   "outputs": []
  },
  {
   "cell_type": "markdown",
   "metadata": {
    "collapsed": false,
    "id": "SrYIrqxSWDXB"
   },
   "source": [
    "Will create single debug game. This is necessary."
   ]
  },
  {
   "cell_type": "code",
   "metadata": {
    "colab": {
     "base_uri": "https://localhost:8080/"
    },
    "id": "AMXxZfzGk_fV",
    "executionInfo": {
     "status": "ok",
     "timestamp": 1627671800034,
     "user_tz": -120,
     "elapsed": 5099,
     "user": {
      "displayName": "Max Lamparth",
      "photoUrl": "https://lh3.googleusercontent.com/a-/AOh14GggONWhA_LZZ2SpKMaopk7rlmYZrhiQrouD31deaw=s64",
      "userId": "07608444463794873074"
     }
    },
    "outputId": "f7f54138-bacb-40b1-c461-694920680ed9"
   },
   "source": [
    "%%shell\n",
    "bash ./make_debug_game.sh"
   ],
   "execution_count": null,
   "outputs": [
    {
     "output_type": "stream",
     "text": [
      "Global seed: 2021\n",
      "Game generated: /content/drive/My Drive/DeepLearningNLP/resources/game_th_lvl2_simple.ulx\n"
     ],
     "name": "stdout"
    },
    {
     "output_type": "execute_result",
     "data": {
      "text/plain": [
       ""
      ]
     },
     "metadata": {
      "tags": []
     },
     "execution_count": 4
    }
   ]
  },
  {
   "cell_type": "markdown",
   "metadata": {
    "collapsed": false,
    "id": "kf4MPEHJWDXD"
   },
   "source": [
    "Only run this if necessary. Depending on system will take hours."
   ]
  },
  {
   "cell_type": "code",
   "metadata": {
    "id": "tc9fq9C8n9q1"
   },
   "source": [
    "%%capture\n",
    "%%shell\n",
    "bash ./make_allgames.sh"
   ],
   "execution_count": null,
   "outputs": []
  },
  {
   "cell_type": "code",
   "metadata": {
    "id": "bX23AdS2riOI"
   },
   "source": [
    "os.chdir(\"/content/drive/MyDrive/DeepLearningNLP/\")"
   ],
   "execution_count": null,
   "outputs": []
  },
  {
   "cell_type": "markdown",
   "metadata": {
    "id": "qhIxLnjvWzLh"
   },
   "source": [
    "## Play a game yourself"
   ]
  },
  {
   "cell_type": "code",
   "metadata": {
    "id": "X0opeYnDWyU2",
    "executionInfo": {
     "status": "ok",
     "timestamp": 1628268535872,
     "user_tz": -120,
     "elapsed": 200,
     "user": {
      "displayName": "Max Lamparth",
      "photoUrl": "https://lh3.googleusercontent.com/a-/AOh14GggONWhA_LZZ2SpKMaopk7rlmYZrhiQrouD31deaw=s64",
      "userId": "07608444463794873074"
     }
    }
   },
   "source": [
    "os.chdir(\"/content/drive/MyDrive/DeepLearningNLP/resources/train_games_lvl4/\")"
   ],
   "execution_count": 11,
   "outputs": []
  },
  {
   "cell_type": "code",
   "metadata": {
    "colab": {
     "base_uri": "https://localhost:8080/"
    },
    "id": "T52VYpKFW_Bl",
    "executionInfo": {
     "status": "ok",
     "timestamp": 1628270436428,
     "user_tz": -120,
     "elapsed": 1502239,
     "user": {
      "displayName": "Max Lamparth",
      "photoUrl": "https://lh3.googleusercontent.com/a-/AOh14GggONWhA_LZZ2SpKMaopk7rlmYZrhiQrouD31deaw=s64",
      "userId": "07608444463794873074"
     }
    },
    "outputId": "b011c674-085e-4724-eb06-46c5b0b265bf"
   },
   "source": [
    "!tw-play game_th_lvl4_10.ulx"
   ],
   "execution_count": 12,
   "outputs": [
    {
     "output_type": "stream",
     "text": [
      "Using TWInform7.\n",
      "\n",
      "\n",
      "\n",
      "\n",
      "                    ________  ________  __    __  ________\n",
      "                   |        \\|        \\|  \\  |  \\|        \\\n",
      "                    \\$$$$$$$$| $$$$$$$$| $$  | $$ \\$$$$$$$$\n",
      "                      | $$   | $$__     \\$$\\/  $$   | $$\n",
      "                      | $$   | $$  \\     >$$  $$    | $$\n",
      "                      | $$   | $$$$$    /  $$$$\\    | $$\n",
      "                      | $$   | $$_____ |  $$ \\$$\\   | $$\n",
      "                      | $$   | $$     \\| $$  | $$   | $$\n",
      "                       \\$$    \\$$$$$$$$ \\$$   \\$$    \\$$\n",
      "              __       __   ______   _______   __        _______\n",
      "             |  \\  _  |  \\ /      \\ |       \\ |  \\      |       \\\n",
      "             | $$ / \\ | $$|  $$$$$$\\| $$$$$$$\\| $$      | $$$$$$$\\\n",
      "             | $$/  $\\| $$| $$  | $$| $$__| $$| $$      | $$  | $$\n",
      "             | $$  $$$\\ $$| $$  | $$| $$    $$| $$      | $$  | $$\n",
      "             | $$ $$\\$$\\$$| $$  | $$| $$$$$$$\\| $$      | $$  | $$\n",
      "             | $$$$  \\$$$$| $$__/ $$| $$  | $$| $$_____ | $$__/ $$\n",
      "             | $$$    \\$$$ \\$$    $$| $$  | $$| $$     \\| $$    $$\n",
      "              \\$$      \\$$  \\$$$$$$  \\$$   \\$$ \\$$$$$$$$ \\$$$$$$$\n",
      "\n",
      "Get ready to pick stuff up and put it in places, because you've just entered\n",
      "TextWorld! Here is your task for today. First stop, make an effort to go west.\n",
      "And then, lift the carrot from the floor of the chamber. Once that's all\n",
      "handled, you can stop!\n",
      "\n",
      "-= Bedchamber =-\n",
      "Well, here we are in the bedchamber.\n",
      "\n",
      "\n",
      "\n",
      "There is an unblocked exit to the north. There is an unblocked exit to the west.\n",
      "\n",
      "Available actions: ['go north', 'go west', 'inventory', 'look']\n",
      "\n",
      "> Traceback (most recent call last):\n",
      "  File \"/usr/local/bin/tw-play\", line 81, in <module>\n",
      "    main()\n",
      "  File \"/usr/local/bin/tw-play\", line 67, in main\n",
      "    command = agent.act(game_state, reward, done)\n",
      "  File \"/usr/local/lib/python3.7/dist-packages/textworld/agents/human.py\", line 67, in act\n",
      "    action = input('> ')\n",
      "KeyboardInterrupt\n",
      "^C\n"
     ],
     "name": "stdout"
    }
   ]
  },
  {
   "cell_type": "code",
   "metadata": {
    "id": "JBm0aLP0W-je"
   },
   "source": [
    "os.chdir(\"/content/drive/MyDrive/DeepLearningNLP/\")"
   ],
   "execution_count": null,
   "outputs": []
  },
  {
   "cell_type": "markdown",
   "metadata": {
    "id": "i2kCbHw2QeVX"
   },
   "source": [
    "# Test environment"
   ]
  },
  {
   "cell_type": "code",
   "metadata": {
    "id": "HawL9R4V6AYJ",
    "colab": {
     "base_uri": "https://localhost:8080/"
    },
    "executionInfo": {
     "status": "ok",
     "timestamp": 1628271285899,
     "user_tz": -120,
     "elapsed": 1711,
     "user": {
      "displayName": "Max Lamparth",
      "photoUrl": "https://lh3.googleusercontent.com/a-/AOh14GggONWhA_LZZ2SpKMaopk7rlmYZrhiQrouD31deaw=s64",
      "userId": "07608444463794873074"
     }
    },
    "outputId": "5b75e46f-3dd2-4918-b8fa-da2671ba2417"
   },
   "source": [
    "test_environment_creation()"
   ],
   "execution_count": 3,
   "outputs": [
    {
     "output_type": "stream",
     "text": [
      "Starting new game.\n",
      "{'score': 0, 'done': False, 'won': False, 'lost': False, 'obs': \"-= Parlor =-\\nYou've just shown up in a parlor.\\n\\n\\n\\nThere is an exit to the east. Don't worry, it is unblocked.\\n\\nThere is a blueberry and a controller on the floor.\\n\\n\", 'description': \"-= Parlor =-\\nYou've just shown up in a parlor.\\n\\n\\n\\nThere is an exit to the east. Don't worry, it is unblocked.\\n\\nThere is a blueberry and a controller on the floor.\", 'inventory': 'You are carrying nothing.', 'admissible_commands': ['examine blueberry', 'examine controller', 'go east', 'inventory', 'look', 'take blueberry', 'take controller'], 'entities': ['blueberry', 'controller', 'north', 'south', 'east', 'west'], 'objective': \"It's time to explore the amazing world of TextWorld! Your task for today is to lift the controller from the floor of the parlor.\"}\n",
      "Doing: take clove\n",
      "{'score': 0, 'done': False, 'won': False, 'lost': False, 'obs': \"You can't see any such thing.\\n\", 'description': \"-= Parlor =-\\nYou've just shown up in a parlor.\\n\\n\\n\\nThere is an exit to the east. Don't worry, it is unblocked.\\n\\nThere is a blueberry and a controller on the floor.\", 'inventory': 'You are carrying nothing.', 'admissible_commands': ['examine blueberry', 'examine controller', 'go east', 'inventory', 'look', 'take blueberry', 'take controller'], 'entities': ['blueberry', 'controller', 'north', 'south', 'east', 'west'], 'objective': \"It's time to explore the amazing world of TextWorld! Your task for today is to lift the controller from the floor of the parlor.\"}\n",
      "Reward = 1\n",
      "Doing: go mouse\n",
      "{'score': 0, 'done': False, 'won': False, 'lost': False, 'obs': \"You can't see any such thing.\\n\", 'description': \"-= Parlor =-\\nYou've just shown up in a parlor.\\n\\n\\n\\nThere is an exit to the east. Don't worry, it is unblocked.\\n\\nThere is a blueberry and a controller on the floor.\", 'inventory': 'You are carrying nothing.', 'admissible_commands': ['examine blueberry', 'examine controller', 'go east', 'inventory', 'look', 'take blueberry', 'take controller'], 'entities': ['blueberry', 'controller', 'north', 'south', 'east', 'west'], 'objective': \"It's time to explore the amazing world of TextWorld! Your task for today is to lift the controller from the floor of the parlor.\"}\n",
      "Reward = -1\n",
      "Doing: open earwigs\n",
      "{'score': 0, 'done': False, 'won': False, 'lost': False, 'obs': \"You can't see any such thing.\\n\", 'description': \"-= Parlor =-\\nYou've just shown up in a parlor.\\n\\n\\n\\nThere is an exit to the east. Don't worry, it is unblocked.\\n\\nThere is a blueberry and a controller on the floor.\", 'inventory': 'You are carrying nothing.', 'admissible_commands': ['examine blueberry', 'examine controller', 'go east', 'inventory', 'look', 'take blueberry', 'take controller'], 'entities': ['blueberry', 'controller', 'north', 'south', 'east', 'west'], 'objective': \"It's time to explore the amazing world of TextWorld! Your task for today is to lift the controller from the floor of the parlor.\"}\n",
      "Reward = -3\n",
      "Doing: put strip\n",
      "{'score': 0, 'done': False, 'won': False, 'lost': False, 'obs': \"You can't see any such thing.\\n\", 'description': \"-= Parlor =-\\nYou've just shown up in a parlor.\\n\\n\\n\\nThere is an exit to the east. Don't worry, it is unblocked.\\n\\nThere is a blueberry and a controller on the floor.\", 'inventory': 'You are carrying nothing.', 'admissible_commands': ['examine blueberry', 'examine controller', 'go east', 'inventory', 'look', 'take blueberry', 'take controller'], 'entities': ['blueberry', 'controller', 'north', 'south', 'east', 'west'], 'objective': \"It's time to explore the amazing world of TextWorld! Your task for today is to lift the controller from the floor of the parlor.\"}\n",
      "Reward = -4\n",
      "Doing: examine strawberry\n",
      "{'score': 0, 'done': False, 'won': False, 'lost': False, 'obs': \"You can't see any such thing.\\n\", 'description': \"-= Parlor =-\\nYou've just shown up in a parlor.\\n\\n\\n\\nThere is an exit to the east. Don't worry, it is unblocked.\\n\\nThere is a blueberry and a controller on the floor.\", 'inventory': 'You are carrying nothing.', 'admissible_commands': ['examine blueberry', 'examine controller', 'go east', 'inventory', 'look', 'take blueberry', 'take controller'], 'entities': ['blueberry', 'controller', 'north', 'south', 'east', 'west'], 'objective': \"It's time to explore the amazing world of TextWorld! Your task for today is to lift the controller from the floor of the parlor.\"}\n",
      "Reward = -4\n",
      "Doing: put scarf\n",
      "{'score': 0, 'done': False, 'won': False, 'lost': False, 'obs': \"You can't see any such thing.\\n\", 'description': \"-= Parlor =-\\nYou've just shown up in a parlor.\\n\\n\\n\\nThere is an exit to the east. Don't worry, it is unblocked.\\n\\nThere is a blueberry and a controller on the floor.\", 'inventory': 'You are carrying nothing.', 'admissible_commands': ['examine blueberry', 'examine controller', 'go east', 'inventory', 'look', 'take blueberry', 'take controller'], 'entities': ['blueberry', 'controller', 'north', 'south', 'east', 'west'], 'objective': \"It's time to explore the amazing world of TextWorld! Your task for today is to lift the controller from the floor of the parlor.\"}\n",
      "Reward = -6\n",
      "Doing: unlock tv\n",
      "{'score': 0, 'done': False, 'won': False, 'lost': False, 'obs': \"You can't see any such thing.\\n\", 'description': \"-= Parlor =-\\nYou've just shown up in a parlor.\\n\\n\\n\\nThere is an exit to the east. Don't worry, it is unblocked.\\n\\nThere is a blueberry and a controller on the floor.\", 'inventory': 'You are carrying nothing.', 'admissible_commands': ['examine blueberry', 'examine controller', 'go east', 'inventory', 'look', 'take blueberry', 'take controller'], 'entities': ['blueberry', 'controller', 'north', 'south', 'east', 'west'], 'objective': \"It's time to explore the amazing world of TextWorld! Your task for today is to lift the controller from the floor of the parlor.\"}\n",
      "Reward = -6\n",
      "Doing: examine whisk\n",
      "{'score': 0, 'done': False, 'won': False, 'lost': False, 'obs': \"You can't see any such thing.\\n\", 'description': \"-= Parlor =-\\nYou've just shown up in a parlor.\\n\\n\\n\\nThere is an exit to the east. Don't worry, it is unblocked.\\n\\nThere is a blueberry and a controller on the floor.\", 'inventory': 'You are carrying nothing.', 'admissible_commands': ['examine blueberry', 'examine controller', 'go east', 'inventory', 'look', 'take blueberry', 'take controller'], 'entities': ['blueberry', 'controller', 'north', 'south', 'east', 'west'], 'objective': \"It's time to explore the amazing world of TextWorld! Your task for today is to lift the controller from the floor of the parlor.\"}\n",
      "Reward = -5\n",
      "Doing: go monitor\n",
      "{'score': 0, 'done': False, 'won': False, 'lost': False, 'obs': \"You can't see any such thing.\\n\", 'description': \"-= Parlor =-\\nYou've just shown up in a parlor.\\n\\n\\n\\nThere is an exit to the east. Don't worry, it is unblocked.\\n\\nThere is a blueberry and a controller on the floor.\", 'inventory': 'You are carrying nothing.', 'admissible_commands': ['examine blueberry', 'examine controller', 'go east', 'inventory', 'look', 'take blueberry', 'take controller'], 'entities': ['blueberry', 'controller', 'north', 'south', 'east', 'west'], 'objective': \"It's time to explore the amazing world of TextWorld! Your task for today is to lift the controller from the floor of the parlor.\"}\n",
      "Reward = -5\n",
      "Doing: go cashew\n",
      "{'score': 0, 'done': False, 'won': False, 'lost': False, 'obs': \"You can't see any such thing.\\n\", 'description': \"-= Parlor =-\\nYou've just shown up in a parlor.\\n\\n\\n\\nThere is an exit to the east. Don't worry, it is unblocked.\\n\\nThere is a blueberry and a controller on the floor.\", 'inventory': 'You are carrying nothing.', 'admissible_commands': ['examine blueberry', 'examine controller', 'go east', 'inventory', 'look', 'take blueberry', 'take controller'], 'entities': ['blueberry', 'controller', 'north', 'south', 'east', 'west'], 'objective': \"It's time to explore the amazing world of TextWorld! Your task for today is to lift the controller from the floor of the parlor.\"}\n",
      "Reward = -5\n",
      "Doing: go lampshade\n",
      "{'score': 0, 'done': False, 'won': False, 'lost': False, 'obs': \"You can't see any such thing.\\n\", 'description': \"-= Parlor =-\\nYou've just shown up in a parlor.\\n\\n\\n\\nThere is an exit to the east. Don't worry, it is unblocked.\\n\\nThere is a blueberry and a controller on the floor.\", 'inventory': 'You are carrying nothing.', 'admissible_commands': ['examine blueberry', 'examine controller', 'go east', 'inventory', 'look', 'take blueberry', 'take controller'], 'entities': ['blueberry', 'controller', 'north', 'south', 'east', 'west'], 'objective': \"It's time to explore the amazing world of TextWorld! Your task for today is to lift the controller from the floor of the parlor.\"}\n",
      "Reward = -5\n",
      "Doing: examine kittens\n",
      "{'score': 0, 'done': False, 'won': False, 'lost': False, 'obs': \"You can't see any such thing.\\n\", 'description': \"-= Parlor =-\\nYou've just shown up in a parlor.\\n\\n\\n\\nThere is an exit to the east. Don't worry, it is unblocked.\\n\\nThere is a blueberry and a controller on the floor.\", 'inventory': 'You are carrying nothing.', 'admissible_commands': ['examine blueberry', 'examine controller', 'go east', 'inventory', 'look', 'take blueberry', 'take controller'], 'entities': ['blueberry', 'controller', 'north', 'south', 'east', 'west'], 'objective': \"It's time to explore the amazing world of TextWorld! Your task for today is to lift the controller from the floor of the parlor.\"}\n",
      "Reward = -5\n",
      "Doing: take fondue\n",
      "{'score': 0, 'done': False, 'won': False, 'lost': False, 'obs': \"You can't see any such thing.\\n\", 'description': \"-= Parlor =-\\nYou've just shown up in a parlor.\\n\\n\\n\\nThere is an exit to the east. Don't worry, it is unblocked.\\n\\nThere is a blueberry and a controller on the floor.\", 'inventory': 'You are carrying nothing.', 'admissible_commands': ['examine blueberry', 'examine controller', 'go east', 'inventory', 'look', 'take blueberry', 'take controller'], 'entities': ['blueberry', 'controller', 'north', 'south', 'east', 'west'], 'objective': \"It's time to explore the amazing world of TextWorld! Your task for today is to lift the controller from the floor of the parlor.\"}\n",
      "Reward = -5\n",
      "Doing: open cauliflower\n",
      "{'score': 0, 'done': False, 'won': False, 'lost': False, 'obs': \"You can't see any such thing.\\n\", 'description': \"-= Parlor =-\\nYou've just shown up in a parlor.\\n\\n\\n\\nThere is an exit to the east. Don't worry, it is unblocked.\\n\\nThere is a blueberry and a controller on the floor.\", 'inventory': 'You are carrying nothing.', 'admissible_commands': ['examine blueberry', 'examine controller', 'go east', 'inventory', 'look', 'take blueberry', 'take controller'], 'entities': ['blueberry', 'controller', 'north', 'south', 'east', 'west'], 'objective': \"It's time to explore the amazing world of TextWorld! Your task for today is to lift the controller from the floor of the parlor.\"}\n",
      "Reward = -6\n",
      "Doing: examine glass\n",
      "{'score': 0, 'done': False, 'won': False, 'lost': False, 'obs': \"You can't see any such thing.\\n\", 'description': \"-= Parlor =-\\nYou've just shown up in a parlor.\\n\\n\\n\\nThere is an exit to the east. Don't worry, it is unblocked.\\n\\nThere is a blueberry and a controller on the floor.\", 'inventory': 'You are carrying nothing.', 'admissible_commands': ['examine blueberry', 'examine controller', 'go east', 'inventory', 'look', 'take blueberry', 'take controller'], 'entities': ['blueberry', 'controller', 'north', 'south', 'east', 'west'], 'objective': \"It's time to explore the amazing world of TextWorld! Your task for today is to lift the controller from the floor of the parlor.\"}\n",
      "Reward = -5\n",
      "Doing: take cane\n",
      "{'score': 0, 'done': False, 'won': False, 'lost': False, 'obs': \"You can't see any such thing.\\n\", 'description': \"-= Parlor =-\\nYou've just shown up in a parlor.\\n\\n\\n\\nThere is an exit to the east. Don't worry, it is unblocked.\\n\\nThere is a blueberry and a controller on the floor.\", 'inventory': 'You are carrying nothing.', 'admissible_commands': ['examine blueberry', 'examine controller', 'go east', 'inventory', 'look', 'take blueberry', 'take controller'], 'entities': ['blueberry', 'controller', 'north', 'south', 'east', 'west'], 'objective': \"It's time to explore the amazing world of TextWorld! Your task for today is to lift the controller from the floor of the parlor.\"}\n",
      "Reward = -5\n",
      "Doing: open cd\n",
      "{'score': 0, 'done': False, 'won': False, 'lost': False, 'obs': \"You can't see any such thing.\\n\", 'description': \"-= Parlor =-\\nYou've just shown up in a parlor.\\n\\n\\n\\nThere is an exit to the east. Don't worry, it is unblocked.\\n\\nThere is a blueberry and a controller on the floor.\", 'inventory': 'You are carrying nothing.', 'admissible_commands': ['examine blueberry', 'examine controller', 'go east', 'inventory', 'look', 'take blueberry', 'take controller'], 'entities': ['blueberry', 'controller', 'north', 'south', 'east', 'west'], 'objective': \"It's time to explore the amazing world of TextWorld! Your task for today is to lift the controller from the floor of the parlor.\"}\n",
      "Reward = -6\n",
      "Doing: examine printer\n",
      "{'score': 0, 'done': False, 'won': False, 'lost': False, 'obs': \"You can't see any such thing.\\n\", 'description': \"-= Parlor =-\\nYou've just shown up in a parlor.\\n\\n\\n\\nThere is an exit to the east. Don't worry, it is unblocked.\\n\\nThere is a blueberry and a controller on the floor.\", 'inventory': 'You are carrying nothing.', 'admissible_commands': ['examine blueberry', 'examine controller', 'go east', 'inventory', 'look', 'take blueberry', 'take controller'], 'entities': ['blueberry', 'controller', 'north', 'south', 'east', 'west'], 'objective': \"It's time to explore the amazing world of TextWorld! Your task for today is to lift the controller from the floor of the parlor.\"}\n",
      "Reward = -5\n",
      "Doing: put puppies\n",
      "{'score': 0, 'done': False, 'won': False, 'lost': False, 'obs': \"You can't see any such thing.\\n\", 'description': \"-= Parlor =-\\nYou've just shown up in a parlor.\\n\\n\\n\\nThere is an exit to the east. Don't worry, it is unblocked.\\n\\nThere is a blueberry and a controller on the floor.\", 'inventory': 'You are carrying nothing.', 'admissible_commands': ['examine blueberry', 'examine controller', 'go east', 'inventory', 'look', 'take blueberry', 'take controller'], 'entities': ['blueberry', 'controller', 'north', 'south', 'east', 'west'], 'objective': \"It's time to explore the amazing world of TextWorld! Your task for today is to lift the controller from the floor of the parlor.\"}\n",
      "Reward = -6\n",
      "Doing: go computer\n",
      "{'score': 0, 'done': False, 'won': False, 'lost': False, 'obs': \"You can't see any such thing.\\n\", 'description': \"-= Parlor =-\\nYou've just shown up in a parlor.\\n\\n\\n\\nThere is an exit to the east. Don't worry, it is unblocked.\\n\\nThere is a blueberry and a controller on the floor.\", 'inventory': 'You are carrying nothing.', 'admissible_commands': ['examine blueberry', 'examine controller', 'go east', 'inventory', 'look', 'take blueberry', 'take controller'], 'entities': ['blueberry', 'controller', 'north', 'south', 'east', 'west'], 'objective': \"It's time to explore the amazing world of TextWorld! Your task for today is to lift the controller from the floor of the parlor.\"}\n",
      "Reward = -5\n",
      "Doing: take sandwich\n",
      "{'score': 0, 'done': False, 'won': False, 'lost': False, 'obs': \"You can't see any such thing.\\n\", 'description': \"-= Parlor =-\\nYou've just shown up in a parlor.\\n\\n\\n\\nThere is an exit to the east. Don't worry, it is unblocked.\\n\\nThere is a blueberry and a controller on the floor.\", 'inventory': 'You are carrying nothing.', 'admissible_commands': ['examine blueberry', 'examine controller', 'go east', 'inventory', 'look', 'take blueberry', 'take controller'], 'entities': ['blueberry', 'controller', 'north', 'south', 'east', 'west'], 'objective': \"It's time to explore the amazing world of TextWorld! Your task for today is to lift the controller from the floor of the parlor.\"}\n",
      "Reward = -5\n",
      "Doing: go lampshade\n",
      "{'score': 0, 'done': False, 'won': False, 'lost': False, 'obs': \"You can't see any such thing.\\n\", 'description': \"-= Parlor =-\\nYou've just shown up in a parlor.\\n\\n\\n\\nThere is an exit to the east. Don't worry, it is unblocked.\\n\\nThere is a blueberry and a controller on the floor.\", 'inventory': 'You are carrying nothing.', 'admissible_commands': ['examine blueberry', 'examine controller', 'go east', 'inventory', 'look', 'take blueberry', 'take controller'], 'entities': ['blueberry', 'controller', 'north', 'south', 'east', 'west'], 'objective': \"It's time to explore the amazing world of TextWorld! Your task for today is to lift the controller from the floor of the parlor.\"}\n",
      "Reward = -5\n",
      "Doing: open toads\n",
      "{'score': 0, 'done': False, 'won': False, 'lost': False, 'obs': \"You can't see any such thing.\\n\", 'description': \"-= Parlor =-\\nYou've just shown up in a parlor.\\n\\n\\n\\nThere is an exit to the east. Don't worry, it is unblocked.\\n\\nThere is a blueberry and a controller on the floor.\", 'inventory': 'You are carrying nothing.', 'admissible_commands': ['examine blueberry', 'examine controller', 'go east', 'inventory', 'look', 'take blueberry', 'take controller'], 'entities': ['blueberry', 'controller', 'north', 'south', 'east', 'west'], 'objective': \"It's time to explore the amazing world of TextWorld! Your task for today is to lift the controller from the floor of the parlor.\"}\n",
      "Reward = -6\n",
      "Doing: go broom\n",
      "{'score': 0, 'done': False, 'won': False, 'lost': False, 'obs': \"You can't see any such thing.\\n\", 'description': \"-= Parlor =-\\nYou've just shown up in a parlor.\\n\\n\\n\\nThere is an exit to the east. Don't worry, it is unblocked.\\n\\nThere is a blueberry and a controller on the floor.\", 'inventory': 'You are carrying nothing.', 'admissible_commands': ['examine blueberry', 'examine controller', 'go east', 'inventory', 'look', 'take blueberry', 'take controller'], 'entities': ['blueberry', 'controller', 'north', 'south', 'east', 'west'], 'objective': \"It's time to explore the amazing world of TextWorld! Your task for today is to lift the controller from the floor of the parlor.\"}\n",
      "Reward = -5\n",
      "Doing: unlock passkey\n",
      "{'score': 0, 'done': False, 'won': False, 'lost': False, 'obs': \"You can't see any such thing.\\n\", 'description': \"-= Parlor =-\\nYou've just shown up in a parlor.\\n\\n\\n\\nThere is an exit to the east. Don't worry, it is unblocked.\\n\\nThere is a blueberry and a controller on the floor.\", 'inventory': 'You are carrying nothing.', 'admissible_commands': ['examine blueberry', 'examine controller', 'go east', 'inventory', 'look', 'take blueberry', 'take controller'], 'entities': ['blueberry', 'controller', 'north', 'south', 'east', 'west'], 'objective': \"It's time to explore the amazing world of TextWorld! Your task for today is to lift the controller from the floor of the parlor.\"}\n",
      "Reward = -6\n",
      "Doing: open east\n",
      "{'score': 0, 'done': False, 'won': False, 'lost': False, 'obs': 'You must name something more substantial.\\n\\n', 'description': \"-= Parlor =-\\nYou've just shown up in a parlor.\\n\\n\\n\\nThere is an exit to the east. Don't worry, it is unblocked.\\n\\nThere is a blueberry and a controller on the floor.\", 'inventory': 'You are carrying nothing.', 'admissible_commands': ['examine blueberry', 'examine controller', 'go east', 'inventory', 'look', 'take blueberry', 'take controller'], 'entities': ['blueberry', 'controller', 'north', 'south', 'east', 'west'], 'objective': \"It's time to explore the amazing world of TextWorld! Your task for today is to lift the controller from the floor of the parlor.\"}\n",
      "Reward = -6\n",
      "Doing: unlock shoe\n",
      "{'score': 0, 'done': False, 'won': False, 'lost': False, 'obs': \"You can't see any such thing.\\n\", 'description': \"-= Parlor =-\\nYou've just shown up in a parlor.\\n\\n\\n\\nThere is an exit to the east. Don't worry, it is unblocked.\\n\\nThere is a blueberry and a controller on the floor.\", 'inventory': 'You are carrying nothing.', 'admissible_commands': ['examine blueberry', 'examine controller', 'go east', 'inventory', 'look', 'take blueberry', 'take controller'], 'entities': ['blueberry', 'controller', 'north', 'south', 'east', 'west'], 'objective': \"It's time to explore the amazing world of TextWorld! Your task for today is to lift the controller from the floor of the parlor.\"}\n",
      "Reward = -6\n",
      "Doing: take clove\n",
      "{'score': 0, 'done': False, 'won': False, 'lost': False, 'obs': \"You can't see any such thing.\\n\", 'description': \"-= Parlor =-\\nYou've just shown up in a parlor.\\n\\n\\n\\nThere is an exit to the east. Don't worry, it is unblocked.\\n\\nThere is a blueberry and a controller on the floor.\", 'inventory': 'You are carrying nothing.', 'admissible_commands': ['examine blueberry', 'examine controller', 'go east', 'inventory', 'look', 'take blueberry', 'take controller'], 'entities': ['blueberry', 'controller', 'north', 'south', 'east', 'west'], 'objective': \"It's time to explore the amazing world of TextWorld! Your task for today is to lift the controller from the floor of the parlor.\"}\n",
      "Reward = -5\n",
      "Doing: unlock shadfly\n",
      "{'score': 0, 'done': False, 'won': False, 'lost': False, 'obs': \"You can't see any such thing.\\n\", 'description': \"-= Parlor =-\\nYou've just shown up in a parlor.\\n\\n\\n\\nThere is an exit to the east. Don't worry, it is unblocked.\\n\\nThere is a blueberry and a controller on the floor.\", 'inventory': 'You are carrying nothing.', 'admissible_commands': ['examine blueberry', 'examine controller', 'go east', 'inventory', 'look', 'take blueberry', 'take controller'], 'entities': ['blueberry', 'controller', 'north', 'south', 'east', 'west'], 'objective': \"It's time to explore the amazing world of TextWorld! Your task for today is to lift the controller from the floor of the parlor.\"}\n",
      "Reward = -6\n",
      "Doing: take stapler\n",
      "{'score': 0, 'done': False, 'won': False, 'lost': False, 'obs': \"You can't see any such thing.\\n\", 'description': \"-= Parlor =-\\nYou've just shown up in a parlor.\\n\\n\\n\\nThere is an exit to the east. Don't worry, it is unblocked.\\n\\nThere is a blueberry and a controller on the floor.\", 'inventory': 'You are carrying nothing.', 'admissible_commands': ['examine blueberry', 'examine controller', 'go east', 'inventory', 'look', 'take blueberry', 'take controller'], 'entities': ['blueberry', 'controller', 'north', 'south', 'east', 'west'], 'objective': \"It's time to explore the amazing world of TextWorld! Your task for today is to lift the controller from the floor of the parlor.\"}\n",
      "Reward = -5\n",
      "Doing: open mug\n",
      "{'score': 0, 'done': False, 'won': False, 'lost': False, 'obs': \"You can't see any such thing.\\n\", 'description': \"-= Parlor =-\\nYou've just shown up in a parlor.\\n\\n\\n\\nThere is an exit to the east. Don't worry, it is unblocked.\\n\\nThere is a blueberry and a controller on the floor.\", 'inventory': 'You are carrying nothing.', 'admissible_commands': ['examine blueberry', 'examine controller', 'go east', 'inventory', 'look', 'take blueberry', 'take controller'], 'entities': ['blueberry', 'controller', 'north', 'south', 'east', 'west'], 'objective': \"It's time to explore the amazing world of TextWorld! Your task for today is to lift the controller from the floor of the parlor.\"}\n",
      "Reward = -6\n",
      "Doing: go pear\n",
      "{'score': 0, 'done': False, 'won': False, 'lost': False, 'obs': \"You can't see any such thing.\\n\", 'description': \"-= Parlor =-\\nYou've just shown up in a parlor.\\n\\n\\n\\nThere is an exit to the east. Don't worry, it is unblocked.\\n\\nThere is a blueberry and a controller on the floor.\", 'inventory': 'You are carrying nothing.', 'admissible_commands': ['examine blueberry', 'examine controller', 'go east', 'inventory', 'look', 'take blueberry', 'take controller'], 'entities': ['blueberry', 'controller', 'north', 'south', 'east', 'west'], 'objective': \"It's time to explore the amazing world of TextWorld! Your task for today is to lift the controller from the floor of the parlor.\"}\n",
      "Reward = -5\n",
      "Doing: open lingonberry\n",
      "{'score': 0, 'done': False, 'won': False, 'lost': False, 'obs': \"You can't see any such thing.\\n\", 'description': \"-= Parlor =-\\nYou've just shown up in a parlor.\\n\\n\\n\\nThere is an exit to the east. Don't worry, it is unblocked.\\n\\nThere is a blueberry and a controller on the floor.\", 'inventory': 'You are carrying nothing.', 'admissible_commands': ['examine blueberry', 'examine controller', 'go east', 'inventory', 'look', 'take blueberry', 'take controller'], 'entities': ['blueberry', 'controller', 'north', 'south', 'east', 'west'], 'objective': \"It's time to explore the amazing world of TextWorld! Your task for today is to lift the controller from the floor of the parlor.\"}\n",
      "Reward = -6\n",
      "Doing: go passkey\n",
      "{'score': 0, 'done': False, 'won': False, 'lost': False, 'obs': \"You can't see any such thing.\\n\", 'description': \"-= Parlor =-\\nYou've just shown up in a parlor.\\n\\n\\n\\nThere is an exit to the east. Don't worry, it is unblocked.\\n\\nThere is a blueberry and a controller on the floor.\", 'inventory': 'You are carrying nothing.', 'admissible_commands': ['examine blueberry', 'examine controller', 'go east', 'inventory', 'look', 'take blueberry', 'take controller'], 'entities': ['blueberry', 'controller', 'north', 'south', 'east', 'west'], 'objective': \"It's time to explore the amazing world of TextWorld! Your task for today is to lift the controller from the floor of the parlor.\"}\n",
      "Reward = -5\n",
      "Doing: go pillow\n",
      "{'score': 0, 'done': False, 'won': False, 'lost': False, 'obs': \"You can't see any such thing.\\n\", 'description': \"-= Parlor =-\\nYou've just shown up in a parlor.\\n\\n\\n\\nThere is an exit to the east. Don't worry, it is unblocked.\\n\\nThere is a blueberry and a controller on the floor.\", 'inventory': 'You are carrying nothing.', 'admissible_commands': ['examine blueberry', 'examine controller', 'go east', 'inventory', 'look', 'take blueberry', 'take controller'], 'entities': ['blueberry', 'controller', 'north', 'south', 'east', 'west'], 'objective': \"It's time to explore the amazing world of TextWorld! Your task for today is to lift the controller from the floor of the parlor.\"}\n",
      "Reward = -5\n",
      "Doing: examine toads\n",
      "{'score': 0, 'done': False, 'won': False, 'lost': False, 'obs': \"You can't see any such thing.\\n\", 'description': \"-= Parlor =-\\nYou've just shown up in a parlor.\\n\\n\\n\\nThere is an exit to the east. Don't worry, it is unblocked.\\n\\nThere is a blueberry and a controller on the floor.\", 'inventory': 'You are carrying nothing.', 'admissible_commands': ['examine blueberry', 'examine controller', 'go east', 'inventory', 'look', 'take blueberry', 'take controller'], 'entities': ['blueberry', 'controller', 'north', 'south', 'east', 'west'], 'objective': \"It's time to explore the amazing world of TextWorld! Your task for today is to lift the controller from the floor of the parlor.\"}\n",
      "Reward = -5\n",
      "Doing: examine cashew\n",
      "{'score': 0, 'done': False, 'won': False, 'lost': False, 'obs': \"You can't see any such thing.\\n\", 'description': \"-= Parlor =-\\nYou've just shown up in a parlor.\\n\\n\\n\\nThere is an exit to the east. Don't worry, it is unblocked.\\n\\nThere is a blueberry and a controller on the floor.\", 'inventory': 'You are carrying nothing.', 'admissible_commands': ['examine blueberry', 'examine controller', 'go east', 'inventory', 'look', 'take blueberry', 'take controller'], 'entities': ['blueberry', 'controller', 'north', 'south', 'east', 'west'], 'objective': \"It's time to explore the amazing world of TextWorld! Your task for today is to lift the controller from the floor of the parlor.\"}\n",
      "Reward = -5\n",
      "Doing: open coconut\n",
      "{'score': 0, 'done': False, 'won': False, 'lost': False, 'obs': \"You can't see any such thing.\\n\", 'description': \"-= Parlor =-\\nYou've just shown up in a parlor.\\n\\n\\n\\nThere is an exit to the east. Don't worry, it is unblocked.\\n\\nThere is a blueberry and a controller on the floor.\", 'inventory': 'You are carrying nothing.', 'admissible_commands': ['examine blueberry', 'examine controller', 'go east', 'inventory', 'look', 'take blueberry', 'take controller'], 'entities': ['blueberry', 'controller', 'north', 'south', 'east', 'west'], 'objective': \"It's time to explore the amazing world of TextWorld! Your task for today is to lift the controller from the floor of the parlor.\"}\n",
      "Reward = -6\n",
      "Doing: take east\n",
      "{'score': 0, 'done': False, 'won': False, 'lost': False, 'obs': 'You must name something more substantial.\\n\\n\\n', 'description': \"-= Parlor =-\\nYou've just shown up in a parlor.\\n\\n\\n\\nThere is an exit to the east. Don't worry, it is unblocked.\\n\\nThere is a blueberry and a controller on the floor.\", 'inventory': 'You are carrying nothing.', 'admissible_commands': ['examine blueberry', 'examine controller', 'go east', 'inventory', 'look', 'take blueberry', 'take controller'], 'entities': ['blueberry', 'controller', 'north', 'south', 'east', 'west'], 'objective': \"It's time to explore the amazing world of TextWorld! Your task for today is to lift the controller from the floor of the parlor.\"}\n",
      "Reward = -5\n",
      "Doing: unlock cloak\n",
      "{'score': 0, 'done': False, 'won': False, 'lost': False, 'obs': \"You can't see any such thing.\\n\", 'description': \"-= Parlor =-\\nYou've just shown up in a parlor.\\n\\n\\n\\nThere is an exit to the east. Don't worry, it is unblocked.\\n\\nThere is a blueberry and a controller on the floor.\", 'inventory': 'You are carrying nothing.', 'admissible_commands': ['examine blueberry', 'examine controller', 'go east', 'inventory', 'look', 'take blueberry', 'take controller'], 'entities': ['blueberry', 'controller', 'north', 'south', 'east', 'west'], 'objective': \"It's time to explore the amazing world of TextWorld! Your task for today is to lift the controller from the floor of the parlor.\"}\n",
      "Reward = -6\n",
      "Doing: put telephone\n",
      "{'score': 0, 'done': False, 'won': False, 'lost': False, 'obs': \"You can't see any such thing.\\n\", 'description': \"-= Parlor =-\\nYou've just shown up in a parlor.\\n\\n\\n\\nThere is an exit to the east. Don't worry, it is unblocked.\\n\\nThere is a blueberry and a controller on the floor.\", 'inventory': 'You are carrying nothing.', 'admissible_commands': ['examine blueberry', 'examine controller', 'go east', 'inventory', 'look', 'take blueberry', 'take controller'], 'entities': ['blueberry', 'controller', 'north', 'south', 'east', 'west'], 'objective': \"It's time to explore the amazing world of TextWorld! Your task for today is to lift the controller from the floor of the parlor.\"}\n",
      "Reward = -6\n",
      "Doing: open pants\n",
      "{'score': 0, 'done': False, 'won': False, 'lost': False, 'obs': \"You can't see any such thing.\\n\", 'description': \"-= Parlor =-\\nYou've just shown up in a parlor.\\n\\n\\n\\nThere is an exit to the east. Don't worry, it is unblocked.\\n\\nThere is a blueberry and a controller on the floor.\", 'inventory': 'You are carrying nothing.', 'admissible_commands': ['examine blueberry', 'examine controller', 'go east', 'inventory', 'look', 'take blueberry', 'take controller'], 'entities': ['blueberry', 'controller', 'north', 'south', 'east', 'west'], 'objective': \"It's time to explore the amazing world of TextWorld! Your task for today is to lift the controller from the floor of the parlor.\"}\n",
      "Reward = -6\n",
      "Doing: go west\n",
      "{'score': 0, 'done': False, 'won': False, 'lost': False, 'obs': \"You can't go that way.\\n\\n\", 'description': \"-= Parlor =-\\nYou've just shown up in a parlor.\\n\\n\\n\\nThere is an exit to the east. Don't worry, it is unblocked.\\n\\nThere is a blueberry and a controller on the floor.\", 'inventory': 'You are carrying nothing.', 'admissible_commands': ['examine blueberry', 'examine controller', 'go east', 'inventory', 'look', 'take blueberry', 'take controller'], 'entities': ['blueberry', 'controller', 'north', 'south', 'east', 'west'], 'objective': \"It's time to explore the amazing world of TextWorld! Your task for today is to lift the controller from the floor of the parlor.\"}\n",
      "Reward = -4\n",
      "Doing: go peanut\n",
      "{'score': 0, 'done': False, 'won': False, 'lost': False, 'obs': \"You can't see any such thing.\\n\", 'description': \"-= Parlor =-\\nYou've just shown up in a parlor.\\n\\n\\n\\nThere is an exit to the east. Don't worry, it is unblocked.\\n\\nThere is a blueberry and a controller on the floor.\", 'inventory': 'You are carrying nothing.', 'admissible_commands': ['examine blueberry', 'examine controller', 'go east', 'inventory', 'look', 'take blueberry', 'take controller'], 'entities': ['blueberry', 'controller', 'north', 'south', 'east', 'west'], 'objective': \"It's time to explore the amazing world of TextWorld! Your task for today is to lift the controller from the floor of the parlor.\"}\n",
      "Reward = -5\n",
      "Doing: go sandwich\n",
      "{'score': 0, 'done': False, 'won': False, 'lost': False, 'obs': \"You can't see any such thing.\\n\", 'description': \"-= Parlor =-\\nYou've just shown up in a parlor.\\n\\n\\n\\nThere is an exit to the east. Don't worry, it is unblocked.\\n\\nThere is a blueberry and a controller on the floor.\", 'inventory': 'You are carrying nothing.', 'admissible_commands': ['examine blueberry', 'examine controller', 'go east', 'inventory', 'look', 'take blueberry', 'take controller'], 'entities': ['blueberry', 'controller', 'north', 'south', 'east', 'west'], 'objective': \"It's time to explore the amazing world of TextWorld! Your task for today is to lift the controller from the floor of the parlor.\"}\n",
      "Reward = -5\n",
      "Doing: examine cashew\n",
      "{'score': 0, 'done': False, 'won': False, 'lost': False, 'obs': \"You can't see any such thing.\\n\", 'description': \"-= Parlor =-\\nYou've just shown up in a parlor.\\n\\n\\n\\nThere is an exit to the east. Don't worry, it is unblocked.\\n\\nThere is a blueberry and a controller on the floor.\", 'inventory': 'You are carrying nothing.', 'admissible_commands': ['examine blueberry', 'examine controller', 'go east', 'inventory', 'look', 'take blueberry', 'take controller'], 'entities': ['blueberry', 'controller', 'north', 'south', 'east', 'west'], 'objective': \"It's time to explore the amazing world of TextWorld! Your task for today is to lift the controller from the floor of the parlor.\"}\n",
      "Reward = -5\n",
      "Doing: examine burger\n",
      "{'score': 0, 'done': False, 'won': False, 'lost': False, 'obs': \"You can't see any such thing.\\n\", 'description': \"-= Parlor =-\\nYou've just shown up in a parlor.\\n\\n\\n\\nThere is an exit to the east. Don't worry, it is unblocked.\\n\\nThere is a blueberry and a controller on the floor.\", 'inventory': 'You are carrying nothing.', 'admissible_commands': ['examine blueberry', 'examine controller', 'go east', 'inventory', 'look', 'take blueberry', 'take controller'], 'entities': ['blueberry', 'controller', 'north', 'south', 'east', 'west'], 'objective': \"It's time to explore the amazing world of TextWorld! Your task for today is to lift the controller from the floor of the parlor.\"}\n",
      "Reward = -5\n",
      "Doing: unlock knife\n",
      "{'score': 0, 'done': False, 'won': False, 'lost': False, 'obs': \"You can't see any such thing.\\n\", 'description': \"-= Parlor =-\\nYou've just shown up in a parlor.\\n\\n\\n\\nThere is an exit to the east. Don't worry, it is unblocked.\\n\\nThere is a blueberry and a controller on the floor.\", 'inventory': 'You are carrying nothing.', 'admissible_commands': ['examine blueberry', 'examine controller', 'go east', 'inventory', 'look', 'take blueberry', 'take controller'], 'entities': ['blueberry', 'controller', 'north', 'south', 'east', 'west'], 'objective': \"It's time to explore the amazing world of TextWorld! Your task for today is to lift the controller from the floor of the parlor.\"}\n",
      "Reward = -6\n",
      "Doing: unlock insect\n",
      "{'score': 0, 'done': True, 'won': False, 'lost': False, 'obs': \"You can't see any such thing.\\n\", 'description': \"-= Parlor =-\\nYou've just shown up in a parlor.\\n\\n\\n\\nThere is an exit to the east. Don't worry, it is unblocked.\\n\\nThere is a blueberry and a controller on the floor.\", 'inventory': 'You are carrying nothing.', 'admissible_commands': ['examine blueberry', 'examine controller', 'go east', 'inventory', 'look', 'take blueberry', 'take controller'], 'entities': ['blueberry', 'controller', 'north', 'south', 'east', 'west'], 'objective': \"It's time to explore the amazing world of TextWorld! Your task for today is to lift the controller from the floor of the parlor.\"}\n",
      "Reward = -6\n",
      "Doing: examine toads\n",
      "{'score': 0, 'done': True, 'won': False, 'lost': False, 'obs': \"You can't see any such thing.\\n\", 'description': \"-= Parlor =-\\nYou've just shown up in a parlor.\\n\\n\\n\\nThere is an exit to the east. Don't worry, it is unblocked.\\n\\nThere is a blueberry and a controller on the floor.\", 'inventory': 'You are carrying nothing.', 'admissible_commands': ['examine blueberry', 'examine controller', 'go east', 'inventory', 'look', 'take blueberry', 'take controller'], 'entities': ['blueberry', 'controller', 'north', 'south', 'east', 'west'], 'objective': \"It's time to explore the amazing world of TextWorld! Your task for today is to lift the controller from the floor of the parlor.\"}\n",
      "Reward = -5\n",
      "Starting new game.\n",
      "{'score': 0, 'done': False, 'won': False, 'lost': False, 'obs': \"-= Parlor =-\\nYou've just shown up in a parlor.\\n\\n\\n\\nThere is an exit to the east. Don't worry, it is unblocked.\\n\\nThere is a blueberry and a controller on the floor.\\n\\n\", 'description': \"-= Parlor =-\\nYou've just shown up in a parlor.\\n\\n\\n\\nThere is an exit to the east. Don't worry, it is unblocked.\\n\\nThere is a blueberry and a controller on the floor.\", 'inventory': 'You are carrying nothing.', 'admissible_commands': ['examine blueberry', 'examine controller', 'go east', 'inventory', 'look', 'take blueberry', 'take controller'], 'entities': ['blueberry', 'controller', 'north', 'south', 'east', 'west'], 'objective': \"It's time to explore the amazing world of TextWorld! Your task for today is to lift the controller from the floor of the parlor.\"}\n",
      "Doing: examine cucumber\n",
      "{'score': 0, 'done': False, 'won': False, 'lost': False, 'obs': \"You can't see any such thing.\\n\", 'description': \"-= Parlor =-\\nYou've just shown up in a parlor.\\n\\n\\n\\nThere is an exit to the east. Don't worry, it is unblocked.\\n\\nThere is a blueberry and a controller on the floor.\", 'inventory': 'You are carrying nothing.', 'admissible_commands': ['examine blueberry', 'examine controller', 'go east', 'inventory', 'look', 'take blueberry', 'take controller'], 'entities': ['blueberry', 'controller', 'north', 'south', 'east', 'west'], 'objective': \"It's time to explore the amazing world of TextWorld! Your task for today is to lift the controller from the floor of the parlor.\"}\n",
      "Reward = -5\n",
      "Doing: open kiwi\n",
      "{'score': 0, 'done': False, 'won': False, 'lost': False, 'obs': \"You can't see any such thing.\\n\", 'description': \"-= Parlor =-\\nYou've just shown up in a parlor.\\n\\n\\n\\nThere is an exit to the east. Don't worry, it is unblocked.\\n\\nThere is a blueberry and a controller on the floor.\", 'inventory': 'You are carrying nothing.', 'admissible_commands': ['examine blueberry', 'examine controller', 'go east', 'inventory', 'look', 'take blueberry', 'take controller'], 'entities': ['blueberry', 'controller', 'north', 'south', 'east', 'west'], 'objective': \"It's time to explore the amazing world of TextWorld! Your task for today is to lift the controller from the floor of the parlor.\"}\n",
      "Reward = -6\n",
      "Doing: put legume\n",
      "{'score': 0, 'done': False, 'won': False, 'lost': False, 'obs': \"You can't see any such thing.\\n\", 'description': \"-= Parlor =-\\nYou've just shown up in a parlor.\\n\\n\\n\\nThere is an exit to the east. Don't worry, it is unblocked.\\n\\nThere is a blueberry and a controller on the floor.\", 'inventory': 'You are carrying nothing.', 'admissible_commands': ['examine blueberry', 'examine controller', 'go east', 'inventory', 'look', 'take blueberry', 'take controller'], 'entities': ['blueberry', 'controller', 'north', 'south', 'east', 'west'], 'objective': \"It's time to explore the amazing world of TextWorld! Your task for today is to lift the controller from the floor of the parlor.\"}\n",
      "Reward = -6\n",
      "Doing: go hat\n",
      "{'score': 0, 'done': False, 'won': False, 'lost': False, 'obs': \"You can't see any such thing.\\n\", 'description': \"-= Parlor =-\\nYou've just shown up in a parlor.\\n\\n\\n\\nThere is an exit to the east. Don't worry, it is unblocked.\\n\\nThere is a blueberry and a controller on the floor.\", 'inventory': 'You are carrying nothing.', 'admissible_commands': ['examine blueberry', 'examine controller', 'go east', 'inventory', 'look', 'take blueberry', 'take controller'], 'entities': ['blueberry', 'controller', 'north', 'south', 'east', 'west'], 'objective': \"It's time to explore the amazing world of TextWorld! Your task for today is to lift the controller from the floor of the parlor.\"}\n",
      "Reward = -5\n",
      "Doing: examine mouse\n",
      "{'score': 0, 'done': False, 'won': False, 'lost': False, 'obs': \"You can't see any such thing.\\n\", 'description': \"-= Parlor =-\\nYou've just shown up in a parlor.\\n\\n\\n\\nThere is an exit to the east. Don't worry, it is unblocked.\\n\\nThere is a blueberry and a controller on the floor.\", 'inventory': 'You are carrying nothing.', 'admissible_commands': ['examine blueberry', 'examine controller', 'go east', 'inventory', 'look', 'take blueberry', 'take controller'], 'entities': ['blueberry', 'controller', 'north', 'south', 'east', 'west'], 'objective': \"It's time to explore the amazing world of TextWorld! Your task for today is to lift the controller from the floor of the parlor.\"}\n",
      "Reward = -5\n",
      "Doing: take cashew\n",
      "{'score': 0, 'done': False, 'won': False, 'lost': False, 'obs': \"You can't see any such thing.\\n\", 'description': \"-= Parlor =-\\nYou've just shown up in a parlor.\\n\\n\\n\\nThere is an exit to the east. Don't worry, it is unblocked.\\n\\nThere is a blueberry and a controller on the floor.\", 'inventory': 'You are carrying nothing.', 'admissible_commands': ['examine blueberry', 'examine controller', 'go east', 'inventory', 'look', 'take blueberry', 'take controller'], 'entities': ['blueberry', 'controller', 'north', 'south', 'east', 'west'], 'objective': \"It's time to explore the amazing world of TextWorld! Your task for today is to lift the controller from the floor of the parlor.\"}\n",
      "Reward = -5\n",
      "Doing: examine larva\n",
      "{'score': 0, 'done': False, 'won': False, 'lost': False, 'obs': \"You can't see any such thing.\\n\", 'description': \"-= Parlor =-\\nYou've just shown up in a parlor.\\n\\n\\n\\nThere is an exit to the east. Don't worry, it is unblocked.\\n\\nThere is a blueberry and a controller on the floor.\", 'inventory': 'You are carrying nothing.', 'admissible_commands': ['examine blueberry', 'examine controller', 'go east', 'inventory', 'look', 'take blueberry', 'take controller'], 'entities': ['blueberry', 'controller', 'north', 'south', 'east', 'west'], 'objective': \"It's time to explore the amazing world of TextWorld! Your task for today is to lift the controller from the floor of the parlor.\"}\n",
      "Reward = -5\n",
      "Doing: open bats\n",
      "{'score': 0, 'done': False, 'won': False, 'lost': False, 'obs': \"You can't see any such thing.\\n\", 'description': \"-= Parlor =-\\nYou've just shown up in a parlor.\\n\\n\\n\\nThere is an exit to the east. Don't worry, it is unblocked.\\n\\nThere is a blueberry and a controller on the floor.\", 'inventory': 'You are carrying nothing.', 'admissible_commands': ['examine blueberry', 'examine controller', 'go east', 'inventory', 'look', 'take blueberry', 'take controller'], 'entities': ['blueberry', 'controller', 'north', 'south', 'east', 'west'], 'objective': \"It's time to explore the amazing world of TextWorld! Your task for today is to lift the controller from the floor of the parlor.\"}\n",
      "Reward = -6\n",
      "Doing: take whisk\n",
      "{'score': 0, 'done': False, 'won': False, 'lost': False, 'obs': \"You can't see any such thing.\\n\", 'description': \"-= Parlor =-\\nYou've just shown up in a parlor.\\n\\n\\n\\nThere is an exit to the east. Don't worry, it is unblocked.\\n\\nThere is a blueberry and a controller on the floor.\", 'inventory': 'You are carrying nothing.', 'admissible_commands': ['examine blueberry', 'examine controller', 'go east', 'inventory', 'look', 'take blueberry', 'take controller'], 'entities': ['blueberry', 'controller', 'north', 'south', 'east', 'west'], 'objective': \"It's time to explore the amazing world of TextWorld! Your task for today is to lift the controller from the floor of the parlor.\"}\n",
      "Reward = -5\n",
      "Doing: put synthesizer\n",
      "{'score': 0, 'done': False, 'won': False, 'lost': False, 'obs': \"You can't see any such thing.\\n\", 'description': \"-= Parlor =-\\nYou've just shown up in a parlor.\\n\\n\\n\\nThere is an exit to the east. Don't worry, it is unblocked.\\n\\nThere is a blueberry and a controller on the floor.\", 'inventory': 'You are carrying nothing.', 'admissible_commands': ['examine blueberry', 'examine controller', 'go east', 'inventory', 'look', 'take blueberry', 'take controller'], 'entities': ['blueberry', 'controller', 'north', 'south', 'east', 'west'], 'objective': \"It's time to explore the amazing world of TextWorld! Your task for today is to lift the controller from the floor of the parlor.\"}\n",
      "Reward = -6\n",
      "Doing: open club\n",
      "{'score': 0, 'done': False, 'won': False, 'lost': False, 'obs': \"You can't see any such thing.\\n\", 'description': \"-= Parlor =-\\nYou've just shown up in a parlor.\\n\\n\\n\\nThere is an exit to the east. Don't worry, it is unblocked.\\n\\nThere is a blueberry and a controller on the floor.\", 'inventory': 'You are carrying nothing.', 'admissible_commands': ['examine blueberry', 'examine controller', 'go east', 'inventory', 'look', 'take blueberry', 'take controller'], 'entities': ['blueberry', 'controller', 'north', 'south', 'east', 'west'], 'objective': \"It's time to explore the amazing world of TextWorld! Your task for today is to lift the controller from the floor of the parlor.\"}\n",
      "Reward = -6\n",
      "Doing: go bread\n",
      "{'score': 0, 'done': False, 'won': False, 'lost': False, 'obs': \"You can't see any such thing.\\n\", 'description': \"-= Parlor =-\\nYou've just shown up in a parlor.\\n\\n\\n\\nThere is an exit to the east. Don't worry, it is unblocked.\\n\\nThere is a blueberry and a controller on the floor.\", 'inventory': 'You are carrying nothing.', 'admissible_commands': ['examine blueberry', 'examine controller', 'go east', 'inventory', 'look', 'take blueberry', 'take controller'], 'entities': ['blueberry', 'controller', 'north', 'south', 'east', 'west'], 'objective': \"It's time to explore the amazing world of TextWorld! Your task for today is to lift the controller from the floor of the parlor.\"}\n",
      "Reward = -5\n",
      "Doing: go grape\n",
      "{'score': 0, 'done': False, 'won': False, 'lost': False, 'obs': \"You can't see any such thing.\\n\", 'description': \"-= Parlor =-\\nYou've just shown up in a parlor.\\n\\n\\n\\nThere is an exit to the east. Don't worry, it is unblocked.\\n\\nThere is a blueberry and a controller on the floor.\", 'inventory': 'You are carrying nothing.', 'admissible_commands': ['examine blueberry', 'examine controller', 'go east', 'inventory', 'look', 'take blueberry', 'take controller'], 'entities': ['blueberry', 'controller', 'north', 'south', 'east', 'west'], 'objective': \"It's time to explore the amazing world of TextWorld! Your task for today is to lift the controller from the floor of the parlor.\"}\n",
      "Reward = -5\n",
      "Doing: take grubs\n",
      "{'score': 0, 'done': False, 'won': False, 'lost': False, 'obs': \"You can't see any such thing.\\n\", 'description': \"-= Parlor =-\\nYou've just shown up in a parlor.\\n\\n\\n\\nThere is an exit to the east. Don't worry, it is unblocked.\\n\\nThere is a blueberry and a controller on the floor.\", 'inventory': 'You are carrying nothing.', 'admissible_commands': ['examine blueberry', 'examine controller', 'go east', 'inventory', 'look', 'take blueberry', 'take controller'], 'entities': ['blueberry', 'controller', 'north', 'south', 'east', 'west'], 'objective': \"It's time to explore the amazing world of TextWorld! Your task for today is to lift the controller from the floor of the parlor.\"}\n",
      "Reward = -5\n",
      "Doing: unlock napkin\n",
      "{'score': 0, 'done': False, 'won': False, 'lost': False, 'obs': \"You can't see any such thing.\\n\", 'description': \"-= Parlor =-\\nYou've just shown up in a parlor.\\n\\n\\n\\nThere is an exit to the east. Don't worry, it is unblocked.\\n\\nThere is a blueberry and a controller on the floor.\", 'inventory': 'You are carrying nothing.', 'admissible_commands': ['examine blueberry', 'examine controller', 'go east', 'inventory', 'look', 'take blueberry', 'take controller'], 'entities': ['blueberry', 'controller', 'north', 'south', 'east', 'west'], 'objective': \"It's time to explore the amazing world of TextWorld! Your task for today is to lift the controller from the floor of the parlor.\"}\n",
      "Reward = -6\n",
      "Doing: go west\n",
      "{'score': 0, 'done': False, 'won': False, 'lost': False, 'obs': \"You can't go that way.\\n\\n\", 'description': \"-= Parlor =-\\nYou've just shown up in a parlor.\\n\\n\\n\\nThere is an exit to the east. Don't worry, it is unblocked.\\n\\nThere is a blueberry and a controller on the floor.\", 'inventory': 'You are carrying nothing.', 'admissible_commands': ['examine blueberry', 'examine controller', 'go east', 'inventory', 'look', 'take blueberry', 'take controller'], 'entities': ['blueberry', 'controller', 'north', 'south', 'east', 'west'], 'objective': \"It's time to explore the amazing world of TextWorld! Your task for today is to lift the controller from the floor of the parlor.\"}\n",
      "Reward = -4\n",
      "Doing: unlock latchkey\n",
      "{'score': 0, 'done': False, 'won': False, 'lost': False, 'obs': \"You can't see any such thing.\\n\", 'description': \"-= Parlor =-\\nYou've just shown up in a parlor.\\n\\n\\n\\nThere is an exit to the east. Don't worry, it is unblocked.\\n\\nThere is a blueberry and a controller on the floor.\", 'inventory': 'You are carrying nothing.', 'admissible_commands': ['examine blueberry', 'examine controller', 'go east', 'inventory', 'look', 'take blueberry', 'take controller'], 'entities': ['blueberry', 'controller', 'north', 'south', 'east', 'west'], 'objective': \"It's time to explore the amazing world of TextWorld! Your task for today is to lift the controller from the floor of the parlor.\"}\n",
      "Reward = -6\n",
      "Doing: unlock bowl\n",
      "{'score': 0, 'done': False, 'won': False, 'lost': False, 'obs': \"You can't see any such thing.\\n\", 'description': \"-= Parlor =-\\nYou've just shown up in a parlor.\\n\\n\\n\\nThere is an exit to the east. Don't worry, it is unblocked.\\n\\nThere is a blueberry and a controller on the floor.\", 'inventory': 'You are carrying nothing.', 'admissible_commands': ['examine blueberry', 'examine controller', 'go east', 'inventory', 'look', 'take blueberry', 'take controller'], 'entities': ['blueberry', 'controller', 'north', 'south', 'east', 'west'], 'objective': \"It's time to explore the amazing world of TextWorld! Your task for today is to lift the controller from the floor of the parlor.\"}\n",
      "Reward = -6\n",
      "Doing: take mug\n",
      "{'score': 0, 'done': False, 'won': False, 'lost': False, 'obs': \"You can't see any such thing.\\n\", 'description': \"-= Parlor =-\\nYou've just shown up in a parlor.\\n\\n\\n\\nThere is an exit to the east. Don't worry, it is unblocked.\\n\\nThere is a blueberry and a controller on the floor.\", 'inventory': 'You are carrying nothing.', 'admissible_commands': ['examine blueberry', 'examine controller', 'go east', 'inventory', 'look', 'take blueberry', 'take controller'], 'entities': ['blueberry', 'controller', 'north', 'south', 'east', 'west'], 'objective': \"It's time to explore the amazing world of TextWorld! Your task for today is to lift the controller from the floor of the parlor.\"}\n",
      "Reward = -5\n",
      "Doing: open lightbulb\n",
      "{'score': 0, 'done': False, 'won': False, 'lost': False, 'obs': \"You can't see any such thing.\\n\", 'description': \"-= Parlor =-\\nYou've just shown up in a parlor.\\n\\n\\n\\nThere is an exit to the east. Don't worry, it is unblocked.\\n\\nThere is a blueberry and a controller on the floor.\", 'inventory': 'You are carrying nothing.', 'admissible_commands': ['examine blueberry', 'examine controller', 'go east', 'inventory', 'look', 'take blueberry', 'take controller'], 'entities': ['blueberry', 'controller', 'north', 'south', 'east', 'west'], 'objective': \"It's time to explore the amazing world of TextWorld! Your task for today is to lift the controller from the floor of the parlor.\"}\n",
      "Reward = -6\n",
      "Doing: unlock frisbee\n",
      "{'score': 0, 'done': False, 'won': False, 'lost': False, 'obs': \"You can't see any such thing.\\n\", 'description': \"-= Parlor =-\\nYou've just shown up in a parlor.\\n\\n\\n\\nThere is an exit to the east. Don't worry, it is unblocked.\\n\\nThere is a blueberry and a controller on the floor.\", 'inventory': 'You are carrying nothing.', 'admissible_commands': ['examine blueberry', 'examine controller', 'go east', 'inventory', 'look', 'take blueberry', 'take controller'], 'entities': ['blueberry', 'controller', 'north', 'south', 'east', 'west'], 'objective': \"It's time to explore the amazing world of TextWorld! Your task for today is to lift the controller from the floor of the parlor.\"}\n",
      "Reward = -6\n",
      "Doing: go kittens\n",
      "{'score': 0, 'done': False, 'won': False, 'lost': False, 'obs': \"You can't see any such thing.\\n\", 'description': \"-= Parlor =-\\nYou've just shown up in a parlor.\\n\\n\\n\\nThere is an exit to the east. Don't worry, it is unblocked.\\n\\nThere is a blueberry and a controller on the floor.\", 'inventory': 'You are carrying nothing.', 'admissible_commands': ['examine blueberry', 'examine controller', 'go east', 'inventory', 'look', 'take blueberry', 'take controller'], 'entities': ['blueberry', 'controller', 'north', 'south', 'east', 'west'], 'objective': \"It's time to explore the amazing world of TextWorld! Your task for today is to lift the controller from the floor of the parlor.\"}\n",
      "Reward = -5\n",
      "Doing: examine bar\n",
      "{'score': 0, 'done': False, 'won': False, 'lost': False, 'obs': \"You can't see any such thing.\\n\", 'description': \"-= Parlor =-\\nYou've just shown up in a parlor.\\n\\n\\n\\nThere is an exit to the east. Don't worry, it is unblocked.\\n\\nThere is a blueberry and a controller on the floor.\", 'inventory': 'You are carrying nothing.', 'admissible_commands': ['examine blueberry', 'examine controller', 'go east', 'inventory', 'look', 'take blueberry', 'take controller'], 'entities': ['blueberry', 'controller', 'north', 'south', 'east', 'west'], 'objective': \"It's time to explore the amazing world of TextWorld! Your task for today is to lift the controller from the floor of the parlor.\"}\n",
      "Reward = -5\n",
      "Doing: take clove\n",
      "{'score': 0, 'done': False, 'won': False, 'lost': False, 'obs': \"You can't see any such thing.\\n\", 'description': \"-= Parlor =-\\nYou've just shown up in a parlor.\\n\\n\\n\\nThere is an exit to the east. Don't worry, it is unblocked.\\n\\nThere is a blueberry and a controller on the floor.\", 'inventory': 'You are carrying nothing.', 'admissible_commands': ['examine blueberry', 'examine controller', 'go east', 'inventory', 'look', 'take blueberry', 'take controller'], 'entities': ['blueberry', 'controller', 'north', 'south', 'east', 'west'], 'objective': \"It's time to explore the amazing world of TextWorld! Your task for today is to lift the controller from the floor of the parlor.\"}\n",
      "Reward = -5\n",
      "Doing: go salad\n",
      "{'score': 0, 'done': False, 'won': False, 'lost': False, 'obs': \"You can't see any such thing.\\n\", 'description': \"-= Parlor =-\\nYou've just shown up in a parlor.\\n\\n\\n\\nThere is an exit to the east. Don't worry, it is unblocked.\\n\\nThere is a blueberry and a controller on the floor.\", 'inventory': 'You are carrying nothing.', 'admissible_commands': ['examine blueberry', 'examine controller', 'go east', 'inventory', 'look', 'take blueberry', 'take controller'], 'entities': ['blueberry', 'controller', 'north', 'south', 'east', 'west'], 'objective': \"It's time to explore the amazing world of TextWorld! Your task for today is to lift the controller from the floor of the parlor.\"}\n",
      "Reward = -5\n",
      "Doing: go blanket\n",
      "{'score': 0, 'done': False, 'won': False, 'lost': False, 'obs': \"You can't see any such thing.\\n\", 'description': \"-= Parlor =-\\nYou've just shown up in a parlor.\\n\\n\\n\\nThere is an exit to the east. Don't worry, it is unblocked.\\n\\nThere is a blueberry and a controller on the floor.\", 'inventory': 'You are carrying nothing.', 'admissible_commands': ['examine blueberry', 'examine controller', 'go east', 'inventory', 'look', 'take blueberry', 'take controller'], 'entities': ['blueberry', 'controller', 'north', 'south', 'east', 'west'], 'objective': \"It's time to explore the amazing world of TextWorld! Your task for today is to lift the controller from the floor of the parlor.\"}\n",
      "Reward = -5\n",
      "Doing: take folder\n",
      "{'score': 0, 'done': False, 'won': False, 'lost': False, 'obs': \"You can't see any such thing.\\n\", 'description': \"-= Parlor =-\\nYou've just shown up in a parlor.\\n\\n\\n\\nThere is an exit to the east. Don't worry, it is unblocked.\\n\\nThere is a blueberry and a controller on the floor.\", 'inventory': 'You are carrying nothing.', 'admissible_commands': ['examine blueberry', 'examine controller', 'go east', 'inventory', 'look', 'take blueberry', 'take controller'], 'entities': ['blueberry', 'controller', 'north', 'south', 'east', 'west'], 'objective': \"It's time to explore the amazing world of TextWorld! Your task for today is to lift the controller from the floor of the parlor.\"}\n",
      "Reward = -5\n",
      "Doing: open pencil\n",
      "{'score': 0, 'done': False, 'won': False, 'lost': False, 'obs': \"You can't see any such thing.\\n\", 'description': \"-= Parlor =-\\nYou've just shown up in a parlor.\\n\\n\\n\\nThere is an exit to the east. Don't worry, it is unblocked.\\n\\nThere is a blueberry and a controller on the floor.\", 'inventory': 'You are carrying nothing.', 'admissible_commands': ['examine blueberry', 'examine controller', 'go east', 'inventory', 'look', 'take blueberry', 'take controller'], 'entities': ['blueberry', 'controller', 'north', 'south', 'east', 'west'], 'objective': \"It's time to explore the amazing world of TextWorld! Your task for today is to lift the controller from the floor of the parlor.\"}\n",
      "Reward = -6\n",
      "Doing: open printer\n",
      "{'score': 0, 'done': False, 'won': False, 'lost': False, 'obs': \"You can't see any such thing.\\n\", 'description': \"-= Parlor =-\\nYou've just shown up in a parlor.\\n\\n\\n\\nThere is an exit to the east. Don't worry, it is unblocked.\\n\\nThere is a blueberry and a controller on the floor.\", 'inventory': 'You are carrying nothing.', 'admissible_commands': ['examine blueberry', 'examine controller', 'go east', 'inventory', 'look', 'take blueberry', 'take controller'], 'entities': ['blueberry', 'controller', 'north', 'south', 'east', 'west'], 'objective': \"It's time to explore the amazing world of TextWorld! Your task for today is to lift the controller from the floor of the parlor.\"}\n",
      "Reward = -6\n",
      "Doing: take fondue\n",
      "{'score': 0, 'done': False, 'won': False, 'lost': False, 'obs': \"You can't see any such thing.\\n\", 'description': \"-= Parlor =-\\nYou've just shown up in a parlor.\\n\\n\\n\\nThere is an exit to the east. Don't worry, it is unblocked.\\n\\nThere is a blueberry and a controller on the floor.\", 'inventory': 'You are carrying nothing.', 'admissible_commands': ['examine blueberry', 'examine controller', 'go east', 'inventory', 'look', 'take blueberry', 'take controller'], 'entities': ['blueberry', 'controller', 'north', 'south', 'east', 'west'], 'objective': \"It's time to explore the amazing world of TextWorld! Your task for today is to lift the controller from the floor of the parlor.\"}\n",
      "Reward = -5\n",
      "Doing: open toads\n",
      "{'score': 0, 'done': False, 'won': False, 'lost': False, 'obs': \"You can't see any such thing.\\n\", 'description': \"-= Parlor =-\\nYou've just shown up in a parlor.\\n\\n\\n\\nThere is an exit to the east. Don't worry, it is unblocked.\\n\\nThere is a blueberry and a controller on the floor.\", 'inventory': 'You are carrying nothing.', 'admissible_commands': ['examine blueberry', 'examine controller', 'go east', 'inventory', 'look', 'take blueberry', 'take controller'], 'entities': ['blueberry', 'controller', 'north', 'south', 'east', 'west'], 'objective': \"It's time to explore the amazing world of TextWorld! Your task for today is to lift the controller from the floor of the parlor.\"}\n",
      "Reward = -6\n",
      "Doing: open vacuum\n",
      "{'score': 0, 'done': False, 'won': False, 'lost': False, 'obs': \"You can't see any such thing.\\n\", 'description': \"-= Parlor =-\\nYou've just shown up in a parlor.\\n\\n\\n\\nThere is an exit to the east. Don't worry, it is unblocked.\\n\\nThere is a blueberry and a controller on the floor.\", 'inventory': 'You are carrying nothing.', 'admissible_commands': ['examine blueberry', 'examine controller', 'go east', 'inventory', 'look', 'take blueberry', 'take controller'], 'entities': ['blueberry', 'controller', 'north', 'south', 'east', 'west'], 'objective': \"It's time to explore the amazing world of TextWorld! Your task for today is to lift the controller from the floor of the parlor.\"}\n",
      "Reward = -6\n",
      "Doing: take teapot\n",
      "{'score': 0, 'done': False, 'won': False, 'lost': False, 'obs': \"You can't see any such thing.\\n\", 'description': \"-= Parlor =-\\nYou've just shown up in a parlor.\\n\\n\\n\\nThere is an exit to the east. Don't worry, it is unblocked.\\n\\nThere is a blueberry and a controller on the floor.\", 'inventory': 'You are carrying nothing.', 'admissible_commands': ['examine blueberry', 'examine controller', 'go east', 'inventory', 'look', 'take blueberry', 'take controller'], 'entities': ['blueberry', 'controller', 'north', 'south', 'east', 'west'], 'objective': \"It's time to explore the amazing world of TextWorld! Your task for today is to lift the controller from the floor of the parlor.\"}\n",
      "Reward = -5\n",
      "Doing: go keycard\n",
      "{'score': 0, 'done': False, 'won': False, 'lost': False, 'obs': \"You can't see any such thing.\\n\", 'description': \"-= Parlor =-\\nYou've just shown up in a parlor.\\n\\n\\n\\nThere is an exit to the east. Don't worry, it is unblocked.\\n\\nThere is a blueberry and a controller on the floor.\", 'inventory': 'You are carrying nothing.', 'admissible_commands': ['examine blueberry', 'examine controller', 'go east', 'inventory', 'look', 'take blueberry', 'take controller'], 'entities': ['blueberry', 'controller', 'north', 'south', 'east', 'west'], 'objective': \"It's time to explore the amazing world of TextWorld! Your task for today is to lift the controller from the floor of the parlor.\"}\n",
      "Reward = -5\n",
      "Doing: examine bug\n",
      "{'score': 0, 'done': False, 'won': False, 'lost': False, 'obs': \"You can't see any such thing.\\n\", 'description': \"-= Parlor =-\\nYou've just shown up in a parlor.\\n\\n\\n\\nThere is an exit to the east. Don't worry, it is unblocked.\\n\\nThere is a blueberry and a controller on the floor.\", 'inventory': 'You are carrying nothing.', 'admissible_commands': ['examine blueberry', 'examine controller', 'go east', 'inventory', 'look', 'take blueberry', 'take controller'], 'entities': ['blueberry', 'controller', 'north', 'south', 'east', 'west'], 'objective': \"It's time to explore the amazing world of TextWorld! Your task for today is to lift the controller from the floor of the parlor.\"}\n",
      "Reward = -5\n",
      "Doing: examine butter\n",
      "{'score': 0, 'done': False, 'won': False, 'lost': False, 'obs': \"You can't see any such thing.\\n\", 'description': \"-= Parlor =-\\nYou've just shown up in a parlor.\\n\\n\\n\\nThere is an exit to the east. Don't worry, it is unblocked.\\n\\nThere is a blueberry and a controller on the floor.\", 'inventory': 'You are carrying nothing.', 'admissible_commands': ['examine blueberry', 'examine controller', 'go east', 'inventory', 'look', 'take blueberry', 'take controller'], 'entities': ['blueberry', 'controller', 'north', 'south', 'east', 'west'], 'objective': \"It's time to explore the amazing world of TextWorld! Your task for today is to lift the controller from the floor of the parlor.\"}\n",
      "Reward = -5\n",
      "Doing: open laptop\n",
      "{'score': 0, 'done': False, 'won': False, 'lost': False, 'obs': \"You can't see any such thing.\\n\", 'description': \"-= Parlor =-\\nYou've just shown up in a parlor.\\n\\n\\n\\nThere is an exit to the east. Don't worry, it is unblocked.\\n\\nThere is a blueberry and a controller on the floor.\", 'inventory': 'You are carrying nothing.', 'admissible_commands': ['examine blueberry', 'examine controller', 'go east', 'inventory', 'look', 'take blueberry', 'take controller'], 'entities': ['blueberry', 'controller', 'north', 'south', 'east', 'west'], 'objective': \"It's time to explore the amazing world of TextWorld! Your task for today is to lift the controller from the floor of the parlor.\"}\n",
      "Reward = -6\n",
      "Doing: put onion\n",
      "{'score': 0, 'done': False, 'won': False, 'lost': False, 'obs': \"You can't see any such thing.\\n\", 'description': \"-= Parlor =-\\nYou've just shown up in a parlor.\\n\\n\\n\\nThere is an exit to the east. Don't worry, it is unblocked.\\n\\nThere is a blueberry and a controller on the floor.\", 'inventory': 'You are carrying nothing.', 'admissible_commands': ['examine blueberry', 'examine controller', 'go east', 'inventory', 'look', 'take blueberry', 'take controller'], 'entities': ['blueberry', 'controller', 'north', 'south', 'east', 'west'], 'objective': \"It's time to explore the amazing world of TextWorld! Your task for today is to lift the controller from the floor of the parlor.\"}\n",
      "Reward = -6\n",
      "Doing: unlock telephone\n",
      "{'score': 0, 'done': False, 'won': False, 'lost': False, 'obs': \"You can't see any such thing.\\n\", 'description': \"-= Parlor =-\\nYou've just shown up in a parlor.\\n\\n\\n\\nThere is an exit to the east. Don't worry, it is unblocked.\\n\\nThere is a blueberry and a controller on the floor.\", 'inventory': 'You are carrying nothing.', 'admissible_commands': ['examine blueberry', 'examine controller', 'go east', 'inventory', 'look', 'take blueberry', 'take controller'], 'entities': ['blueberry', 'controller', 'north', 'south', 'east', 'west'], 'objective': \"It's time to explore the amazing world of TextWorld! Your task for today is to lift the controller from the floor of the parlor.\"}\n",
      "Reward = -6\n",
      "Doing: go peanut\n",
      "{'score': 0, 'done': False, 'won': False, 'lost': False, 'obs': \"You can't see any such thing.\\n\", 'description': \"-= Parlor =-\\nYou've just shown up in a parlor.\\n\\n\\n\\nThere is an exit to the east. Don't worry, it is unblocked.\\n\\nThere is a blueberry and a controller on the floor.\", 'inventory': 'You are carrying nothing.', 'admissible_commands': ['examine blueberry', 'examine controller', 'go east', 'inventory', 'look', 'take blueberry', 'take controller'], 'entities': ['blueberry', 'controller', 'north', 'south', 'east', 'west'], 'objective': \"It's time to explore the amazing world of TextWorld! Your task for today is to lift the controller from the floor of the parlor.\"}\n",
      "Reward = -5\n",
      "Doing: examine broom\n",
      "{'score': 0, 'done': False, 'won': False, 'lost': False, 'obs': \"You can't see any such thing.\\n\", 'description': \"-= Parlor =-\\nYou've just shown up in a parlor.\\n\\n\\n\\nThere is an exit to the east. Don't worry, it is unblocked.\\n\\nThere is a blueberry and a controller on the floor.\", 'inventory': 'You are carrying nothing.', 'admissible_commands': ['examine blueberry', 'examine controller', 'go east', 'inventory', 'look', 'take blueberry', 'take controller'], 'entities': ['blueberry', 'controller', 'north', 'south', 'east', 'west'], 'objective': \"It's time to explore the amazing world of TextWorld! Your task for today is to lift the controller from the floor of the parlor.\"}\n",
      "Reward = -5\n",
      "Doing: take sponge\n",
      "{'score': 0, 'done': False, 'won': False, 'lost': False, 'obs': \"You can't see any such thing.\\n\", 'description': \"-= Parlor =-\\nYou've just shown up in a parlor.\\n\\n\\n\\nThere is an exit to the east. Don't worry, it is unblocked.\\n\\nThere is a blueberry and a controller on the floor.\", 'inventory': 'You are carrying nothing.', 'admissible_commands': ['examine blueberry', 'examine controller', 'go east', 'inventory', 'look', 'take blueberry', 'take controller'], 'entities': ['blueberry', 'controller', 'north', 'south', 'east', 'west'], 'objective': \"It's time to explore the amazing world of TextWorld! Your task for today is to lift the controller from the floor of the parlor.\"}\n",
      "Reward = -5\n",
      "Doing: take shirt\n",
      "{'score': 0, 'done': False, 'won': False, 'lost': False, 'obs': \"You can't see any such thing.\\n\", 'description': \"-= Parlor =-\\nYou've just shown up in a parlor.\\n\\n\\n\\nThere is an exit to the east. Don't worry, it is unblocked.\\n\\nThere is a blueberry and a controller on the floor.\", 'inventory': 'You are carrying nothing.', 'admissible_commands': ['examine blueberry', 'examine controller', 'go east', 'inventory', 'look', 'take blueberry', 'take controller'], 'entities': ['blueberry', 'controller', 'north', 'south', 'east', 'west'], 'objective': \"It's time to explore the amazing world of TextWorld! Your task for today is to lift the controller from the floor of the parlor.\"}\n",
      "Reward = -5\n",
      "Doing: open blender\n",
      "{'score': 0, 'done': False, 'won': False, 'lost': False, 'obs': \"You can't see any such thing.\\n\", 'description': \"-= Parlor =-\\nYou've just shown up in a parlor.\\n\\n\\n\\nThere is an exit to the east. Don't worry, it is unblocked.\\n\\nThere is a blueberry and a controller on the floor.\", 'inventory': 'You are carrying nothing.', 'admissible_commands': ['examine blueberry', 'examine controller', 'go east', 'inventory', 'look', 'take blueberry', 'take controller'], 'entities': ['blueberry', 'controller', 'north', 'south', 'east', 'west'], 'objective': \"It's time to explore the amazing world of TextWorld! Your task for today is to lift the controller from the floor of the parlor.\"}\n",
      "Reward = -6\n",
      "Doing: put onion\n",
      "{'score': 0, 'done': False, 'won': False, 'lost': False, 'obs': \"You can't see any such thing.\\n\", 'description': \"-= Parlor =-\\nYou've just shown up in a parlor.\\n\\n\\n\\nThere is an exit to the east. Don't worry, it is unblocked.\\n\\nThere is a blueberry and a controller on the floor.\", 'inventory': 'You are carrying nothing.', 'admissible_commands': ['examine blueberry', 'examine controller', 'go east', 'inventory', 'look', 'take blueberry', 'take controller'], 'entities': ['blueberry', 'controller', 'north', 'south', 'east', 'west'], 'objective': \"It's time to explore the amazing world of TextWorld! Your task for today is to lift the controller from the floor of the parlor.\"}\n",
      "Reward = -6\n",
      "Doing: unlock keyboard\n",
      "{'score': 0, 'done': False, 'won': False, 'lost': False, 'obs': \"You can't see any such thing.\\n\", 'description': \"-= Parlor =-\\nYou've just shown up in a parlor.\\n\\n\\n\\nThere is an exit to the east. Don't worry, it is unblocked.\\n\\nThere is a blueberry and a controller on the floor.\", 'inventory': 'You are carrying nothing.', 'admissible_commands': ['examine blueberry', 'examine controller', 'go east', 'inventory', 'look', 'take blueberry', 'take controller'], 'entities': ['blueberry', 'controller', 'north', 'south', 'east', 'west'], 'objective': \"It's time to explore the amazing world of TextWorld! Your task for today is to lift the controller from the floor of the parlor.\"}\n",
      "Reward = -6\n",
      "Doing: take mat\n",
      "{'score': 0, 'done': False, 'won': False, 'lost': False, 'obs': \"You can't see any such thing.\\n\", 'description': \"-= Parlor =-\\nYou've just shown up in a parlor.\\n\\n\\n\\nThere is an exit to the east. Don't worry, it is unblocked.\\n\\nThere is a blueberry and a controller on the floor.\", 'inventory': 'You are carrying nothing.', 'admissible_commands': ['examine blueberry', 'examine controller', 'go east', 'inventory', 'look', 'take blueberry', 'take controller'], 'entities': ['blueberry', 'controller', 'north', 'south', 'east', 'west'], 'objective': \"It's time to explore the amazing world of TextWorld! Your task for today is to lift the controller from the floor of the parlor.\"}\n",
      "Reward = -5\n",
      "Doing: unlock lampshade\n",
      "{'score': 0, 'done': False, 'won': False, 'lost': False, 'obs': \"You can't see any such thing.\\n\", 'description': \"-= Parlor =-\\nYou've just shown up in a parlor.\\n\\n\\n\\nThere is an exit to the east. Don't worry, it is unblocked.\\n\\nThere is a blueberry and a controller on the floor.\", 'inventory': 'You are carrying nothing.', 'admissible_commands': ['examine blueberry', 'examine controller', 'go east', 'inventory', 'look', 'take blueberry', 'take controller'], 'entities': ['blueberry', 'controller', 'north', 'south', 'east', 'west'], 'objective': \"It's time to explore the amazing world of TextWorld! Your task for today is to lift the controller from the floor of the parlor.\"}\n",
      "Reward = -6\n",
      "Doing: take keyboard\n",
      "{'score': 0, 'done': True, 'won': False, 'lost': False, 'obs': \"You can't see any such thing.\\n\", 'description': \"-= Parlor =-\\nYou've just shown up in a parlor.\\n\\n\\n\\nThere is an exit to the east. Don't worry, it is unblocked.\\n\\nThere is a blueberry and a controller on the floor.\", 'inventory': 'You are carrying nothing.', 'admissible_commands': ['examine blueberry', 'examine controller', 'go east', 'inventory', 'look', 'take blueberry', 'take controller'], 'entities': ['blueberry', 'controller', 'north', 'south', 'east', 'west'], 'objective': \"It's time to explore the amazing world of TextWorld! Your task for today is to lift the controller from the floor of the parlor.\"}\n",
      "Reward = -5\n",
      "Doing: take blanket\n",
      "{'score': 0, 'done': True, 'won': False, 'lost': False, 'obs': \"You can't see any such thing.\\n\", 'description': \"-= Parlor =-\\nYou've just shown up in a parlor.\\n\\n\\n\\nThere is an exit to the east. Don't worry, it is unblocked.\\n\\nThere is a blueberry and a controller on the floor.\", 'inventory': 'You are carrying nothing.', 'admissible_commands': ['examine blueberry', 'examine controller', 'go east', 'inventory', 'look', 'take blueberry', 'take controller'], 'entities': ['blueberry', 'controller', 'north', 'south', 'east', 'west'], 'objective': \"It's time to explore the amazing world of TextWorld! Your task for today is to lift the controller from the floor of the parlor.\"}\n",
      "Reward = -5\n",
      "Starting new game.\n",
      "{'score': 0, 'done': False, 'won': False, 'lost': False, 'obs': \"-= Parlor =-\\nYou've just shown up in a parlor.\\n\\n\\n\\nThere is an exit to the east. Don't worry, it is unblocked.\\n\\nThere is a blueberry and a controller on the floor.\\n\\n\", 'description': \"-= Parlor =-\\nYou've just shown up in a parlor.\\n\\n\\n\\nThere is an exit to the east. Don't worry, it is unblocked.\\n\\nThere is a blueberry and a controller on the floor.\", 'inventory': 'You are carrying nothing.', 'admissible_commands': ['examine blueberry', 'examine controller', 'go east', 'inventory', 'look', 'take blueberry', 'take controller'], 'entities': ['blueberry', 'controller', 'north', 'south', 'east', 'west'], 'objective': \"It's time to explore the amazing world of TextWorld! Your task for today is to lift the controller from the floor of the parlor.\"}\n",
      "Doing: examine toads\n",
      "{'score': 0, 'done': False, 'won': False, 'lost': False, 'obs': \"You can't see any such thing.\\n\", 'description': \"-= Parlor =-\\nYou've just shown up in a parlor.\\n\\n\\n\\nThere is an exit to the east. Don't worry, it is unblocked.\\n\\nThere is a blueberry and a controller on the floor.\", 'inventory': 'You are carrying nothing.', 'admissible_commands': ['examine blueberry', 'examine controller', 'go east', 'inventory', 'look', 'take blueberry', 'take controller'], 'entities': ['blueberry', 'controller', 'north', 'south', 'east', 'west'], 'objective': \"It's time to explore the amazing world of TextWorld! Your task for today is to lift the controller from the floor of the parlor.\"}\n",
      "Reward = -5\n",
      "Doing: unlock telephone\n",
      "{'score': 0, 'done': False, 'won': False, 'lost': False, 'obs': \"You can't see any such thing.\\n\", 'description': \"-= Parlor =-\\nYou've just shown up in a parlor.\\n\\n\\n\\nThere is an exit to the east. Don't worry, it is unblocked.\\n\\nThere is a blueberry and a controller on the floor.\", 'inventory': 'You are carrying nothing.', 'admissible_commands': ['examine blueberry', 'examine controller', 'go east', 'inventory', 'look', 'take blueberry', 'take controller'], 'entities': ['blueberry', 'controller', 'north', 'south', 'east', 'west'], 'objective': \"It's time to explore the amazing world of TextWorld! Your task for today is to lift the controller from the floor of the parlor.\"}\n",
      "Reward = -6\n",
      "Doing: take apple\n",
      "{'score': 0, 'done': False, 'won': False, 'lost': False, 'obs': \"You can't see any such thing.\\n\", 'description': \"-= Parlor =-\\nYou've just shown up in a parlor.\\n\\n\\n\\nThere is an exit to the east. Don't worry, it is unblocked.\\n\\nThere is a blueberry and a controller on the floor.\", 'inventory': 'You are carrying nothing.', 'admissible_commands': ['examine blueberry', 'examine controller', 'go east', 'inventory', 'look', 'take blueberry', 'take controller'], 'entities': ['blueberry', 'controller', 'north', 'south', 'east', 'west'], 'objective': \"It's time to explore the amazing world of TextWorld! Your task for today is to lift the controller from the floor of the parlor.\"}\n",
      "Reward = -5\n",
      "Doing: unlock poem\n",
      "{'score': 0, 'done': False, 'won': False, 'lost': False, 'obs': \"You can't see any such thing.\\n\", 'description': \"-= Parlor =-\\nYou've just shown up in a parlor.\\n\\n\\n\\nThere is an exit to the east. Don't worry, it is unblocked.\\n\\nThere is a blueberry and a controller on the floor.\", 'inventory': 'You are carrying nothing.', 'admissible_commands': ['examine blueberry', 'examine controller', 'go east', 'inventory', 'look', 'take blueberry', 'take controller'], 'entities': ['blueberry', 'controller', 'north', 'south', 'east', 'west'], 'objective': \"It's time to explore the amazing world of TextWorld! Your task for today is to lift the controller from the floor of the parlor.\"}\n",
      "Reward = -6\n",
      "Doing: take insect\n",
      "{'score': 0, 'done': False, 'won': False, 'lost': False, 'obs': \"You can't see any such thing.\\n\", 'description': \"-= Parlor =-\\nYou've just shown up in a parlor.\\n\\n\\n\\nThere is an exit to the east. Don't worry, it is unblocked.\\n\\nThere is a blueberry and a controller on the floor.\", 'inventory': 'You are carrying nothing.', 'admissible_commands': ['examine blueberry', 'examine controller', 'go east', 'inventory', 'look', 'take blueberry', 'take controller'], 'entities': ['blueberry', 'controller', 'north', 'south', 'east', 'west'], 'objective': \"It's time to explore the amazing world of TextWorld! Your task for today is to lift the controller from the floor of the parlor.\"}\n",
      "Reward = -5\n",
      "Doing: examine stapler\n",
      "{'score': 0, 'done': False, 'won': False, 'lost': False, 'obs': \"You can't see any such thing.\\n\", 'description': \"-= Parlor =-\\nYou've just shown up in a parlor.\\n\\n\\n\\nThere is an exit to the east. Don't worry, it is unblocked.\\n\\nThere is a blueberry and a controller on the floor.\", 'inventory': 'You are carrying nothing.', 'admissible_commands': ['examine blueberry', 'examine controller', 'go east', 'inventory', 'look', 'take blueberry', 'take controller'], 'entities': ['blueberry', 'controller', 'north', 'south', 'east', 'west'], 'objective': \"It's time to explore the amazing world of TextWorld! Your task for today is to lift the controller from the floor of the parlor.\"}\n",
      "Reward = -5\n",
      "Doing: unlock pillow\n",
      "{'score': 0, 'done': False, 'won': False, 'lost': False, 'obs': \"You can't see any such thing.\\n\", 'description': \"-= Parlor =-\\nYou've just shown up in a parlor.\\n\\n\\n\\nThere is an exit to the east. Don't worry, it is unblocked.\\n\\nThere is a blueberry and a controller on the floor.\", 'inventory': 'You are carrying nothing.', 'admissible_commands': ['examine blueberry', 'examine controller', 'go east', 'inventory', 'look', 'take blueberry', 'take controller'], 'entities': ['blueberry', 'controller', 'north', 'south', 'east', 'west'], 'objective': \"It's time to explore the amazing world of TextWorld! Your task for today is to lift the controller from the floor of the parlor.\"}\n",
      "Reward = -6\n",
      "Doing: go butterfly\n",
      "{'score': 0, 'done': False, 'won': False, 'lost': False, 'obs': \"You can't see any such thing.\\n\", 'description': \"-= Parlor =-\\nYou've just shown up in a parlor.\\n\\n\\n\\nThere is an exit to the east. Don't worry, it is unblocked.\\n\\nThere is a blueberry and a controller on the floor.\", 'inventory': 'You are carrying nothing.', 'admissible_commands': ['examine blueberry', 'examine controller', 'go east', 'inventory', 'look', 'take blueberry', 'take controller'], 'entities': ['blueberry', 'controller', 'north', 'south', 'east', 'west'], 'objective': \"It's time to explore the amazing world of TextWorld! Your task for today is to lift the controller from the floor of the parlor.\"}\n",
      "Reward = -5\n",
      "Doing: unlock hat\n",
      "{'score': 0, 'done': False, 'won': False, 'lost': False, 'obs': \"You can't see any such thing.\\n\", 'description': \"-= Parlor =-\\nYou've just shown up in a parlor.\\n\\n\\n\\nThere is an exit to the east. Don't worry, it is unblocked.\\n\\nThere is a blueberry and a controller on the floor.\", 'inventory': 'You are carrying nothing.', 'admissible_commands': ['examine blueberry', 'examine controller', 'go east', 'inventory', 'look', 'take blueberry', 'take controller'], 'entities': ['blueberry', 'controller', 'north', 'south', 'east', 'west'], 'objective': \"It's time to explore the amazing world of TextWorld! Your task for today is to lift the controller from the floor of the parlor.\"}\n",
      "Reward = -6\n",
      "Doing: take pencil\n",
      "{'score': 0, 'done': False, 'won': False, 'lost': False, 'obs': \"You can't see any such thing.\\n\", 'description': \"-= Parlor =-\\nYou've just shown up in a parlor.\\n\\n\\n\\nThere is an exit to the east. Don't worry, it is unblocked.\\n\\nThere is a blueberry and a controller on the floor.\", 'inventory': 'You are carrying nothing.', 'admissible_commands': ['examine blueberry', 'examine controller', 'go east', 'inventory', 'look', 'take blueberry', 'take controller'], 'entities': ['blueberry', 'controller', 'north', 'south', 'east', 'west'], 'objective': \"It's time to explore the amazing world of TextWorld! Your task for today is to lift the controller from the floor of the parlor.\"}\n",
      "Reward = -5\n",
      "Doing: examine legume\n",
      "{'score': 0, 'done': False, 'won': False, 'lost': False, 'obs': \"You can't see any such thing.\\n\", 'description': \"-= Parlor =-\\nYou've just shown up in a parlor.\\n\\n\\n\\nThere is an exit to the east. Don't worry, it is unblocked.\\n\\nThere is a blueberry and a controller on the floor.\", 'inventory': 'You are carrying nothing.', 'admissible_commands': ['examine blueberry', 'examine controller', 'go east', 'inventory', 'look', 'take blueberry', 'take controller'], 'entities': ['blueberry', 'controller', 'north', 'south', 'east', 'west'], 'objective': \"It's time to explore the amazing world of TextWorld! Your task for today is to lift the controller from the floor of the parlor.\"}\n",
      "Reward = -5\n",
      "Doing: unlock south\n",
      "{'score': 0, 'done': False, 'won': False, 'lost': False, 'obs': 'What do you want to unlock south with?\\n', 'description': \"-= Parlor =-\\nYou've just shown up in a parlor.\\n\\n\\n\\nThere is an exit to the east. Don't worry, it is unblocked.\\n\\nThere is a blueberry and a controller on the floor.\", 'inventory': 'You are carrying nothing.', 'admissible_commands': ['examine blueberry', 'examine controller', 'go east', 'inventory', 'look', 'take blueberry', 'take controller'], 'entities': ['blueberry', 'controller', 'north', 'south', 'east', 'west'], 'objective': \"It's time to explore the amazing world of TextWorld! Your task for today is to lift the controller from the floor of the parlor.\"}\n",
      "Reward = -5\n",
      "Doing: put poem\n",
      "{'score': 0, 'done': False, 'won': False, 'lost': False, 'obs': \"You can't see any such thing.\\n\", 'description': \"-= Parlor =-\\nYou've just shown up in a parlor.\\n\\n\\n\\nThere is an exit to the east. Don't worry, it is unblocked.\\n\\nThere is a blueberry and a controller on the floor.\", 'inventory': 'You are carrying nothing.', 'admissible_commands': ['examine blueberry', 'examine controller', 'go east', 'inventory', 'look', 'take blueberry', 'take controller'], 'entities': ['blueberry', 'controller', 'north', 'south', 'east', 'west'], 'objective': \"It's time to explore the amazing world of TextWorld! Your task for today is to lift the controller from the floor of the parlor.\"}\n",
      "Reward = -6\n",
      "Doing: go mug\n",
      "{'score': 0, 'done': False, 'won': False, 'lost': False, 'obs': \"You can't see any such thing.\\n\", 'description': \"-= Parlor =-\\nYou've just shown up in a parlor.\\n\\n\\n\\nThere is an exit to the east. Don't worry, it is unblocked.\\n\\nThere is a blueberry and a controller on the floor.\", 'inventory': 'You are carrying nothing.', 'admissible_commands': ['examine blueberry', 'examine controller', 'go east', 'inventory', 'look', 'take blueberry', 'take controller'], 'entities': ['blueberry', 'controller', 'north', 'south', 'east', 'west'], 'objective': \"It's time to explore the amazing world of TextWorld! Your task for today is to lift the controller from the floor of the parlor.\"}\n",
      "Reward = -5\n",
      "Doing: open tablet\n",
      "{'score': 0, 'done': False, 'won': False, 'lost': False, 'obs': \"You can't see any such thing.\\n\", 'description': \"-= Parlor =-\\nYou've just shown up in a parlor.\\n\\n\\n\\nThere is an exit to the east. Don't worry, it is unblocked.\\n\\nThere is a blueberry and a controller on the floor.\", 'inventory': 'You are carrying nothing.', 'admissible_commands': ['examine blueberry', 'examine controller', 'go east', 'inventory', 'look', 'take blueberry', 'take controller'], 'entities': ['blueberry', 'controller', 'north', 'south', 'east', 'west'], 'objective': \"It's time to explore the amazing world of TextWorld! Your task for today is to lift the controller from the floor of the parlor.\"}\n",
      "Reward = -6\n",
      "Doing: put clove\n",
      "{'score': 0, 'done': False, 'won': False, 'lost': False, 'obs': \"You can't see any such thing.\\n\", 'description': \"-= Parlor =-\\nYou've just shown up in a parlor.\\n\\n\\n\\nThere is an exit to the east. Don't worry, it is unblocked.\\n\\nThere is a blueberry and a controller on the floor.\", 'inventory': 'You are carrying nothing.', 'admissible_commands': ['examine blueberry', 'examine controller', 'go east', 'inventory', 'look', 'take blueberry', 'take controller'], 'entities': ['blueberry', 'controller', 'north', 'south', 'east', 'west'], 'objective': \"It's time to explore the amazing world of TextWorld! Your task for today is to lift the controller from the floor of the parlor.\"}\n",
      "Reward = -6\n",
      "Doing: put mouse\n",
      "{'score': 0, 'done': False, 'won': False, 'lost': False, 'obs': \"You can't see any such thing.\\n\", 'description': \"-= Parlor =-\\nYou've just shown up in a parlor.\\n\\n\\n\\nThere is an exit to the east. Don't worry, it is unblocked.\\n\\nThere is a blueberry and a controller on the floor.\", 'inventory': 'You are carrying nothing.', 'admissible_commands': ['examine blueberry', 'examine controller', 'go east', 'inventory', 'look', 'take blueberry', 'take controller'], 'entities': ['blueberry', 'controller', 'north', 'south', 'east', 'west'], 'objective': \"It's time to explore the amazing world of TextWorld! Your task for today is to lift the controller from the floor of the parlor.\"}\n",
      "Reward = -6\n",
      "Doing: put gooseberry\n",
      "{'score': 0, 'done': False, 'won': False, 'lost': False, 'obs': \"You can't see any such thing.\\n\", 'description': \"-= Parlor =-\\nYou've just shown up in a parlor.\\n\\n\\n\\nThere is an exit to the east. Don't worry, it is unblocked.\\n\\nThere is a blueberry and a controller on the floor.\", 'inventory': 'You are carrying nothing.', 'admissible_commands': ['examine blueberry', 'examine controller', 'go east', 'inventory', 'look', 'take blueberry', 'take controller'], 'entities': ['blueberry', 'controller', 'north', 'south', 'east', 'west'], 'objective': \"It's time to explore the amazing world of TextWorld! Your task for today is to lift the controller from the floor of the parlor.\"}\n",
      "Reward = -6\n",
      "Doing: take ladle\n",
      "{'score': 0, 'done': False, 'won': False, 'lost': False, 'obs': \"You can't see any such thing.\\n\", 'description': \"-= Parlor =-\\nYou've just shown up in a parlor.\\n\\n\\n\\nThere is an exit to the east. Don't worry, it is unblocked.\\n\\nThere is a blueberry and a controller on the floor.\", 'inventory': 'You are carrying nothing.', 'admissible_commands': ['examine blueberry', 'examine controller', 'go east', 'inventory', 'look', 'take blueberry', 'take controller'], 'entities': ['blueberry', 'controller', 'north', 'south', 'east', 'west'], 'objective': \"It's time to explore the amazing world of TextWorld! Your task for today is to lift the controller from the floor of the parlor.\"}\n",
      "Reward = -5\n",
      "Doing: take broom\n",
      "{'score': 0, 'done': False, 'won': False, 'lost': False, 'obs': \"You can't see any such thing.\\n\", 'description': \"-= Parlor =-\\nYou've just shown up in a parlor.\\n\\n\\n\\nThere is an exit to the east. Don't worry, it is unblocked.\\n\\nThere is a blueberry and a controller on the floor.\", 'inventory': 'You are carrying nothing.', 'admissible_commands': ['examine blueberry', 'examine controller', 'go east', 'inventory', 'look', 'take blueberry', 'take controller'], 'entities': ['blueberry', 'controller', 'north', 'south', 'east', 'west'], 'objective': \"It's time to explore the amazing world of TextWorld! Your task for today is to lift the controller from the floor of the parlor.\"}\n",
      "Reward = -5\n",
      "Doing: take honeydew\n",
      "{'score': 0, 'done': False, 'won': False, 'lost': False, 'obs': \"You can't see any such thing.\\n\", 'description': \"-= Parlor =-\\nYou've just shown up in a parlor.\\n\\n\\n\\nThere is an exit to the east. Don't worry, it is unblocked.\\n\\nThere is a blueberry and a controller on the floor.\", 'inventory': 'You are carrying nothing.', 'admissible_commands': ['examine blueberry', 'examine controller', 'go east', 'inventory', 'look', 'take blueberry', 'take controller'], 'entities': ['blueberry', 'controller', 'north', 'south', 'east', 'west'], 'objective': \"It's time to explore the amazing world of TextWorld! Your task for today is to lift the controller from the floor of the parlor.\"}\n",
      "Reward = -5\n",
      "Doing: take bar\n",
      "{'score': 0, 'done': False, 'won': False, 'lost': False, 'obs': \"You can't see any such thing.\\n\", 'description': \"-= Parlor =-\\nYou've just shown up in a parlor.\\n\\n\\n\\nThere is an exit to the east. Don't worry, it is unblocked.\\n\\nThere is a blueberry and a controller on the floor.\", 'inventory': 'You are carrying nothing.', 'admissible_commands': ['examine blueberry', 'examine controller', 'go east', 'inventory', 'look', 'take blueberry', 'take controller'], 'entities': ['blueberry', 'controller', 'north', 'south', 'east', 'west'], 'objective': \"It's time to explore the amazing world of TextWorld! Your task for today is to lift the controller from the floor of the parlor.\"}\n",
      "Reward = -5\n",
      "Doing: examine teaspoon\n",
      "{'score': 0, 'done': False, 'won': False, 'lost': False, 'obs': \"You can't see any such thing.\\n\", 'description': \"-= Parlor =-\\nYou've just shown up in a parlor.\\n\\n\\n\\nThere is an exit to the east. Don't worry, it is unblocked.\\n\\nThere is a blueberry and a controller on the floor.\", 'inventory': 'You are carrying nothing.', 'admissible_commands': ['examine blueberry', 'examine controller', 'go east', 'inventory', 'look', 'take blueberry', 'take controller'], 'entities': ['blueberry', 'controller', 'north', 'south', 'east', 'west'], 'objective': \"It's time to explore the amazing world of TextWorld! Your task for today is to lift the controller from the floor of the parlor.\"}\n",
      "Reward = -5\n",
      "Doing: take pencil\n",
      "{'score': 0, 'done': False, 'won': False, 'lost': False, 'obs': \"You can't see any such thing.\\n\", 'description': \"-= Parlor =-\\nYou've just shown up in a parlor.\\n\\n\\n\\nThere is an exit to the east. Don't worry, it is unblocked.\\n\\nThere is a blueberry and a controller on the floor.\", 'inventory': 'You are carrying nothing.', 'admissible_commands': ['examine blueberry', 'examine controller', 'go east', 'inventory', 'look', 'take blueberry', 'take controller'], 'entities': ['blueberry', 'controller', 'north', 'south', 'east', 'west'], 'objective': \"It's time to explore the amazing world of TextWorld! Your task for today is to lift the controller from the floor of the parlor.\"}\n",
      "Reward = -5\n",
      "Doing: take kittens\n",
      "{'score': 0, 'done': False, 'won': False, 'lost': False, 'obs': \"You can't see any such thing.\\n\", 'description': \"-= Parlor =-\\nYou've just shown up in a parlor.\\n\\n\\n\\nThere is an exit to the east. Don't worry, it is unblocked.\\n\\nThere is a blueberry and a controller on the floor.\", 'inventory': 'You are carrying nothing.', 'admissible_commands': ['examine blueberry', 'examine controller', 'go east', 'inventory', 'look', 'take blueberry', 'take controller'], 'entities': ['blueberry', 'controller', 'north', 'south', 'east', 'west'], 'objective': \"It's time to explore the amazing world of TextWorld! Your task for today is to lift the controller from the floor of the parlor.\"}\n",
      "Reward = -5\n",
      "Doing: unlock hat\n",
      "{'score': 0, 'done': False, 'won': False, 'lost': False, 'obs': \"You can't see any such thing.\\n\", 'description': \"-= Parlor =-\\nYou've just shown up in a parlor.\\n\\n\\n\\nThere is an exit to the east. Don't worry, it is unblocked.\\n\\nThere is a blueberry and a controller on the floor.\", 'inventory': 'You are carrying nothing.', 'admissible_commands': ['examine blueberry', 'examine controller', 'go east', 'inventory', 'look', 'take blueberry', 'take controller'], 'entities': ['blueberry', 'controller', 'north', 'south', 'east', 'west'], 'objective': \"It's time to explore the amazing world of TextWorld! Your task for today is to lift the controller from the floor of the parlor.\"}\n",
      "Reward = -6\n",
      "Doing: open computer\n",
      "{'score': 0, 'done': False, 'won': False, 'lost': False, 'obs': \"You can't see any such thing.\\n\", 'description': \"-= Parlor =-\\nYou've just shown up in a parlor.\\n\\n\\n\\nThere is an exit to the east. Don't worry, it is unblocked.\\n\\nThere is a blueberry and a controller on the floor.\", 'inventory': 'You are carrying nothing.', 'admissible_commands': ['examine blueberry', 'examine controller', 'go east', 'inventory', 'look', 'take blueberry', 'take controller'], 'entities': ['blueberry', 'controller', 'north', 'south', 'east', 'west'], 'objective': \"It's time to explore the amazing world of TextWorld! Your task for today is to lift the controller from the floor of the parlor.\"}\n",
      "Reward = -6\n",
      "Doing: put coconut\n",
      "{'score': 0, 'done': False, 'won': False, 'lost': False, 'obs': \"You can't see any such thing.\\n\", 'description': \"-= Parlor =-\\nYou've just shown up in a parlor.\\n\\n\\n\\nThere is an exit to the east. Don't worry, it is unblocked.\\n\\nThere is a blueberry and a controller on the floor.\", 'inventory': 'You are carrying nothing.', 'admissible_commands': ['examine blueberry', 'examine controller', 'go east', 'inventory', 'look', 'take blueberry', 'take controller'], 'entities': ['blueberry', 'controller', 'north', 'south', 'east', 'west'], 'objective': \"It's time to explore the amazing world of TextWorld! Your task for today is to lift the controller from the floor of the parlor.\"}\n",
      "Reward = -6\n",
      "Doing: examine onion\n",
      "{'score': 0, 'done': False, 'won': False, 'lost': False, 'obs': \"You can't see any such thing.\\n\", 'description': \"-= Parlor =-\\nYou've just shown up in a parlor.\\n\\n\\n\\nThere is an exit to the east. Don't worry, it is unblocked.\\n\\nThere is a blueberry and a controller on the floor.\", 'inventory': 'You are carrying nothing.', 'admissible_commands': ['examine blueberry', 'examine controller', 'go east', 'inventory', 'look', 'take blueberry', 'take controller'], 'entities': ['blueberry', 'controller', 'north', 'south', 'east', 'west'], 'objective': \"It's time to explore the amazing world of TextWorld! Your task for today is to lift the controller from the floor of the parlor.\"}\n",
      "Reward = -5\n",
      "Doing: go spoon\n",
      "{'score': 0, 'done': False, 'won': False, 'lost': False, 'obs': \"You can't see any such thing.\\n\", 'description': \"-= Parlor =-\\nYou've just shown up in a parlor.\\n\\n\\n\\nThere is an exit to the east. Don't worry, it is unblocked.\\n\\nThere is a blueberry and a controller on the floor.\", 'inventory': 'You are carrying nothing.', 'admissible_commands': ['examine blueberry', 'examine controller', 'go east', 'inventory', 'look', 'take blueberry', 'take controller'], 'entities': ['blueberry', 'controller', 'north', 'south', 'east', 'west'], 'objective': \"It's time to explore the amazing world of TextWorld! Your task for today is to lift the controller from the floor of the parlor.\"}\n",
      "Reward = -5\n",
      "Doing: open pillow\n",
      "{'score': 0, 'done': False, 'won': False, 'lost': False, 'obs': \"You can't see any such thing.\\n\", 'description': \"-= Parlor =-\\nYou've just shown up in a parlor.\\n\\n\\n\\nThere is an exit to the east. Don't worry, it is unblocked.\\n\\nThere is a blueberry and a controller on the floor.\", 'inventory': 'You are carrying nothing.', 'admissible_commands': ['examine blueberry', 'examine controller', 'go east', 'inventory', 'look', 'take blueberry', 'take controller'], 'entities': ['blueberry', 'controller', 'north', 'south', 'east', 'west'], 'objective': \"It's time to explore the amazing world of TextWorld! Your task for today is to lift the controller from the floor of the parlor.\"}\n",
      "Reward = -6\n",
      "Doing: take spiders\n",
      "{'score': 0, 'done': False, 'won': False, 'lost': False, 'obs': \"You can't see any such thing.\\n\", 'description': \"-= Parlor =-\\nYou've just shown up in a parlor.\\n\\n\\n\\nThere is an exit to the east. Don't worry, it is unblocked.\\n\\nThere is a blueberry and a controller on the floor.\", 'inventory': 'You are carrying nothing.', 'admissible_commands': ['examine blueberry', 'examine controller', 'go east', 'inventory', 'look', 'take blueberry', 'take controller'], 'entities': ['blueberry', 'controller', 'north', 'south', 'east', 'west'], 'objective': \"It's time to explore the amazing world of TextWorld! Your task for today is to lift the controller from the floor of the parlor.\"}\n",
      "Reward = -5\n",
      "Doing: put banana\n",
      "{'score': 0, 'done': False, 'won': False, 'lost': False, 'obs': \"You can't see any such thing.\\n\", 'description': \"-= Parlor =-\\nYou've just shown up in a parlor.\\n\\n\\n\\nThere is an exit to the east. Don't worry, it is unblocked.\\n\\nThere is a blueberry and a controller on the floor.\", 'inventory': 'You are carrying nothing.', 'admissible_commands': ['examine blueberry', 'examine controller', 'go east', 'inventory', 'look', 'take blueberry', 'take controller'], 'entities': ['blueberry', 'controller', 'north', 'south', 'east', 'west'], 'objective': \"It's time to explore the amazing world of TextWorld! Your task for today is to lift the controller from the floor of the parlor.\"}\n",
      "Reward = -6\n",
      "Doing: examine peanut\n",
      "{'score': 0, 'done': False, 'won': False, 'lost': False, 'obs': \"You can't see any such thing.\\n\", 'description': \"-= Parlor =-\\nYou've just shown up in a parlor.\\n\\n\\n\\nThere is an exit to the east. Don't worry, it is unblocked.\\n\\nThere is a blueberry and a controller on the floor.\", 'inventory': 'You are carrying nothing.', 'admissible_commands': ['examine blueberry', 'examine controller', 'go east', 'inventory', 'look', 'take blueberry', 'take controller'], 'entities': ['blueberry', 'controller', 'north', 'south', 'east', 'west'], 'objective': \"It's time to explore the amazing world of TextWorld! Your task for today is to lift the controller from the floor of the parlor.\"}\n",
      "Reward = -5\n",
      "Doing: put spoon\n",
      "{'score': 0, 'done': False, 'won': False, 'lost': False, 'obs': \"You can't see any such thing.\\n\", 'description': \"-= Parlor =-\\nYou've just shown up in a parlor.\\n\\n\\n\\nThere is an exit to the east. Don't worry, it is unblocked.\\n\\nThere is a blueberry and a controller on the floor.\", 'inventory': 'You are carrying nothing.', 'admissible_commands': ['examine blueberry', 'examine controller', 'go east', 'inventory', 'look', 'take blueberry', 'take controller'], 'entities': ['blueberry', 'controller', 'north', 'south', 'east', 'west'], 'objective': \"It's time to explore the amazing world of TextWorld! Your task for today is to lift the controller from the floor of the parlor.\"}\n",
      "Reward = -6\n",
      "Doing: open glass\n",
      "{'score': 0, 'done': False, 'won': False, 'lost': False, 'obs': \"You can't see any such thing.\\n\", 'description': \"-= Parlor =-\\nYou've just shown up in a parlor.\\n\\n\\n\\nThere is an exit to the east. Don't worry, it is unblocked.\\n\\nThere is a blueberry and a controller on the floor.\", 'inventory': 'You are carrying nothing.', 'admissible_commands': ['examine blueberry', 'examine controller', 'go east', 'inventory', 'look', 'take blueberry', 'take controller'], 'entities': ['blueberry', 'controller', 'north', 'south', 'east', 'west'], 'objective': \"It's time to explore the amazing world of TextWorld! Your task for today is to lift the controller from the floor of the parlor.\"}\n",
      "Reward = -6\n",
      "Doing: put manuscript\n",
      "{'score': 0, 'done': False, 'won': False, 'lost': False, 'obs': \"You can't see any such thing.\\n\", 'description': \"-= Parlor =-\\nYou've just shown up in a parlor.\\n\\n\\n\\nThere is an exit to the east. Don't worry, it is unblocked.\\n\\nThere is a blueberry and a controller on the floor.\", 'inventory': 'You are carrying nothing.', 'admissible_commands': ['examine blueberry', 'examine controller', 'go east', 'inventory', 'look', 'take blueberry', 'take controller'], 'entities': ['blueberry', 'controller', 'north', 'south', 'east', 'west'], 'objective': \"It's time to explore the amazing world of TextWorld! Your task for today is to lift the controller from the floor of the parlor.\"}\n",
      "Reward = -6\n",
      "Doing: go worm\n",
      "{'score': 0, 'done': False, 'won': False, 'lost': False, 'obs': \"You can't see any such thing.\\n\", 'description': \"-= Parlor =-\\nYou've just shown up in a parlor.\\n\\n\\n\\nThere is an exit to the east. Don't worry, it is unblocked.\\n\\nThere is a blueberry and a controller on the floor.\", 'inventory': 'You are carrying nothing.', 'admissible_commands': ['examine blueberry', 'examine controller', 'go east', 'inventory', 'look', 'take blueberry', 'take controller'], 'entities': ['blueberry', 'controller', 'north', 'south', 'east', 'west'], 'objective': \"It's time to explore the amazing world of TextWorld! Your task for today is to lift the controller from the floor of the parlor.\"}\n",
      "Reward = -5\n",
      "Doing: put legume\n",
      "{'score': 0, 'done': False, 'won': False, 'lost': False, 'obs': \"You can't see any such thing.\\n\", 'description': \"-= Parlor =-\\nYou've just shown up in a parlor.\\n\\n\\n\\nThere is an exit to the east. Don't worry, it is unblocked.\\n\\nThere is a blueberry and a controller on the floor.\", 'inventory': 'You are carrying nothing.', 'admissible_commands': ['examine blueberry', 'examine controller', 'go east', 'inventory', 'look', 'take blueberry', 'take controller'], 'entities': ['blueberry', 'controller', 'north', 'south', 'east', 'west'], 'objective': \"It's time to explore the amazing world of TextWorld! Your task for today is to lift the controller from the floor of the parlor.\"}\n",
      "Reward = -6\n",
      "Doing: put dvd\n",
      "{'score': 0, 'done': False, 'won': False, 'lost': False, 'obs': \"You can't see any such thing.\\n\", 'description': \"-= Parlor =-\\nYou've just shown up in a parlor.\\n\\n\\n\\nThere is an exit to the east. Don't worry, it is unblocked.\\n\\nThere is a blueberry and a controller on the floor.\", 'inventory': 'You are carrying nothing.', 'admissible_commands': ['examine blueberry', 'examine controller', 'go east', 'inventory', 'look', 'take blueberry', 'take controller'], 'entities': ['blueberry', 'controller', 'north', 'south', 'east', 'west'], 'objective': \"It's time to explore the amazing world of TextWorld! Your task for today is to lift the controller from the floor of the parlor.\"}\n",
      "Reward = -6\n",
      "Doing: unlock club\n",
      "{'score': 0, 'done': False, 'won': False, 'lost': False, 'obs': \"You can't see any such thing.\\n\", 'description': \"-= Parlor =-\\nYou've just shown up in a parlor.\\n\\n\\n\\nThere is an exit to the east. Don't worry, it is unblocked.\\n\\nThere is a blueberry and a controller on the floor.\", 'inventory': 'You are carrying nothing.', 'admissible_commands': ['examine blueberry', 'examine controller', 'go east', 'inventory', 'look', 'take blueberry', 'take controller'], 'entities': ['blueberry', 'controller', 'north', 'south', 'east', 'west'], 'objective': \"It's time to explore the amazing world of TextWorld! Your task for today is to lift the controller from the floor of the parlor.\"}\n",
      "Reward = -6\n",
      "Doing: unlock passkey\n",
      "{'score': 0, 'done': False, 'won': False, 'lost': False, 'obs': \"You can't see any such thing.\\n\", 'description': \"-= Parlor =-\\nYou've just shown up in a parlor.\\n\\n\\n\\nThere is an exit to the east. Don't worry, it is unblocked.\\n\\nThere is a blueberry and a controller on the floor.\", 'inventory': 'You are carrying nothing.', 'admissible_commands': ['examine blueberry', 'examine controller', 'go east', 'inventory', 'look', 'take blueberry', 'take controller'], 'entities': ['blueberry', 'controller', 'north', 'south', 'east', 'west'], 'objective': \"It's time to explore the amazing world of TextWorld! Your task for today is to lift the controller from the floor of the parlor.\"}\n",
      "Reward = -6\n",
      "Doing: examine iron\n",
      "{'score': 0, 'done': False, 'won': False, 'lost': False, 'obs': \"You can't see any such thing.\\n\", 'description': \"-= Parlor =-\\nYou've just shown up in a parlor.\\n\\n\\n\\nThere is an exit to the east. Don't worry, it is unblocked.\\n\\nThere is a blueberry and a controller on the floor.\", 'inventory': 'You are carrying nothing.', 'admissible_commands': ['examine blueberry', 'examine controller', 'go east', 'inventory', 'look', 'take blueberry', 'take controller'], 'entities': ['blueberry', 'controller', 'north', 'south', 'east', 'west'], 'objective': \"It's time to explore the amazing world of TextWorld! Your task for today is to lift the controller from the floor of the parlor.\"}\n",
      "Reward = -5\n",
      "Doing: examine hat\n",
      "{'score': 0, 'done': False, 'won': False, 'lost': False, 'obs': \"You can't see any such thing.\\n\", 'description': \"-= Parlor =-\\nYou've just shown up in a parlor.\\n\\n\\n\\nThere is an exit to the east. Don't worry, it is unblocked.\\n\\nThere is a blueberry and a controller on the floor.\", 'inventory': 'You are carrying nothing.', 'admissible_commands': ['examine blueberry', 'examine controller', 'go east', 'inventory', 'look', 'take blueberry', 'take controller'], 'entities': ['blueberry', 'controller', 'north', 'south', 'east', 'west'], 'objective': \"It's time to explore the amazing world of TextWorld! Your task for today is to lift the controller from the floor of the parlor.\"}\n",
      "Reward = -5\n",
      "Doing: go blender\n",
      "{'score': 0, 'done': False, 'won': False, 'lost': False, 'obs': \"You can't see any such thing.\\n\", 'description': \"-= Parlor =-\\nYou've just shown up in a parlor.\\n\\n\\n\\nThere is an exit to the east. Don't worry, it is unblocked.\\n\\nThere is a blueberry and a controller on the floor.\", 'inventory': 'You are carrying nothing.', 'admissible_commands': ['examine blueberry', 'examine controller', 'go east', 'inventory', 'look', 'take blueberry', 'take controller'], 'entities': ['blueberry', 'controller', 'north', 'south', 'east', 'west'], 'objective': \"It's time to explore the amazing world of TextWorld! Your task for today is to lift the controller from the floor of the parlor.\"}\n",
      "Reward = -5\n",
      "Doing: examine fondue\n",
      "{'score': 0, 'done': False, 'won': False, 'lost': False, 'obs': \"You can't see any such thing.\\n\", 'description': \"-= Parlor =-\\nYou've just shown up in a parlor.\\n\\n\\n\\nThere is an exit to the east. Don't worry, it is unblocked.\\n\\nThere is a blueberry and a controller on the floor.\", 'inventory': 'You are carrying nothing.', 'admissible_commands': ['examine blueberry', 'examine controller', 'go east', 'inventory', 'look', 'take blueberry', 'take controller'], 'entities': ['blueberry', 'controller', 'north', 'south', 'east', 'west'], 'objective': \"It's time to explore the amazing world of TextWorld! Your task for today is to lift the controller from the floor of the parlor.\"}\n",
      "Reward = -5\n",
      "Doing: examine headphones\n",
      "{'score': 0, 'done': False, 'won': False, 'lost': False, 'obs': \"You can't see any such thing.\\n\", 'description': \"-= Parlor =-\\nYou've just shown up in a parlor.\\n\\n\\n\\nThere is an exit to the east. Don't worry, it is unblocked.\\n\\nThere is a blueberry and a controller on the floor.\", 'inventory': 'You are carrying nothing.', 'admissible_commands': ['examine blueberry', 'examine controller', 'go east', 'inventory', 'look', 'take blueberry', 'take controller'], 'entities': ['blueberry', 'controller', 'north', 'south', 'east', 'west'], 'objective': \"It's time to explore the amazing world of TextWorld! Your task for today is to lift the controller from the floor of the parlor.\"}\n",
      "Reward = -5\n",
      "Doing: unlock raspberry\n",
      "{'score': 0, 'done': False, 'won': False, 'lost': False, 'obs': \"You can't see any such thing.\\n\", 'description': \"-= Parlor =-\\nYou've just shown up in a parlor.\\n\\n\\n\\nThere is an exit to the east. Don't worry, it is unblocked.\\n\\nThere is a blueberry and a controller on the floor.\", 'inventory': 'You are carrying nothing.', 'admissible_commands': ['examine blueberry', 'examine controller', 'go east', 'inventory', 'look', 'take blueberry', 'take controller'], 'entities': ['blueberry', 'controller', 'north', 'south', 'east', 'west'], 'objective': \"It's time to explore the amazing world of TextWorld! Your task for today is to lift the controller from the floor of the parlor.\"}\n",
      "Reward = -6\n",
      "Doing: unlock lightbulb\n",
      "{'score': 0, 'done': True, 'won': False, 'lost': False, 'obs': \"You can't see any such thing.\\n\", 'description': \"-= Parlor =-\\nYou've just shown up in a parlor.\\n\\n\\n\\nThere is an exit to the east. Don't worry, it is unblocked.\\n\\nThere is a blueberry and a controller on the floor.\", 'inventory': 'You are carrying nothing.', 'admissible_commands': ['examine blueberry', 'examine controller', 'go east', 'inventory', 'look', 'take blueberry', 'take controller'], 'entities': ['blueberry', 'controller', 'north', 'south', 'east', 'west'], 'objective': \"It's time to explore the amazing world of TextWorld! Your task for today is to lift the controller from the floor of the parlor.\"}\n",
      "Reward = -6\n",
      "Doing: open beetles\n",
      "{'score': 0, 'done': True, 'won': False, 'lost': False, 'obs': \"You can't see any such thing.\\n\", 'description': \"-= Parlor =-\\nYou've just shown up in a parlor.\\n\\n\\n\\nThere is an exit to the east. Don't worry, it is unblocked.\\n\\nThere is a blueberry and a controller on the floor.\", 'inventory': 'You are carrying nothing.', 'admissible_commands': ['examine blueberry', 'examine controller', 'go east', 'inventory', 'look', 'take blueberry', 'take controller'], 'entities': ['blueberry', 'controller', 'north', 'south', 'east', 'west'], 'objective': \"It's time to explore the amazing world of TextWorld! Your task for today is to lift the controller from the floor of the parlor.\"}\n",
      "Reward = -6\n",
      "Starting new game.\n",
      "{'score': 0, 'done': False, 'won': False, 'lost': False, 'obs': \"-= Parlor =-\\nYou've just shown up in a parlor.\\n\\n\\n\\nThere is an exit to the east. Don't worry, it is unblocked.\\n\\nThere is a blueberry and a controller on the floor.\\n\\n\", 'description': \"-= Parlor =-\\nYou've just shown up in a parlor.\\n\\n\\n\\nThere is an exit to the east. Don't worry, it is unblocked.\\n\\nThere is a blueberry and a controller on the floor.\", 'inventory': 'You are carrying nothing.', 'admissible_commands': ['examine blueberry', 'examine controller', 'go east', 'inventory', 'look', 'take blueberry', 'take controller'], 'entities': ['blueberry', 'controller', 'north', 'south', 'east', 'west'], 'objective': \"It's time to explore the amazing world of TextWorld! Your task for today is to lift the controller from the floor of the parlor.\"}\n",
      "Doing: open latchkey\n",
      "{'score': 0, 'done': False, 'won': False, 'lost': False, 'obs': \"You can't see any such thing.\\n\", 'description': \"-= Parlor =-\\nYou've just shown up in a parlor.\\n\\n\\n\\nThere is an exit to the east. Don't worry, it is unblocked.\\n\\nThere is a blueberry and a controller on the floor.\", 'inventory': 'You are carrying nothing.', 'admissible_commands': ['examine blueberry', 'examine controller', 'go east', 'inventory', 'look', 'take blueberry', 'take controller'], 'entities': ['blueberry', 'controller', 'north', 'south', 'east', 'west'], 'objective': \"It's time to explore the amazing world of TextWorld! Your task for today is to lift the controller from the floor of the parlor.\"}\n",
      "Reward = -6\n",
      "Doing: take sock\n",
      "{'score': 0, 'done': False, 'won': False, 'lost': False, 'obs': \"You can't see any such thing.\\n\", 'description': \"-= Parlor =-\\nYou've just shown up in a parlor.\\n\\n\\n\\nThere is an exit to the east. Don't worry, it is unblocked.\\n\\nThere is a blueberry and a controller on the floor.\", 'inventory': 'You are carrying nothing.', 'admissible_commands': ['examine blueberry', 'examine controller', 'go east', 'inventory', 'look', 'take blueberry', 'take controller'], 'entities': ['blueberry', 'controller', 'north', 'south', 'east', 'west'], 'objective': \"It's time to explore the amazing world of TextWorld! Your task for today is to lift the controller from the floor of the parlor.\"}\n",
      "Reward = -5\n",
      "Doing: unlock telephone\n",
      "{'score': 0, 'done': False, 'won': False, 'lost': False, 'obs': \"You can't see any such thing.\\n\", 'description': \"-= Parlor =-\\nYou've just shown up in a parlor.\\n\\n\\n\\nThere is an exit to the east. Don't worry, it is unblocked.\\n\\nThere is a blueberry and a controller on the floor.\", 'inventory': 'You are carrying nothing.', 'admissible_commands': ['examine blueberry', 'examine controller', 'go east', 'inventory', 'look', 'take blueberry', 'take controller'], 'entities': ['blueberry', 'controller', 'north', 'south', 'east', 'west'], 'objective': \"It's time to explore the amazing world of TextWorld! Your task for today is to lift the controller from the floor of the parlor.\"}\n",
      "Reward = -6\n",
      "Doing: unlock sword\n",
      "{'score': 0, 'done': False, 'won': False, 'lost': False, 'obs': \"You can't see any such thing.\\n\", 'description': \"-= Parlor =-\\nYou've just shown up in a parlor.\\n\\n\\n\\nThere is an exit to the east. Don't worry, it is unblocked.\\n\\nThere is a blueberry and a controller on the floor.\", 'inventory': 'You are carrying nothing.', 'admissible_commands': ['examine blueberry', 'examine controller', 'go east', 'inventory', 'look', 'take blueberry', 'take controller'], 'entities': ['blueberry', 'controller', 'north', 'south', 'east', 'west'], 'objective': \"It's time to explore the amazing world of TextWorld! Your task for today is to lift the controller from the floor of the parlor.\"}\n",
      "Reward = -6\n",
      "Doing: take cashew\n",
      "{'score': 0, 'done': False, 'won': False, 'lost': False, 'obs': \"You can't see any such thing.\\n\", 'description': \"-= Parlor =-\\nYou've just shown up in a parlor.\\n\\n\\n\\nThere is an exit to the east. Don't worry, it is unblocked.\\n\\nThere is a blueberry and a controller on the floor.\", 'inventory': 'You are carrying nothing.', 'admissible_commands': ['examine blueberry', 'examine controller', 'go east', 'inventory', 'look', 'take blueberry', 'take controller'], 'entities': ['blueberry', 'controller', 'north', 'south', 'east', 'west'], 'objective': \"It's time to explore the amazing world of TextWorld! Your task for today is to lift the controller from the floor of the parlor.\"}\n",
      "Reward = -5\n",
      "Doing: go mat\n",
      "{'score': 0, 'done': False, 'won': False, 'lost': False, 'obs': \"You can't see any such thing.\\n\", 'description': \"-= Parlor =-\\nYou've just shown up in a parlor.\\n\\n\\n\\nThere is an exit to the east. Don't worry, it is unblocked.\\n\\nThere is a blueberry and a controller on the floor.\", 'inventory': 'You are carrying nothing.', 'admissible_commands': ['examine blueberry', 'examine controller', 'go east', 'inventory', 'look', 'take blueberry', 'take controller'], 'entities': ['blueberry', 'controller', 'north', 'south', 'east', 'west'], 'objective': \"It's time to explore the amazing world of TextWorld! Your task for today is to lift the controller from the floor of the parlor.\"}\n",
      "Reward = -5\n",
      "Doing: go cushion\n",
      "{'score': 0, 'done': False, 'won': False, 'lost': False, 'obs': \"You can't see any such thing.\\n\", 'description': \"-= Parlor =-\\nYou've just shown up in a parlor.\\n\\n\\n\\nThere is an exit to the east. Don't worry, it is unblocked.\\n\\nThere is a blueberry and a controller on the floor.\", 'inventory': 'You are carrying nothing.', 'admissible_commands': ['examine blueberry', 'examine controller', 'go east', 'inventory', 'look', 'take blueberry', 'take controller'], 'entities': ['blueberry', 'controller', 'north', 'south', 'east', 'west'], 'objective': \"It's time to explore the amazing world of TextWorld! Your task for today is to lift the controller from the floor of the parlor.\"}\n",
      "Reward = -5\n",
      "Doing: take north\n",
      "{'score': 0, 'done': False, 'won': False, 'lost': False, 'obs': 'You must name something more substantial.\\n\\n\\n', 'description': \"-= Parlor =-\\nYou've just shown up in a parlor.\\n\\n\\n\\nThere is an exit to the east. Don't worry, it is unblocked.\\n\\nThere is a blueberry and a controller on the floor.\", 'inventory': 'You are carrying nothing.', 'admissible_commands': ['examine blueberry', 'examine controller', 'go east', 'inventory', 'look', 'take blueberry', 'take controller'], 'entities': ['blueberry', 'controller', 'north', 'south', 'east', 'west'], 'objective': \"It's time to explore the amazing world of TextWorld! Your task for today is to lift the controller from the floor of the parlor.\"}\n",
      "Reward = -5\n",
      "Doing: take shirt\n",
      "{'score': 0, 'done': False, 'won': False, 'lost': False, 'obs': \"You can't see any such thing.\\n\", 'description': \"-= Parlor =-\\nYou've just shown up in a parlor.\\n\\n\\n\\nThere is an exit to the east. Don't worry, it is unblocked.\\n\\nThere is a blueberry and a controller on the floor.\", 'inventory': 'You are carrying nothing.', 'admissible_commands': ['examine blueberry', 'examine controller', 'go east', 'inventory', 'look', 'take blueberry', 'take controller'], 'entities': ['blueberry', 'controller', 'north', 'south', 'east', 'west'], 'objective': \"It's time to explore the amazing world of TextWorld! Your task for today is to lift the controller from the floor of the parlor.\"}\n",
      "Reward = -5\n",
      "Doing: go tablet\n",
      "{'score': 0, 'done': False, 'won': False, 'lost': False, 'obs': \"You can't see any such thing.\\n\", 'description': \"-= Parlor =-\\nYou've just shown up in a parlor.\\n\\n\\n\\nThere is an exit to the east. Don't worry, it is unblocked.\\n\\nThere is a blueberry and a controller on the floor.\", 'inventory': 'You are carrying nothing.', 'admissible_commands': ['examine blueberry', 'examine controller', 'go east', 'inventory', 'look', 'take blueberry', 'take controller'], 'entities': ['blueberry', 'controller', 'north', 'south', 'east', 'west'], 'objective': \"It's time to explore the amazing world of TextWorld! Your task for today is to lift the controller from the floor of the parlor.\"}\n",
      "Reward = -5\n",
      "Doing: examine west\n",
      "{'score': 0, 'done': False, 'won': False, 'lost': False, 'obs': 'You see nothing unexpected in that direction.\\n\\n\\n', 'description': \"-= Parlor =-\\nYou've just shown up in a parlor.\\n\\n\\n\\nThere is an exit to the east. Don't worry, it is unblocked.\\n\\nThere is a blueberry and a controller on the floor.\", 'inventory': 'You are carrying nothing.', 'admissible_commands': ['examine blueberry', 'examine controller', 'go east', 'inventory', 'look', 'take blueberry', 'take controller'], 'entities': ['blueberry', 'controller', 'north', 'south', 'east', 'west'], 'objective': \"It's time to explore the amazing world of TextWorld! Your task for today is to lift the controller from the floor of the parlor.\"}\n",
      "Reward = -4\n",
      "Doing: put blanket\n",
      "{'score': 0, 'done': False, 'won': False, 'lost': False, 'obs': \"You can't see any such thing.\\n\", 'description': \"-= Parlor =-\\nYou've just shown up in a parlor.\\n\\n\\n\\nThere is an exit to the east. Don't worry, it is unblocked.\\n\\nThere is a blueberry and a controller on the floor.\", 'inventory': 'You are carrying nothing.', 'admissible_commands': ['examine blueberry', 'examine controller', 'go east', 'inventory', 'look', 'take blueberry', 'take controller'], 'entities': ['blueberry', 'controller', 'north', 'south', 'east', 'west'], 'objective': \"It's time to explore the amazing world of TextWorld! Your task for today is to lift the controller from the floor of the parlor.\"}\n",
      "Reward = -6\n",
      "Doing: take east\n",
      "{'score': 0, 'done': False, 'won': False, 'lost': False, 'obs': 'You must name something more substantial.\\n\\n\\n', 'description': \"-= Parlor =-\\nYou've just shown up in a parlor.\\n\\n\\n\\nThere is an exit to the east. Don't worry, it is unblocked.\\n\\nThere is a blueberry and a controller on the floor.\", 'inventory': 'You are carrying nothing.', 'admissible_commands': ['examine blueberry', 'examine controller', 'go east', 'inventory', 'look', 'take blueberry', 'take controller'], 'entities': ['blueberry', 'controller', 'north', 'south', 'east', 'west'], 'objective': \"It's time to explore the amazing world of TextWorld! Your task for today is to lift the controller from the floor of the parlor.\"}\n",
      "Reward = -5\n",
      "Doing: unlock huckleberry\n",
      "{'score': 0, 'done': False, 'won': False, 'lost': False, 'obs': \"You can't see any such thing.\\n\", 'description': \"-= Parlor =-\\nYou've just shown up in a parlor.\\n\\n\\n\\nThere is an exit to the east. Don't worry, it is unblocked.\\n\\nThere is a blueberry and a controller on the floor.\", 'inventory': 'You are carrying nothing.', 'admissible_commands': ['examine blueberry', 'examine controller', 'go east', 'inventory', 'look', 'take blueberry', 'take controller'], 'entities': ['blueberry', 'controller', 'north', 'south', 'east', 'west'], 'objective': \"It's time to explore the amazing world of TextWorld! Your task for today is to lift the controller from the floor of the parlor.\"}\n",
      "Reward = -6\n",
      "Doing: go teacup\n",
      "{'score': 0, 'done': False, 'won': False, 'lost': False, 'obs': \"You can't see any such thing.\\n\", 'description': \"-= Parlor =-\\nYou've just shown up in a parlor.\\n\\n\\n\\nThere is an exit to the east. Don't worry, it is unblocked.\\n\\nThere is a blueberry and a controller on the floor.\", 'inventory': 'You are carrying nothing.', 'admissible_commands': ['examine blueberry', 'examine controller', 'go east', 'inventory', 'look', 'take blueberry', 'take controller'], 'entities': ['blueberry', 'controller', 'north', 'south', 'east', 'west'], 'objective': \"It's time to explore the amazing world of TextWorld! Your task for today is to lift the controller from the floor of the parlor.\"}\n",
      "Reward = -5\n",
      "Doing: put strip\n",
      "{'score': 0, 'done': False, 'won': False, 'lost': False, 'obs': \"You can't see any such thing.\\n\", 'description': \"-= Parlor =-\\nYou've just shown up in a parlor.\\n\\n\\n\\nThere is an exit to the east. Don't worry, it is unblocked.\\n\\nThere is a blueberry and a controller on the floor.\", 'inventory': 'You are carrying nothing.', 'admissible_commands': ['examine blueberry', 'examine controller', 'go east', 'inventory', 'look', 'take blueberry', 'take controller'], 'entities': ['blueberry', 'controller', 'north', 'south', 'east', 'west'], 'objective': \"It's time to explore the amazing world of TextWorld! Your task for today is to lift the controller from the floor of the parlor.\"}\n",
      "Reward = -6\n",
      "Doing: go teapot\n",
      "{'score': 0, 'done': False, 'won': False, 'lost': False, 'obs': \"You can't see any such thing.\\n\", 'description': \"-= Parlor =-\\nYou've just shown up in a parlor.\\n\\n\\n\\nThere is an exit to the east. Don't worry, it is unblocked.\\n\\nThere is a blueberry and a controller on the floor.\", 'inventory': 'You are carrying nothing.', 'admissible_commands': ['examine blueberry', 'examine controller', 'go east', 'inventory', 'look', 'take blueberry', 'take controller'], 'entities': ['blueberry', 'controller', 'north', 'south', 'east', 'west'], 'objective': \"It's time to explore the amazing world of TextWorld! Your task for today is to lift the controller from the floor of the parlor.\"}\n",
      "Reward = -5\n",
      "Doing: open bread\n",
      "{'score': 0, 'done': False, 'won': False, 'lost': False, 'obs': \"You can't see any such thing.\\n\", 'description': \"-= Parlor =-\\nYou've just shown up in a parlor.\\n\\n\\n\\nThere is an exit to the east. Don't worry, it is unblocked.\\n\\nThere is a blueberry and a controller on the floor.\", 'inventory': 'You are carrying nothing.', 'admissible_commands': ['examine blueberry', 'examine controller', 'go east', 'inventory', 'look', 'take blueberry', 'take controller'], 'entities': ['blueberry', 'controller', 'north', 'south', 'east', 'west'], 'objective': \"It's time to explore the amazing world of TextWorld! Your task for today is to lift the controller from the floor of the parlor.\"}\n",
      "Reward = -6\n",
      "Doing: put pear\n",
      "{'score': 0, 'done': False, 'won': False, 'lost': False, 'obs': \"You can't see any such thing.\\n\", 'description': \"-= Parlor =-\\nYou've just shown up in a parlor.\\n\\n\\n\\nThere is an exit to the east. Don't worry, it is unblocked.\\n\\nThere is a blueberry and a controller on the floor.\", 'inventory': 'You are carrying nothing.', 'admissible_commands': ['examine blueberry', 'examine controller', 'go east', 'inventory', 'look', 'take blueberry', 'take controller'], 'entities': ['blueberry', 'controller', 'north', 'south', 'east', 'west'], 'objective': \"It's time to explore the amazing world of TextWorld! Your task for today is to lift the controller from the floor of the parlor.\"}\n",
      "Reward = -6\n",
      "Doing: open carrot\n",
      "{'score': 0, 'done': False, 'won': False, 'lost': False, 'obs': \"You can't see any such thing.\\n\", 'description': \"-= Parlor =-\\nYou've just shown up in a parlor.\\n\\n\\n\\nThere is an exit to the east. Don't worry, it is unblocked.\\n\\nThere is a blueberry and a controller on the floor.\", 'inventory': 'You are carrying nothing.', 'admissible_commands': ['examine blueberry', 'examine controller', 'go east', 'inventory', 'look', 'take blueberry', 'take controller'], 'entities': ['blueberry', 'controller', 'north', 'south', 'east', 'west'], 'objective': \"It's time to explore the amazing world of TextWorld! Your task for today is to lift the controller from the floor of the parlor.\"}\n",
      "Reward = -6\n",
      "Doing: put laptop\n",
      "{'score': 0, 'done': False, 'won': False, 'lost': False, 'obs': \"You can't see any such thing.\\n\", 'description': \"-= Parlor =-\\nYou've just shown up in a parlor.\\n\\n\\n\\nThere is an exit to the east. Don't worry, it is unblocked.\\n\\nThere is a blueberry and a controller on the floor.\", 'inventory': 'You are carrying nothing.', 'admissible_commands': ['examine blueberry', 'examine controller', 'go east', 'inventory', 'look', 'take blueberry', 'take controller'], 'entities': ['blueberry', 'controller', 'north', 'south', 'east', 'west'], 'objective': \"It's time to explore the amazing world of TextWorld! Your task for today is to lift the controller from the floor of the parlor.\"}\n",
      "Reward = -6\n",
      "Doing: go passkey\n",
      "{'score': 0, 'done': False, 'won': False, 'lost': False, 'obs': \"You can't see any such thing.\\n\", 'description': \"-= Parlor =-\\nYou've just shown up in a parlor.\\n\\n\\n\\nThere is an exit to the east. Don't worry, it is unblocked.\\n\\nThere is a blueberry and a controller on the floor.\", 'inventory': 'You are carrying nothing.', 'admissible_commands': ['examine blueberry', 'examine controller', 'go east', 'inventory', 'look', 'take blueberry', 'take controller'], 'entities': ['blueberry', 'controller', 'north', 'south', 'east', 'west'], 'objective': \"It's time to explore the amazing world of TextWorld! Your task for today is to lift the controller from the floor of the parlor.\"}\n",
      "Reward = -5\n",
      "Doing: take sword\n",
      "{'score': 0, 'done': False, 'won': False, 'lost': False, 'obs': \"You can't see any such thing.\\n\", 'description': \"-= Parlor =-\\nYou've just shown up in a parlor.\\n\\n\\n\\nThere is an exit to the east. Don't worry, it is unblocked.\\n\\nThere is a blueberry and a controller on the floor.\", 'inventory': 'You are carrying nothing.', 'admissible_commands': ['examine blueberry', 'examine controller', 'go east', 'inventory', 'look', 'take blueberry', 'take controller'], 'entities': ['blueberry', 'controller', 'north', 'south', 'east', 'west'], 'objective': \"It's time to explore the amazing world of TextWorld! Your task for today is to lift the controller from the floor of the parlor.\"}\n",
      "Reward = -5\n",
      "Doing: examine sock\n",
      "{'score': 0, 'done': False, 'won': False, 'lost': False, 'obs': \"You can't see any such thing.\\n\", 'description': \"-= Parlor =-\\nYou've just shown up in a parlor.\\n\\n\\n\\nThere is an exit to the east. Don't worry, it is unblocked.\\n\\nThere is a blueberry and a controller on the floor.\", 'inventory': 'You are carrying nothing.', 'admissible_commands': ['examine blueberry', 'examine controller', 'go east', 'inventory', 'look', 'take blueberry', 'take controller'], 'entities': ['blueberry', 'controller', 'north', 'south', 'east', 'west'], 'objective': \"It's time to explore the amazing world of TextWorld! Your task for today is to lift the controller from the floor of the parlor.\"}\n",
      "Reward = -5\n",
      "Doing: take sock\n",
      "{'score': 0, 'done': False, 'won': False, 'lost': False, 'obs': \"You can't see any such thing.\\n\", 'description': \"-= Parlor =-\\nYou've just shown up in a parlor.\\n\\n\\n\\nThere is an exit to the east. Don't worry, it is unblocked.\\n\\nThere is a blueberry and a controller on the floor.\", 'inventory': 'You are carrying nothing.', 'admissible_commands': ['examine blueberry', 'examine controller', 'go east', 'inventory', 'look', 'take blueberry', 'take controller'], 'entities': ['blueberry', 'controller', 'north', 'south', 'east', 'west'], 'objective': \"It's time to explore the amazing world of TextWorld! Your task for today is to lift the controller from the floor of the parlor.\"}\n",
      "Reward = -5\n",
      "Doing: take butterfly\n",
      "{'score': 0, 'done': False, 'won': False, 'lost': False, 'obs': \"You can't see any such thing.\\n\", 'description': \"-= Parlor =-\\nYou've just shown up in a parlor.\\n\\n\\n\\nThere is an exit to the east. Don't worry, it is unblocked.\\n\\nThere is a blueberry and a controller on the floor.\", 'inventory': 'You are carrying nothing.', 'admissible_commands': ['examine blueberry', 'examine controller', 'go east', 'inventory', 'look', 'take blueberry', 'take controller'], 'entities': ['blueberry', 'controller', 'north', 'south', 'east', 'west'], 'objective': \"It's time to explore the amazing world of TextWorld! Your task for today is to lift the controller from the floor of the parlor.\"}\n",
      "Reward = -5\n",
      "Doing: put legume\n",
      "{'score': 0, 'done': False, 'won': False, 'lost': False, 'obs': \"You can't see any such thing.\\n\", 'description': \"-= Parlor =-\\nYou've just shown up in a parlor.\\n\\n\\n\\nThere is an exit to the east. Don't worry, it is unblocked.\\n\\nThere is a blueberry and a controller on the floor.\", 'inventory': 'You are carrying nothing.', 'admissible_commands': ['examine blueberry', 'examine controller', 'go east', 'inventory', 'look', 'take blueberry', 'take controller'], 'entities': ['blueberry', 'controller', 'north', 'south', 'east', 'west'], 'objective': \"It's time to explore the amazing world of TextWorld! Your task for today is to lift the controller from the floor of the parlor.\"}\n",
      "Reward = -6\n",
      "Doing: go manuscript\n",
      "{'score': 0, 'done': False, 'won': False, 'lost': False, 'obs': \"You can't see any such thing.\\n\", 'description': \"-= Parlor =-\\nYou've just shown up in a parlor.\\n\\n\\n\\nThere is an exit to the east. Don't worry, it is unblocked.\\n\\nThere is a blueberry and a controller on the floor.\", 'inventory': 'You are carrying nothing.', 'admissible_commands': ['examine blueberry', 'examine controller', 'go east', 'inventory', 'look', 'take blueberry', 'take controller'], 'entities': ['blueberry', 'controller', 'north', 'south', 'east', 'west'], 'objective': \"It's time to explore the amazing world of TextWorld! Your task for today is to lift the controller from the floor of the parlor.\"}\n",
      "Reward = -5\n",
      "Doing: examine loganberry\n",
      "{'score': 0, 'done': False, 'won': False, 'lost': False, 'obs': \"You can't see any such thing.\\n\", 'description': \"-= Parlor =-\\nYou've just shown up in a parlor.\\n\\n\\n\\nThere is an exit to the east. Don't worry, it is unblocked.\\n\\nThere is a blueberry and a controller on the floor.\", 'inventory': 'You are carrying nothing.', 'admissible_commands': ['examine blueberry', 'examine controller', 'go east', 'inventory', 'look', 'take blueberry', 'take controller'], 'entities': ['blueberry', 'controller', 'north', 'south', 'east', 'west'], 'objective': \"It's time to explore the amazing world of TextWorld! Your task for today is to lift the controller from the floor of the parlor.\"}\n",
      "Reward = -5\n",
      "Doing: examine mat\n",
      "{'score': 0, 'done': False, 'won': False, 'lost': False, 'obs': \"You can't see any such thing.\\n\", 'description': \"-= Parlor =-\\nYou've just shown up in a parlor.\\n\\n\\n\\nThere is an exit to the east. Don't worry, it is unblocked.\\n\\nThere is a blueberry and a controller on the floor.\", 'inventory': 'You are carrying nothing.', 'admissible_commands': ['examine blueberry', 'examine controller', 'go east', 'inventory', 'look', 'take blueberry', 'take controller'], 'entities': ['blueberry', 'controller', 'north', 'south', 'east', 'west'], 'objective': \"It's time to explore the amazing world of TextWorld! Your task for today is to lift the controller from the floor of the parlor.\"}\n",
      "Reward = -5\n",
      "Doing: open pear\n",
      "{'score': 0, 'done': False, 'won': False, 'lost': False, 'obs': \"You can't see any such thing.\\n\", 'description': \"-= Parlor =-\\nYou've just shown up in a parlor.\\n\\n\\n\\nThere is an exit to the east. Don't worry, it is unblocked.\\n\\nThere is a blueberry and a controller on the floor.\", 'inventory': 'You are carrying nothing.', 'admissible_commands': ['examine blueberry', 'examine controller', 'go east', 'inventory', 'look', 'take blueberry', 'take controller'], 'entities': ['blueberry', 'controller', 'north', 'south', 'east', 'west'], 'objective': \"It's time to explore the amazing world of TextWorld! Your task for today is to lift the controller from the floor of the parlor.\"}\n",
      "Reward = -6\n",
      "Doing: go cookie\n",
      "{'score': 0, 'done': False, 'won': False, 'lost': False, 'obs': \"You can't see any such thing.\\n\", 'description': \"-= Parlor =-\\nYou've just shown up in a parlor.\\n\\n\\n\\nThere is an exit to the east. Don't worry, it is unblocked.\\n\\nThere is a blueberry and a controller on the floor.\", 'inventory': 'You are carrying nothing.', 'admissible_commands': ['examine blueberry', 'examine controller', 'go east', 'inventory', 'look', 'take blueberry', 'take controller'], 'entities': ['blueberry', 'controller', 'north', 'south', 'east', 'west'], 'objective': \"It's time to explore the amazing world of TextWorld! Your task for today is to lift the controller from the floor of the parlor.\"}\n",
      "Reward = -5\n",
      "Doing: take grape\n",
      "{'score': 0, 'done': False, 'won': False, 'lost': False, 'obs': \"You can't see any such thing.\\n\", 'description': \"-= Parlor =-\\nYou've just shown up in a parlor.\\n\\n\\n\\nThere is an exit to the east. Don't worry, it is unblocked.\\n\\nThere is a blueberry and a controller on the floor.\", 'inventory': 'You are carrying nothing.', 'admissible_commands': ['examine blueberry', 'examine controller', 'go east', 'inventory', 'look', 'take blueberry', 'take controller'], 'entities': ['blueberry', 'controller', 'north', 'south', 'east', 'west'], 'objective': \"It's time to explore the amazing world of TextWorld! Your task for today is to lift the controller from the floor of the parlor.\"}\n",
      "Reward = -5\n",
      "Doing: go bowl\n",
      "{'score': 0, 'done': False, 'won': False, 'lost': False, 'obs': \"You can't see any such thing.\\n\", 'description': \"-= Parlor =-\\nYou've just shown up in a parlor.\\n\\n\\n\\nThere is an exit to the east. Don't worry, it is unblocked.\\n\\nThere is a blueberry and a controller on the floor.\", 'inventory': 'You are carrying nothing.', 'admissible_commands': ['examine blueberry', 'examine controller', 'go east', 'inventory', 'look', 'take blueberry', 'take controller'], 'entities': ['blueberry', 'controller', 'north', 'south', 'east', 'west'], 'objective': \"It's time to explore the amazing world of TextWorld! Your task for today is to lift the controller from the floor of the parlor.\"}\n",
      "Reward = -5\n",
      "Doing: unlock sword\n",
      "{'score': 0, 'done': False, 'won': False, 'lost': False, 'obs': \"You can't see any such thing.\\n\", 'description': \"-= Parlor =-\\nYou've just shown up in a parlor.\\n\\n\\n\\nThere is an exit to the east. Don't worry, it is unblocked.\\n\\nThere is a blueberry and a controller on the floor.\", 'inventory': 'You are carrying nothing.', 'admissible_commands': ['examine blueberry', 'examine controller', 'go east', 'inventory', 'look', 'take blueberry', 'take controller'], 'entities': ['blueberry', 'controller', 'north', 'south', 'east', 'west'], 'objective': \"It's time to explore the amazing world of TextWorld! Your task for today is to lift the controller from the floor of the parlor.\"}\n",
      "Reward = -6\n",
      "Doing: open sock\n",
      "{'score': 0, 'done': False, 'won': False, 'lost': False, 'obs': \"You can't see any such thing.\\n\", 'description': \"-= Parlor =-\\nYou've just shown up in a parlor.\\n\\n\\n\\nThere is an exit to the east. Don't worry, it is unblocked.\\n\\nThere is a blueberry and a controller on the floor.\", 'inventory': 'You are carrying nothing.', 'admissible_commands': ['examine blueberry', 'examine controller', 'go east', 'inventory', 'look', 'take blueberry', 'take controller'], 'entities': ['blueberry', 'controller', 'north', 'south', 'east', 'west'], 'objective': \"It's time to explore the amazing world of TextWorld! Your task for today is to lift the controller from the floor of the parlor.\"}\n",
      "Reward = -6\n",
      "Doing: open fondue\n",
      "{'score': 0, 'done': False, 'won': False, 'lost': False, 'obs': \"You can't see any such thing.\\n\", 'description': \"-= Parlor =-\\nYou've just shown up in a parlor.\\n\\n\\n\\nThere is an exit to the east. Don't worry, it is unblocked.\\n\\nThere is a blueberry and a controller on the floor.\", 'inventory': 'You are carrying nothing.', 'admissible_commands': ['examine blueberry', 'examine controller', 'go east', 'inventory', 'look', 'take blueberry', 'take controller'], 'entities': ['blueberry', 'controller', 'north', 'south', 'east', 'west'], 'objective': \"It's time to explore the amazing world of TextWorld! Your task for today is to lift the controller from the floor of the parlor.\"}\n",
      "Reward = -6\n",
      "Doing: go lingonberry\n",
      "{'score': 0, 'done': False, 'won': False, 'lost': False, 'obs': \"You can't see any such thing.\\n\", 'description': \"-= Parlor =-\\nYou've just shown up in a parlor.\\n\\n\\n\\nThere is an exit to the east. Don't worry, it is unblocked.\\n\\nThere is a blueberry and a controller on the floor.\", 'inventory': 'You are carrying nothing.', 'admissible_commands': ['examine blueberry', 'examine controller', 'go east', 'inventory', 'look', 'take blueberry', 'take controller'], 'entities': ['blueberry', 'controller', 'north', 'south', 'east', 'west'], 'objective': \"It's time to explore the amazing world of TextWorld! Your task for today is to lift the controller from the floor of the parlor.\"}\n",
      "Reward = -5\n",
      "Doing: put cantaloupe\n",
      "{'score': 0, 'done': False, 'won': False, 'lost': False, 'obs': \"You can't see any such thing.\\n\", 'description': \"-= Parlor =-\\nYou've just shown up in a parlor.\\n\\n\\n\\nThere is an exit to the east. Don't worry, it is unblocked.\\n\\nThere is a blueberry and a controller on the floor.\", 'inventory': 'You are carrying nothing.', 'admissible_commands': ['examine blueberry', 'examine controller', 'go east', 'inventory', 'look', 'take blueberry', 'take controller'], 'entities': ['blueberry', 'controller', 'north', 'south', 'east', 'west'], 'objective': \"It's time to explore the amazing world of TextWorld! Your task for today is to lift the controller from the floor of the parlor.\"}\n",
      "Reward = -6\n",
      "Doing: put hat\n",
      "{'score': 0, 'done': False, 'won': False, 'lost': False, 'obs': \"You can't see any such thing.\\n\", 'description': \"-= Parlor =-\\nYou've just shown up in a parlor.\\n\\n\\n\\nThere is an exit to the east. Don't worry, it is unblocked.\\n\\nThere is a blueberry and a controller on the floor.\", 'inventory': 'You are carrying nothing.', 'admissible_commands': ['examine blueberry', 'examine controller', 'go east', 'inventory', 'look', 'take blueberry', 'take controller'], 'entities': ['blueberry', 'controller', 'north', 'south', 'east', 'west'], 'objective': \"It's time to explore the amazing world of TextWorld! Your task for today is to lift the controller from the floor of the parlor.\"}\n",
      "Reward = -6\n",
      "Doing: take dispenser\n",
      "{'score': 0, 'done': False, 'won': False, 'lost': False, 'obs': \"You can't see any such thing.\\n\", 'description': \"-= Parlor =-\\nYou've just shown up in a parlor.\\n\\n\\n\\nThere is an exit to the east. Don't worry, it is unblocked.\\n\\nThere is a blueberry and a controller on the floor.\", 'inventory': 'You are carrying nothing.', 'admissible_commands': ['examine blueberry', 'examine controller', 'go east', 'inventory', 'look', 'take blueberry', 'take controller'], 'entities': ['blueberry', 'controller', 'north', 'south', 'east', 'west'], 'objective': \"It's time to explore the amazing world of TextWorld! Your task for today is to lift the controller from the floor of the parlor.\"}\n",
      "Reward = -5\n",
      "Doing: open Calendar\n",
      "{'score': 0, 'done': False, 'won': False, 'lost': False, 'obs': \"You can't see any such thing.\\n\", 'description': \"-= Parlor =-\\nYou've just shown up in a parlor.\\n\\n\\n\\nThere is an exit to the east. Don't worry, it is unblocked.\\n\\nThere is a blueberry and a controller on the floor.\", 'inventory': 'You are carrying nothing.', 'admissible_commands': ['examine blueberry', 'examine controller', 'go east', 'inventory', 'look', 'take blueberry', 'take controller'], 'entities': ['blueberry', 'controller', 'north', 'south', 'east', 'west'], 'objective': \"It's time to explore the amazing world of TextWorld! Your task for today is to lift the controller from the floor of the parlor.\"}\n",
      "Reward = -6\n",
      "Doing: go bats\n",
      "{'score': 0, 'done': False, 'won': False, 'lost': False, 'obs': \"You can't see any such thing.\\n\", 'description': \"-= Parlor =-\\nYou've just shown up in a parlor.\\n\\n\\n\\nThere is an exit to the east. Don't worry, it is unblocked.\\n\\nThere is a blueberry and a controller on the floor.\", 'inventory': 'You are carrying nothing.', 'admissible_commands': ['examine blueberry', 'examine controller', 'go east', 'inventory', 'look', 'take blueberry', 'take controller'], 'entities': ['blueberry', 'controller', 'north', 'south', 'east', 'west'], 'objective': \"It's time to explore the amazing world of TextWorld! Your task for today is to lift the controller from the floor of the parlor.\"}\n",
      "Reward = -5\n",
      "Doing: take cucumber\n",
      "{'score': 0, 'done': False, 'won': False, 'lost': False, 'obs': \"You can't see any such thing.\\n\", 'description': \"-= Parlor =-\\nYou've just shown up in a parlor.\\n\\n\\n\\nThere is an exit to the east. Don't worry, it is unblocked.\\n\\nThere is a blueberry and a controller on the floor.\", 'inventory': 'You are carrying nothing.', 'admissible_commands': ['examine blueberry', 'examine controller', 'go east', 'inventory', 'look', 'take blueberry', 'take controller'], 'entities': ['blueberry', 'controller', 'north', 'south', 'east', 'west'], 'objective': \"It's time to explore the amazing world of TextWorld! Your task for today is to lift the controller from the floor of the parlor.\"}\n",
      "Reward = -5\n",
      "Doing: go sock\n",
      "{'score': 0, 'done': False, 'won': False, 'lost': False, 'obs': \"You can't see any such thing.\\n\", 'description': \"-= Parlor =-\\nYou've just shown up in a parlor.\\n\\n\\n\\nThere is an exit to the east. Don't worry, it is unblocked.\\n\\nThere is a blueberry and a controller on the floor.\", 'inventory': 'You are carrying nothing.', 'admissible_commands': ['examine blueberry', 'examine controller', 'go east', 'inventory', 'look', 'take blueberry', 'take controller'], 'entities': ['blueberry', 'controller', 'north', 'south', 'east', 'west'], 'objective': \"It's time to explore the amazing world of TextWorld! Your task for today is to lift the controller from the floor of the parlor.\"}\n",
      "Reward = -5\n",
      "Doing: unlock gooseberry\n",
      "{'score': 0, 'done': False, 'won': False, 'lost': False, 'obs': \"You can't see any such thing.\\n\", 'description': \"-= Parlor =-\\nYou've just shown up in a parlor.\\n\\n\\n\\nThere is an exit to the east. Don't worry, it is unblocked.\\n\\nThere is a blueberry and a controller on the floor.\", 'inventory': 'You are carrying nothing.', 'admissible_commands': ['examine blueberry', 'examine controller', 'go east', 'inventory', 'look', 'take blueberry', 'take controller'], 'entities': ['blueberry', 'controller', 'north', 'south', 'east', 'west'], 'objective': \"It's time to explore the amazing world of TextWorld! Your task for today is to lift the controller from the floor of the parlor.\"}\n",
      "Reward = -6\n",
      "Doing: examine grubs\n",
      "{'score': 0, 'done': False, 'won': False, 'lost': False, 'obs': \"You can't see any such thing.\\n\", 'description': \"-= Parlor =-\\nYou've just shown up in a parlor.\\n\\n\\n\\nThere is an exit to the east. Don't worry, it is unblocked.\\n\\nThere is a blueberry and a controller on the floor.\", 'inventory': 'You are carrying nothing.', 'admissible_commands': ['examine blueberry', 'examine controller', 'go east', 'inventory', 'look', 'take blueberry', 'take controller'], 'entities': ['blueberry', 'controller', 'north', 'south', 'east', 'west'], 'objective': \"It's time to explore the amazing world of TextWorld! Your task for today is to lift the controller from the floor of the parlor.\"}\n",
      "Reward = -5\n",
      "Doing: open passkey\n",
      "{'score': 0, 'done': False, 'won': False, 'lost': False, 'obs': \"You can't see any such thing.\\n\", 'description': \"-= Parlor =-\\nYou've just shown up in a parlor.\\n\\n\\n\\nThere is an exit to the east. Don't worry, it is unblocked.\\n\\nThere is a blueberry and a controller on the floor.\", 'inventory': 'You are carrying nothing.', 'admissible_commands': ['examine blueberry', 'examine controller', 'go east', 'inventory', 'look', 'take blueberry', 'take controller'], 'entities': ['blueberry', 'controller', 'north', 'south', 'east', 'west'], 'objective': \"It's time to explore the amazing world of TextWorld! Your task for today is to lift the controller from the floor of the parlor.\"}\n",
      "Reward = -6\n",
      "Doing: put honeydew\n",
      "{'score': 0, 'done': True, 'won': False, 'lost': False, 'obs': \"You can't see any such thing.\\n\", 'description': \"-= Parlor =-\\nYou've just shown up in a parlor.\\n\\n\\n\\nThere is an exit to the east. Don't worry, it is unblocked.\\n\\nThere is a blueberry and a controller on the floor.\", 'inventory': 'You are carrying nothing.', 'admissible_commands': ['examine blueberry', 'examine controller', 'go east', 'inventory', 'look', 'take blueberry', 'take controller'], 'entities': ['blueberry', 'controller', 'north', 'south', 'east', 'west'], 'objective': \"It's time to explore the amazing world of TextWorld! Your task for today is to lift the controller from the floor of the parlor.\"}\n",
      "Reward = -6\n",
      "Doing: take butterfly\n",
      "{'score': 0, 'done': True, 'won': False, 'lost': False, 'obs': \"You can't see any such thing.\\n\", 'description': \"-= Parlor =-\\nYou've just shown up in a parlor.\\n\\n\\n\\nThere is an exit to the east. Don't worry, it is unblocked.\\n\\nThere is a blueberry and a controller on the floor.\", 'inventory': 'You are carrying nothing.', 'admissible_commands': ['examine blueberry', 'examine controller', 'go east', 'inventory', 'look', 'take blueberry', 'take controller'], 'entities': ['blueberry', 'controller', 'north', 'south', 'east', 'west'], 'objective': \"It's time to explore the amazing world of TextWorld! Your task for today is to lift the controller from the floor of the parlor.\"}\n",
      "Reward = -5\n",
      "Starting new game.\n",
      "{'score': 0, 'done': False, 'won': False, 'lost': False, 'obs': \"-= Parlor =-\\nYou've just shown up in a parlor.\\n\\n\\n\\nThere is an exit to the east. Don't worry, it is unblocked.\\n\\nThere is a blueberry and a controller on the floor.\\n\\n\", 'description': \"-= Parlor =-\\nYou've just shown up in a parlor.\\n\\n\\n\\nThere is an exit to the east. Don't worry, it is unblocked.\\n\\nThere is a blueberry and a controller on the floor.\", 'inventory': 'You are carrying nothing.', 'admissible_commands': ['examine blueberry', 'examine controller', 'go east', 'inventory', 'look', 'take blueberry', 'take controller'], 'entities': ['blueberry', 'controller', 'north', 'south', 'east', 'west'], 'objective': \"It's time to explore the amazing world of TextWorld! Your task for today is to lift the controller from the floor of the parlor.\"}\n",
      "Doing: go north\n",
      "{'score': 0, 'done': False, 'won': False, 'lost': False, 'obs': \"You can't go that way.\\n\\n\", 'description': \"-= Parlor =-\\nYou've just shown up in a parlor.\\n\\n\\n\\nThere is an exit to the east. Don't worry, it is unblocked.\\n\\nThere is a blueberry and a controller on the floor.\", 'inventory': 'You are carrying nothing.', 'admissible_commands': ['examine blueberry', 'examine controller', 'go east', 'inventory', 'look', 'take blueberry', 'take controller'], 'entities': ['blueberry', 'controller', 'north', 'south', 'east', 'west'], 'objective': \"It's time to explore the amazing world of TextWorld! Your task for today is to lift the controller from the floor of the parlor.\"}\n",
      "Reward = -4\n",
      "Doing: unlock toads\n",
      "{'score': 0, 'done': False, 'won': False, 'lost': False, 'obs': \"You can't see any such thing.\\n\", 'description': \"-= Parlor =-\\nYou've just shown up in a parlor.\\n\\n\\n\\nThere is an exit to the east. Don't worry, it is unblocked.\\n\\nThere is a blueberry and a controller on the floor.\", 'inventory': 'You are carrying nothing.', 'admissible_commands': ['examine blueberry', 'examine controller', 'go east', 'inventory', 'look', 'take blueberry', 'take controller'], 'entities': ['blueberry', 'controller', 'north', 'south', 'east', 'west'], 'objective': \"It's time to explore the amazing world of TextWorld! Your task for today is to lift the controller from the floor of the parlor.\"}\n",
      "Reward = -6\n",
      "Doing: examine kittens\n",
      "{'score': 0, 'done': False, 'won': False, 'lost': False, 'obs': \"You can't see any such thing.\\n\", 'description': \"-= Parlor =-\\nYou've just shown up in a parlor.\\n\\n\\n\\nThere is an exit to the east. Don't worry, it is unblocked.\\n\\nThere is a blueberry and a controller on the floor.\", 'inventory': 'You are carrying nothing.', 'admissible_commands': ['examine blueberry', 'examine controller', 'go east', 'inventory', 'look', 'take blueberry', 'take controller'], 'entities': ['blueberry', 'controller', 'north', 'south', 'east', 'west'], 'objective': \"It's time to explore the amazing world of TextWorld! Your task for today is to lift the controller from the floor of the parlor.\"}\n",
      "Reward = -5\n",
      "Doing: examine cantaloupe\n",
      "{'score': 0, 'done': False, 'won': False, 'lost': False, 'obs': \"You can't see any such thing.\\n\", 'description': \"-= Parlor =-\\nYou've just shown up in a parlor.\\n\\n\\n\\nThere is an exit to the east. Don't worry, it is unblocked.\\n\\nThere is a blueberry and a controller on the floor.\", 'inventory': 'You are carrying nothing.', 'admissible_commands': ['examine blueberry', 'examine controller', 'go east', 'inventory', 'look', 'take blueberry', 'take controller'], 'entities': ['blueberry', 'controller', 'north', 'south', 'east', 'west'], 'objective': \"It's time to explore the amazing world of TextWorld! Your task for today is to lift the controller from the floor of the parlor.\"}\n",
      "Reward = -5\n",
      "Doing: open textbook\n",
      "{'score': 0, 'done': False, 'won': False, 'lost': False, 'obs': \"You can't see any such thing.\\n\", 'description': \"-= Parlor =-\\nYou've just shown up in a parlor.\\n\\n\\n\\nThere is an exit to the east. Don't worry, it is unblocked.\\n\\nThere is a blueberry and a controller on the floor.\", 'inventory': 'You are carrying nothing.', 'admissible_commands': ['examine blueberry', 'examine controller', 'go east', 'inventory', 'look', 'take blueberry', 'take controller'], 'entities': ['blueberry', 'controller', 'north', 'south', 'east', 'west'], 'objective': \"It's time to explore the amazing world of TextWorld! Your task for today is to lift the controller from the floor of the parlor.\"}\n",
      "Reward = -6\n",
      "Doing: go teapot\n",
      "{'score': 0, 'done': False, 'won': False, 'lost': False, 'obs': \"You can't see any such thing.\\n\", 'description': \"-= Parlor =-\\nYou've just shown up in a parlor.\\n\\n\\n\\nThere is an exit to the east. Don't worry, it is unblocked.\\n\\nThere is a blueberry and a controller on the floor.\", 'inventory': 'You are carrying nothing.', 'admissible_commands': ['examine blueberry', 'examine controller', 'go east', 'inventory', 'look', 'take blueberry', 'take controller'], 'entities': ['blueberry', 'controller', 'north', 'south', 'east', 'west'], 'objective': \"It's time to explore the amazing world of TextWorld! Your task for today is to lift the controller from the floor of the parlor.\"}\n",
      "Reward = -5\n",
      "Doing: unlock cantaloupe\n",
      "{'score': 0, 'done': False, 'won': False, 'lost': False, 'obs': \"You can't see any such thing.\\n\", 'description': \"-= Parlor =-\\nYou've just shown up in a parlor.\\n\\n\\n\\nThere is an exit to the east. Don't worry, it is unblocked.\\n\\nThere is a blueberry and a controller on the floor.\", 'inventory': 'You are carrying nothing.', 'admissible_commands': ['examine blueberry', 'examine controller', 'go east', 'inventory', 'look', 'take blueberry', 'take controller'], 'entities': ['blueberry', 'controller', 'north', 'south', 'east', 'west'], 'objective': \"It's time to explore the amazing world of TextWorld! Your task for today is to lift the controller from the floor of the parlor.\"}\n",
      "Reward = -6\n",
      "Doing: take fork\n",
      "{'score': 0, 'done': False, 'won': False, 'lost': False, 'obs': \"You can't see any such thing.\\n\", 'description': \"-= Parlor =-\\nYou've just shown up in a parlor.\\n\\n\\n\\nThere is an exit to the east. Don't worry, it is unblocked.\\n\\nThere is a blueberry and a controller on the floor.\", 'inventory': 'You are carrying nothing.', 'admissible_commands': ['examine blueberry', 'examine controller', 'go east', 'inventory', 'look', 'take blueberry', 'take controller'], 'entities': ['blueberry', 'controller', 'north', 'south', 'east', 'west'], 'objective': \"It's time to explore the amazing world of TextWorld! Your task for today is to lift the controller from the floor of the parlor.\"}\n",
      "Reward = -5\n",
      "Doing: examine burger\n",
      "{'score': 0, 'done': False, 'won': False, 'lost': False, 'obs': \"You can't see any such thing.\\n\", 'description': \"-= Parlor =-\\nYou've just shown up in a parlor.\\n\\n\\n\\nThere is an exit to the east. Don't worry, it is unblocked.\\n\\nThere is a blueberry and a controller on the floor.\", 'inventory': 'You are carrying nothing.', 'admissible_commands': ['examine blueberry', 'examine controller', 'go east', 'inventory', 'look', 'take blueberry', 'take controller'], 'entities': ['blueberry', 'controller', 'north', 'south', 'east', 'west'], 'objective': \"It's time to explore the amazing world of TextWorld! Your task for today is to lift the controller from the floor of the parlor.\"}\n",
      "Reward = -5\n",
      "Doing: go grubs\n",
      "{'score': 0, 'done': False, 'won': False, 'lost': False, 'obs': \"You can't see any such thing.\\n\", 'description': \"-= Parlor =-\\nYou've just shown up in a parlor.\\n\\n\\n\\nThere is an exit to the east. Don't worry, it is unblocked.\\n\\nThere is a blueberry and a controller on the floor.\", 'inventory': 'You are carrying nothing.', 'admissible_commands': ['examine blueberry', 'examine controller', 'go east', 'inventory', 'look', 'take blueberry', 'take controller'], 'entities': ['blueberry', 'controller', 'north', 'south', 'east', 'west'], 'objective': \"It's time to explore the amazing world of TextWorld! Your task for today is to lift the controller from the floor of the parlor.\"}\n",
      "Reward = -5\n",
      "Doing: examine spoon\n",
      "{'score': 0, 'done': False, 'won': False, 'lost': False, 'obs': \"You can't see any such thing.\\n\", 'description': \"-= Parlor =-\\nYou've just shown up in a parlor.\\n\\n\\n\\nThere is an exit to the east. Don't worry, it is unblocked.\\n\\nThere is a blueberry and a controller on the floor.\", 'inventory': 'You are carrying nothing.', 'admissible_commands': ['examine blueberry', 'examine controller', 'go east', 'inventory', 'look', 'take blueberry', 'take controller'], 'entities': ['blueberry', 'controller', 'north', 'south', 'east', 'west'], 'objective': \"It's time to explore the amazing world of TextWorld! Your task for today is to lift the controller from the floor of the parlor.\"}\n",
      "Reward = -5\n",
      "Doing: open cushion\n",
      "{'score': 0, 'done': False, 'won': False, 'lost': False, 'obs': \"You can't see any such thing.\\n\", 'description': \"-= Parlor =-\\nYou've just shown up in a parlor.\\n\\n\\n\\nThere is an exit to the east. Don't worry, it is unblocked.\\n\\nThere is a blueberry and a controller on the floor.\", 'inventory': 'You are carrying nothing.', 'admissible_commands': ['examine blueberry', 'examine controller', 'go east', 'inventory', 'look', 'take blueberry', 'take controller'], 'entities': ['blueberry', 'controller', 'north', 'south', 'east', 'west'], 'objective': \"It's time to explore the amazing world of TextWorld! Your task for today is to lift the controller from the floor of the parlor.\"}\n",
      "Reward = -6\n",
      "Doing: put knife\n",
      "{'score': 0, 'done': False, 'won': False, 'lost': False, 'obs': \"You can't see any such thing.\\n\", 'description': \"-= Parlor =-\\nYou've just shown up in a parlor.\\n\\n\\n\\nThere is an exit to the east. Don't worry, it is unblocked.\\n\\nThere is a blueberry and a controller on the floor.\", 'inventory': 'You are carrying nothing.', 'admissible_commands': ['examine blueberry', 'examine controller', 'go east', 'inventory', 'look', 'take blueberry', 'take controller'], 'entities': ['blueberry', 'controller', 'north', 'south', 'east', 'west'], 'objective': \"It's time to explore the amazing world of TextWorld! Your task for today is to lift the controller from the floor of the parlor.\"}\n",
      "Reward = -6\n",
      "Doing: put cantaloupe\n",
      "{'score': 0, 'done': False, 'won': False, 'lost': False, 'obs': \"You can't see any such thing.\\n\", 'description': \"-= Parlor =-\\nYou've just shown up in a parlor.\\n\\n\\n\\nThere is an exit to the east. Don't worry, it is unblocked.\\n\\nThere is a blueberry and a controller on the floor.\", 'inventory': 'You are carrying nothing.', 'admissible_commands': ['examine blueberry', 'examine controller', 'go east', 'inventory', 'look', 'take blueberry', 'take controller'], 'entities': ['blueberry', 'controller', 'north', 'south', 'east', 'west'], 'objective': \"It's time to explore the amazing world of TextWorld! Your task for today is to lift the controller from the floor of the parlor.\"}\n",
      "Reward = -6\n",
      "Doing: open novel\n",
      "{'score': 0, 'done': False, 'won': False, 'lost': False, 'obs': \"You can't see any such thing.\\n\", 'description': \"-= Parlor =-\\nYou've just shown up in a parlor.\\n\\n\\n\\nThere is an exit to the east. Don't worry, it is unblocked.\\n\\nThere is a blueberry and a controller on the floor.\", 'inventory': 'You are carrying nothing.', 'admissible_commands': ['examine blueberry', 'examine controller', 'go east', 'inventory', 'look', 'take blueberry', 'take controller'], 'entities': ['blueberry', 'controller', 'north', 'south', 'east', 'west'], 'objective': \"It's time to explore the amazing world of TextWorld! Your task for today is to lift the controller from the floor of the parlor.\"}\n",
      "Reward = -6\n",
      "Doing: take grape\n",
      "{'score': 0, 'done': False, 'won': False, 'lost': False, 'obs': \"You can't see any such thing.\\n\", 'description': \"-= Parlor =-\\nYou've just shown up in a parlor.\\n\\n\\n\\nThere is an exit to the east. Don't worry, it is unblocked.\\n\\nThere is a blueberry and a controller on the floor.\", 'inventory': 'You are carrying nothing.', 'admissible_commands': ['examine blueberry', 'examine controller', 'go east', 'inventory', 'look', 'take blueberry', 'take controller'], 'entities': ['blueberry', 'controller', 'north', 'south', 'east', 'west'], 'objective': \"It's time to explore the amazing world of TextWorld! Your task for today is to lift the controller from the floor of the parlor.\"}\n",
      "Reward = -5\n",
      "Doing: put kiwi\n",
      "{'score': 0, 'done': False, 'won': False, 'lost': False, 'obs': \"You can't see any such thing.\\n\", 'description': \"-= Parlor =-\\nYou've just shown up in a parlor.\\n\\n\\n\\nThere is an exit to the east. Don't worry, it is unblocked.\\n\\nThere is a blueberry and a controller on the floor.\", 'inventory': 'You are carrying nothing.', 'admissible_commands': ['examine blueberry', 'examine controller', 'go east', 'inventory', 'look', 'take blueberry', 'take controller'], 'entities': ['blueberry', 'controller', 'north', 'south', 'east', 'west'], 'objective': \"It's time to explore the amazing world of TextWorld! Your task for today is to lift the controller from the floor of the parlor.\"}\n",
      "Reward = -6\n",
      "Doing: examine honeydew\n",
      "{'score': 0, 'done': False, 'won': False, 'lost': False, 'obs': \"You can't see any such thing.\\n\", 'description': \"-= Parlor =-\\nYou've just shown up in a parlor.\\n\\n\\n\\nThere is an exit to the east. Don't worry, it is unblocked.\\n\\nThere is a blueberry and a controller on the floor.\", 'inventory': 'You are carrying nothing.', 'admissible_commands': ['examine blueberry', 'examine controller', 'go east', 'inventory', 'look', 'take blueberry', 'take controller'], 'entities': ['blueberry', 'controller', 'north', 'south', 'east', 'west'], 'objective': \"It's time to explore the amazing world of TextWorld! Your task for today is to lift the controller from the floor of the parlor.\"}\n",
      "Reward = -5\n",
      "Doing: put banana\n",
      "{'score': 0, 'done': False, 'won': False, 'lost': False, 'obs': \"You can't see any such thing.\\n\", 'description': \"-= Parlor =-\\nYou've just shown up in a parlor.\\n\\n\\n\\nThere is an exit to the east. Don't worry, it is unblocked.\\n\\nThere is a blueberry and a controller on the floor.\", 'inventory': 'You are carrying nothing.', 'admissible_commands': ['examine blueberry', 'examine controller', 'go east', 'inventory', 'look', 'take blueberry', 'take controller'], 'entities': ['blueberry', 'controller', 'north', 'south', 'east', 'west'], 'objective': \"It's time to explore the amazing world of TextWorld! Your task for today is to lift the controller from the floor of the parlor.\"}\n",
      "Reward = -6\n",
      "Doing: take shoe\n",
      "{'score': 0, 'done': False, 'won': False, 'lost': False, 'obs': \"You can't see any such thing.\\n\", 'description': \"-= Parlor =-\\nYou've just shown up in a parlor.\\n\\n\\n\\nThere is an exit to the east. Don't worry, it is unblocked.\\n\\nThere is a blueberry and a controller on the floor.\", 'inventory': 'You are carrying nothing.', 'admissible_commands': ['examine blueberry', 'examine controller', 'go east', 'inventory', 'look', 'take blueberry', 'take controller'], 'entities': ['blueberry', 'controller', 'north', 'south', 'east', 'west'], 'objective': \"It's time to explore the amazing world of TextWorld! Your task for today is to lift the controller from the floor of the parlor.\"}\n",
      "Reward = -5\n",
      "Doing: unlock bug\n",
      "{'score': 0, 'done': False, 'won': False, 'lost': False, 'obs': \"You can't see any such thing.\\n\", 'description': \"-= Parlor =-\\nYou've just shown up in a parlor.\\n\\n\\n\\nThere is an exit to the east. Don't worry, it is unblocked.\\n\\nThere is a blueberry and a controller on the floor.\", 'inventory': 'You are carrying nothing.', 'admissible_commands': ['examine blueberry', 'examine controller', 'go east', 'inventory', 'look', 'take blueberry', 'take controller'], 'entities': ['blueberry', 'controller', 'north', 'south', 'east', 'west'], 'objective': \"It's time to explore the amazing world of TextWorld! Your task for today is to lift the controller from the floor of the parlor.\"}\n",
      "Reward = -6\n",
      "Doing: go ticks\n",
      "{'score': 0, 'done': False, 'won': False, 'lost': False, 'obs': \"You can't see any such thing.\\n\", 'description': \"-= Parlor =-\\nYou've just shown up in a parlor.\\n\\n\\n\\nThere is an exit to the east. Don't worry, it is unblocked.\\n\\nThere is a blueberry and a controller on the floor.\", 'inventory': 'You are carrying nothing.', 'admissible_commands': ['examine blueberry', 'examine controller', 'go east', 'inventory', 'look', 'take blueberry', 'take controller'], 'entities': ['blueberry', 'controller', 'north', 'south', 'east', 'west'], 'objective': \"It's time to explore the amazing world of TextWorld! Your task for today is to lift the controller from the floor of the parlor.\"}\n",
      "Reward = -5\n",
      "Doing: go vacuum\n",
      "{'score': 0, 'done': False, 'won': False, 'lost': False, 'obs': \"You can't see any such thing.\\n\", 'description': \"-= Parlor =-\\nYou've just shown up in a parlor.\\n\\n\\n\\nThere is an exit to the east. Don't worry, it is unblocked.\\n\\nThere is a blueberry and a controller on the floor.\", 'inventory': 'You are carrying nothing.', 'admissible_commands': ['examine blueberry', 'examine controller', 'go east', 'inventory', 'look', 'take blueberry', 'take controller'], 'entities': ['blueberry', 'controller', 'north', 'south', 'east', 'west'], 'objective': \"It's time to explore the amazing world of TextWorld! Your task for today is to lift the controller from the floor of the parlor.\"}\n",
      "Reward = -5\n",
      "Doing: examine north\n",
      "{'score': 0, 'done': False, 'won': False, 'lost': False, 'obs': 'You see nothing unexpected in that direction.\\n\\n\\n', 'description': \"-= Parlor =-\\nYou've just shown up in a parlor.\\n\\n\\n\\nThere is an exit to the east. Don't worry, it is unblocked.\\n\\nThere is a blueberry and a controller on the floor.\", 'inventory': 'You are carrying nothing.', 'admissible_commands': ['examine blueberry', 'examine controller', 'go east', 'inventory', 'look', 'take blueberry', 'take controller'], 'entities': ['blueberry', 'controller', 'north', 'south', 'east', 'west'], 'objective': \"It's time to explore the amazing world of TextWorld! Your task for today is to lift the controller from the floor of the parlor.\"}\n",
      "Reward = -4\n",
      "Doing: go blanket\n",
      "{'score': 0, 'done': False, 'won': False, 'lost': False, 'obs': \"You can't see any such thing.\\n\", 'description': \"-= Parlor =-\\nYou've just shown up in a parlor.\\n\\n\\n\\nThere is an exit to the east. Don't worry, it is unblocked.\\n\\nThere is a blueberry and a controller on the floor.\", 'inventory': 'You are carrying nothing.', 'admissible_commands': ['examine blueberry', 'examine controller', 'go east', 'inventory', 'look', 'take blueberry', 'take controller'], 'entities': ['blueberry', 'controller', 'north', 'south', 'east', 'west'], 'objective': \"It's time to explore the amazing world of TextWorld! Your task for today is to lift the controller from the floor of the parlor.\"}\n",
      "Reward = -5\n",
      "Doing: go bar\n",
      "{'score': 0, 'done': False, 'won': False, 'lost': False, 'obs': \"You can't see any such thing.\\n\", 'description': \"-= Parlor =-\\nYou've just shown up in a parlor.\\n\\n\\n\\nThere is an exit to the east. Don't worry, it is unblocked.\\n\\nThere is a blueberry and a controller on the floor.\", 'inventory': 'You are carrying nothing.', 'admissible_commands': ['examine blueberry', 'examine controller', 'go east', 'inventory', 'look', 'take blueberry', 'take controller'], 'entities': ['blueberry', 'controller', 'north', 'south', 'east', 'west'], 'objective': \"It's time to explore the amazing world of TextWorld! Your task for today is to lift the controller from the floor of the parlor.\"}\n",
      "Reward = -5\n",
      "Doing: unlock bug\n",
      "{'score': 0, 'done': False, 'won': False, 'lost': False, 'obs': \"You can't see any such thing.\\n\", 'description': \"-= Parlor =-\\nYou've just shown up in a parlor.\\n\\n\\n\\nThere is an exit to the east. Don't worry, it is unblocked.\\n\\nThere is a blueberry and a controller on the floor.\", 'inventory': 'You are carrying nothing.', 'admissible_commands': ['examine blueberry', 'examine controller', 'go east', 'inventory', 'look', 'take blueberry', 'take controller'], 'entities': ['blueberry', 'controller', 'north', 'south', 'east', 'west'], 'objective': \"It's time to explore the amazing world of TextWorld! Your task for today is to lift the controller from the floor of the parlor.\"}\n",
      "Reward = -6\n",
      "Doing: go strip\n",
      "{'score': 0, 'done': False, 'won': False, 'lost': False, 'obs': \"You can't see any such thing.\\n\", 'description': \"-= Parlor =-\\nYou've just shown up in a parlor.\\n\\n\\n\\nThere is an exit to the east. Don't worry, it is unblocked.\\n\\nThere is a blueberry and a controller on the floor.\", 'inventory': 'You are carrying nothing.', 'admissible_commands': ['examine blueberry', 'examine controller', 'go east', 'inventory', 'look', 'take blueberry', 'take controller'], 'entities': ['blueberry', 'controller', 'north', 'south', 'east', 'west'], 'objective': \"It's time to explore the amazing world of TextWorld! Your task for today is to lift the controller from the floor of the parlor.\"}\n",
      "Reward = -5\n",
      "Doing: go larva\n",
      "{'score': 0, 'done': False, 'won': False, 'lost': False, 'obs': \"You can't see any such thing.\\n\", 'description': \"-= Parlor =-\\nYou've just shown up in a parlor.\\n\\n\\n\\nThere is an exit to the east. Don't worry, it is unblocked.\\n\\nThere is a blueberry and a controller on the floor.\", 'inventory': 'You are carrying nothing.', 'admissible_commands': ['examine blueberry', 'examine controller', 'go east', 'inventory', 'look', 'take blueberry', 'take controller'], 'entities': ['blueberry', 'controller', 'north', 'south', 'east', 'west'], 'objective': \"It's time to explore the amazing world of TextWorld! Your task for today is to lift the controller from the floor of the parlor.\"}\n",
      "Reward = -5\n",
      "Doing: go cucumber\n",
      "{'score': 0, 'done': False, 'won': False, 'lost': False, 'obs': \"You can't see any such thing.\\n\", 'description': \"-= Parlor =-\\nYou've just shown up in a parlor.\\n\\n\\n\\nThere is an exit to the east. Don't worry, it is unblocked.\\n\\nThere is a blueberry and a controller on the floor.\", 'inventory': 'You are carrying nothing.', 'admissible_commands': ['examine blueberry', 'examine controller', 'go east', 'inventory', 'look', 'take blueberry', 'take controller'], 'entities': ['blueberry', 'controller', 'north', 'south', 'east', 'west'], 'objective': \"It's time to explore the amazing world of TextWorld! Your task for today is to lift the controller from the floor of the parlor.\"}\n",
      "Reward = -5\n",
      "Doing: put napkin\n",
      "{'score': 0, 'done': False, 'won': False, 'lost': False, 'obs': \"You can't see any such thing.\\n\", 'description': \"-= Parlor =-\\nYou've just shown up in a parlor.\\n\\n\\n\\nThere is an exit to the east. Don't worry, it is unblocked.\\n\\nThere is a blueberry and a controller on the floor.\", 'inventory': 'You are carrying nothing.', 'admissible_commands': ['examine blueberry', 'examine controller', 'go east', 'inventory', 'look', 'take blueberry', 'take controller'], 'entities': ['blueberry', 'controller', 'north', 'south', 'east', 'west'], 'objective': \"It's time to explore the amazing world of TextWorld! Your task for today is to lift the controller from the floor of the parlor.\"}\n",
      "Reward = -6\n",
      "Doing: examine staple\n",
      "{'score': 0, 'done': False, 'won': False, 'lost': False, 'obs': \"You can't see any such thing.\\n\", 'description': \"-= Parlor =-\\nYou've just shown up in a parlor.\\n\\n\\n\\nThere is an exit to the east. Don't worry, it is unblocked.\\n\\nThere is a blueberry and a controller on the floor.\", 'inventory': 'You are carrying nothing.', 'admissible_commands': ['examine blueberry', 'examine controller', 'go east', 'inventory', 'look', 'take blueberry', 'take controller'], 'entities': ['blueberry', 'controller', 'north', 'south', 'east', 'west'], 'objective': \"It's time to explore the amazing world of TextWorld! Your task for today is to lift the controller from the floor of the parlor.\"}\n",
      "Reward = -5\n",
      "Doing: go spork\n",
      "{'score': 0, 'done': False, 'won': False, 'lost': False, 'obs': \"You can't see any such thing.\\n\", 'description': \"-= Parlor =-\\nYou've just shown up in a parlor.\\n\\n\\n\\nThere is an exit to the east. Don't worry, it is unblocked.\\n\\nThere is a blueberry and a controller on the floor.\", 'inventory': 'You are carrying nothing.', 'admissible_commands': ['examine blueberry', 'examine controller', 'go east', 'inventory', 'look', 'take blueberry', 'take controller'], 'entities': ['blueberry', 'controller', 'north', 'south', 'east', 'west'], 'objective': \"It's time to explore the amazing world of TextWorld! Your task for today is to lift the controller from the floor of the parlor.\"}\n",
      "Reward = -5\n",
      "Doing: put glove\n",
      "{'score': 0, 'done': False, 'won': False, 'lost': False, 'obs': \"You can't see any such thing.\\n\", 'description': \"-= Parlor =-\\nYou've just shown up in a parlor.\\n\\n\\n\\nThere is an exit to the east. Don't worry, it is unblocked.\\n\\nThere is a blueberry and a controller on the floor.\", 'inventory': 'You are carrying nothing.', 'admissible_commands': ['examine blueberry', 'examine controller', 'go east', 'inventory', 'look', 'take blueberry', 'take controller'], 'entities': ['blueberry', 'controller', 'north', 'south', 'east', 'west'], 'objective': \"It's time to explore the amazing world of TextWorld! Your task for today is to lift the controller from the floor of the parlor.\"}\n",
      "Reward = -6\n",
      "Doing: unlock blender\n",
      "{'score': 0, 'done': False, 'won': False, 'lost': False, 'obs': \"You can't see any such thing.\\n\", 'description': \"-= Parlor =-\\nYou've just shown up in a parlor.\\n\\n\\n\\nThere is an exit to the east. Don't worry, it is unblocked.\\n\\nThere is a blueberry and a controller on the floor.\", 'inventory': 'You are carrying nothing.', 'admissible_commands': ['examine blueberry', 'examine controller', 'go east', 'inventory', 'look', 'take blueberry', 'take controller'], 'entities': ['blueberry', 'controller', 'north', 'south', 'east', 'west'], 'objective': \"It's time to explore the amazing world of TextWorld! Your task for today is to lift the controller from the floor of the parlor.\"}\n",
      "Reward = -6\n",
      "Doing: open synthesizer\n",
      "{'score': 0, 'done': False, 'won': False, 'lost': False, 'obs': \"You can't see any such thing.\\n\", 'description': \"-= Parlor =-\\nYou've just shown up in a parlor.\\n\\n\\n\\nThere is an exit to the east. Don't worry, it is unblocked.\\n\\nThere is a blueberry and a controller on the floor.\", 'inventory': 'You are carrying nothing.', 'admissible_commands': ['examine blueberry', 'examine controller', 'go east', 'inventory', 'look', 'take blueberry', 'take controller'], 'entities': ['blueberry', 'controller', 'north', 'south', 'east', 'west'], 'objective': \"It's time to explore the amazing world of TextWorld! Your task for today is to lift the controller from the floor of the parlor.\"}\n",
      "Reward = -6\n",
      "Doing: put cd\n",
      "{'score': 0, 'done': False, 'won': False, 'lost': False, 'obs': \"You can't see any such thing.\\n\", 'description': \"-= Parlor =-\\nYou've just shown up in a parlor.\\n\\n\\n\\nThere is an exit to the east. Don't worry, it is unblocked.\\n\\nThere is a blueberry and a controller on the floor.\", 'inventory': 'You are carrying nothing.', 'admissible_commands': ['examine blueberry', 'examine controller', 'go east', 'inventory', 'look', 'take blueberry', 'take controller'], 'entities': ['blueberry', 'controller', 'north', 'south', 'east', 'west'], 'objective': \"It's time to explore the amazing world of TextWorld! Your task for today is to lift the controller from the floor of the parlor.\"}\n",
      "Reward = -6\n",
      "Doing: go cushion\n",
      "{'score': 0, 'done': False, 'won': False, 'lost': False, 'obs': \"You can't see any such thing.\\n\", 'description': \"-= Parlor =-\\nYou've just shown up in a parlor.\\n\\n\\n\\nThere is an exit to the east. Don't worry, it is unblocked.\\n\\nThere is a blueberry and a controller on the floor.\", 'inventory': 'You are carrying nothing.', 'admissible_commands': ['examine blueberry', 'examine controller', 'go east', 'inventory', 'look', 'take blueberry', 'take controller'], 'entities': ['blueberry', 'controller', 'north', 'south', 'east', 'west'], 'objective': \"It's time to explore the amazing world of TextWorld! Your task for today is to lift the controller from the floor of the parlor.\"}\n",
      "Reward = -5\n",
      "Doing: open monitor\n",
      "{'score': 0, 'done': False, 'won': False, 'lost': False, 'obs': \"You can't see any such thing.\\n\", 'description': \"-= Parlor =-\\nYou've just shown up in a parlor.\\n\\n\\n\\nThere is an exit to the east. Don't worry, it is unblocked.\\n\\nThere is a blueberry and a controller on the floor.\", 'inventory': 'You are carrying nothing.', 'admissible_commands': ['examine blueberry', 'examine controller', 'go east', 'inventory', 'look', 'take blueberry', 'take controller'], 'entities': ['blueberry', 'controller', 'north', 'south', 'east', 'west'], 'objective': \"It's time to explore the amazing world of TextWorld! Your task for today is to lift the controller from the floor of the parlor.\"}\n",
      "Reward = -6\n",
      "Doing: examine cucumber\n",
      "{'score': 0, 'done': False, 'won': False, 'lost': False, 'obs': \"You can't see any such thing.\\n\", 'description': \"-= Parlor =-\\nYou've just shown up in a parlor.\\n\\n\\n\\nThere is an exit to the east. Don't worry, it is unblocked.\\n\\nThere is a blueberry and a controller on the floor.\", 'inventory': 'You are carrying nothing.', 'admissible_commands': ['examine blueberry', 'examine controller', 'go east', 'inventory', 'look', 'take blueberry', 'take controller'], 'entities': ['blueberry', 'controller', 'north', 'south', 'east', 'west'], 'objective': \"It's time to explore the amazing world of TextWorld! Your task for today is to lift the controller from the floor of the parlor.\"}\n",
      "Reward = -5\n",
      "Doing: put sandwich\n",
      "{'score': 0, 'done': False, 'won': False, 'lost': False, 'obs': \"You can't see any such thing.\\n\", 'description': \"-= Parlor =-\\nYou've just shown up in a parlor.\\n\\n\\n\\nThere is an exit to the east. Don't worry, it is unblocked.\\n\\nThere is a blueberry and a controller on the floor.\", 'inventory': 'You are carrying nothing.', 'admissible_commands': ['examine blueberry', 'examine controller', 'go east', 'inventory', 'look', 'take blueberry', 'take controller'], 'entities': ['blueberry', 'controller', 'north', 'south', 'east', 'west'], 'objective': \"It's time to explore the amazing world of TextWorld! Your task for today is to lift the controller from the floor of the parlor.\"}\n",
      "Reward = -6\n",
      "Doing: examine legume\n",
      "{'score': 0, 'done': False, 'won': False, 'lost': False, 'obs': \"You can't see any such thing.\\n\", 'description': \"-= Parlor =-\\nYou've just shown up in a parlor.\\n\\n\\n\\nThere is an exit to the east. Don't worry, it is unblocked.\\n\\nThere is a blueberry and a controller on the floor.\", 'inventory': 'You are carrying nothing.', 'admissible_commands': ['examine blueberry', 'examine controller', 'go east', 'inventory', 'look', 'take blueberry', 'take controller'], 'entities': ['blueberry', 'controller', 'north', 'south', 'east', 'west'], 'objective': \"It's time to explore the amazing world of TextWorld! Your task for today is to lift the controller from the floor of the parlor.\"}\n",
      "Reward = -5\n",
      "Doing: put hat\n",
      "{'score': 0, 'done': False, 'won': False, 'lost': False, 'obs': \"You can't see any such thing.\\n\", 'description': \"-= Parlor =-\\nYou've just shown up in a parlor.\\n\\n\\n\\nThere is an exit to the east. Don't worry, it is unblocked.\\n\\nThere is a blueberry and a controller on the floor.\", 'inventory': 'You are carrying nothing.', 'admissible_commands': ['examine blueberry', 'examine controller', 'go east', 'inventory', 'look', 'take blueberry', 'take controller'], 'entities': ['blueberry', 'controller', 'north', 'south', 'east', 'west'], 'objective': \"It's time to explore the amazing world of TextWorld! Your task for today is to lift the controller from the floor of the parlor.\"}\n",
      "Reward = -6\n",
      "Doing: go tv\n",
      "{'score': 0, 'done': False, 'won': False, 'lost': False, 'obs': \"You can't see any such thing.\\n\", 'description': \"-= Parlor =-\\nYou've just shown up in a parlor.\\n\\n\\n\\nThere is an exit to the east. Don't worry, it is unblocked.\\n\\nThere is a blueberry and a controller on the floor.\", 'inventory': 'You are carrying nothing.', 'admissible_commands': ['examine blueberry', 'examine controller', 'go east', 'inventory', 'look', 'take blueberry', 'take controller'], 'entities': ['blueberry', 'controller', 'north', 'south', 'east', 'west'], 'objective': \"It's time to explore the amazing world of TextWorld! Your task for today is to lift the controller from the floor of the parlor.\"}\n",
      "Reward = -5\n",
      "Doing: examine spiders\n",
      "{'score': 0, 'done': False, 'won': False, 'lost': False, 'obs': \"You can't see any such thing.\\n\", 'description': \"-= Parlor =-\\nYou've just shown up in a parlor.\\n\\n\\n\\nThere is an exit to the east. Don't worry, it is unblocked.\\n\\nThere is a blueberry and a controller on the floor.\", 'inventory': 'You are carrying nothing.', 'admissible_commands': ['examine blueberry', 'examine controller', 'go east', 'inventory', 'look', 'take blueberry', 'take controller'], 'entities': ['blueberry', 'controller', 'north', 'south', 'east', 'west'], 'objective': \"It's time to explore the amazing world of TextWorld! Your task for today is to lift the controller from the floor of the parlor.\"}\n",
      "Reward = -5\n",
      "Doing: open tablet\n",
      "{'score': 0, 'done': False, 'won': False, 'lost': False, 'obs': \"You can't see any such thing.\\n\", 'description': \"-= Parlor =-\\nYou've just shown up in a parlor.\\n\\n\\n\\nThere is an exit to the east. Don't worry, it is unblocked.\\n\\nThere is a blueberry and a controller on the floor.\", 'inventory': 'You are carrying nothing.', 'admissible_commands': ['examine blueberry', 'examine controller', 'go east', 'inventory', 'look', 'take blueberry', 'take controller'], 'entities': ['blueberry', 'controller', 'north', 'south', 'east', 'west'], 'objective': \"It's time to explore the amazing world of TextWorld! Your task for today is to lift the controller from the floor of the parlor.\"}\n",
      "Reward = -6\n",
      "Doing: unlock huckleberry\n",
      "{'score': 0, 'done': False, 'won': False, 'lost': False, 'obs': \"You can't see any such thing.\\n\", 'description': \"-= Parlor =-\\nYou've just shown up in a parlor.\\n\\n\\n\\nThere is an exit to the east. Don't worry, it is unblocked.\\n\\nThere is a blueberry and a controller on the floor.\", 'inventory': 'You are carrying nothing.', 'admissible_commands': ['examine blueberry', 'examine controller', 'go east', 'inventory', 'look', 'take blueberry', 'take controller'], 'entities': ['blueberry', 'controller', 'north', 'south', 'east', 'west'], 'objective': \"It's time to explore the amazing world of TextWorld! Your task for today is to lift the controller from the floor of the parlor.\"}\n",
      "Reward = -6\n",
      "Doing: unlock tablet\n",
      "{'score': 0, 'done': False, 'won': False, 'lost': False, 'obs': \"You can't see any such thing.\\n\", 'description': \"-= Parlor =-\\nYou've just shown up in a parlor.\\n\\n\\n\\nThere is an exit to the east. Don't worry, it is unblocked.\\n\\nThere is a blueberry and a controller on the floor.\", 'inventory': 'You are carrying nothing.', 'admissible_commands': ['examine blueberry', 'examine controller', 'go east', 'inventory', 'look', 'take blueberry', 'take controller'], 'entities': ['blueberry', 'controller', 'north', 'south', 'east', 'west'], 'objective': \"It's time to explore the amazing world of TextWorld! Your task for today is to lift the controller from the floor of the parlor.\"}\n",
      "Reward = -6\n",
      "Doing: examine blender\n",
      "{'score': 0, 'done': True, 'won': False, 'lost': False, 'obs': \"You can't see any such thing.\\n\", 'description': \"-= Parlor =-\\nYou've just shown up in a parlor.\\n\\n\\n\\nThere is an exit to the east. Don't worry, it is unblocked.\\n\\nThere is a blueberry and a controller on the floor.\", 'inventory': 'You are carrying nothing.', 'admissible_commands': ['examine blueberry', 'examine controller', 'go east', 'inventory', 'look', 'take blueberry', 'take controller'], 'entities': ['blueberry', 'controller', 'north', 'south', 'east', 'west'], 'objective': \"It's time to explore the amazing world of TextWorld! Your task for today is to lift the controller from the floor of the parlor.\"}\n",
      "Reward = -5\n",
      "Doing: examine onion\n",
      "{'score': 0, 'done': True, 'won': False, 'lost': False, 'obs': \"You can't see any such thing.\\n\", 'description': \"-= Parlor =-\\nYou've just shown up in a parlor.\\n\\n\\n\\nThere is an exit to the east. Don't worry, it is unblocked.\\n\\nThere is a blueberry and a controller on the floor.\", 'inventory': 'You are carrying nothing.', 'admissible_commands': ['examine blueberry', 'examine controller', 'go east', 'inventory', 'look', 'take blueberry', 'take controller'], 'entities': ['blueberry', 'controller', 'north', 'south', 'east', 'west'], 'objective': \"It's time to explore the amazing world of TextWorld! Your task for today is to lift the controller from the floor of the parlor.\"}\n",
      "Reward = -5\n",
      "action_spec: BoundedTensorSpec(shape=(), dtype=tf.int32, name='action', minimum=array(0, dtype=int32), maximum=array(797, dtype=int32))\n",
      "time_step_spec.observation: TensorSpec(shape=(3,), dtype=tf.string, name='observation')\n",
      "time_step_spec.step_type: TensorSpec(shape=(), dtype=tf.int32, name='step_type')\n",
      "time_step_spec.discount: BoundedTensorSpec(shape=(), dtype=tf.float32, name='discount', minimum=array(0., dtype=float32), maximum=array(1., dtype=float32))\n",
      "time_step_spec.reward: TensorSpec(shape=(), dtype=tf.float32, name='reward')\n"
     ],
     "name": "stdout"
    }
   ]
  },
  {
   "cell_type": "markdown",
   "metadata": {
    "id": "u1Zx2a9AQoVh"
   },
   "source": [
    "# Train"
   ]
  },
  {
   "cell_type": "markdown",
   "metadata": {
    "collapsed": false,
    "id": "pRGei_3AWDXE"
   },
   "source": [
    "Set rewards for training."
   ]
  },
  {
   "cell_type": "code",
   "metadata": {
    "id": "fXTkK8pKyVX3",
    "executionInfo": {
     "status": "ok",
     "timestamp": 1628279905835,
     "user_tz": -120,
     "elapsed": 4,
     "user": {
      "displayName": "Max Lamparth",
      "photoUrl": "https://lh3.googleusercontent.com/a-/AOh14GggONWhA_LZZ2SpKMaopk7rlmYZrhiQrouD31deaw=s64",
      "userId": "07608444463794873074"
     }
    }
   },
   "source": [
    "REWARD_DICT = {\n",
    "    \"win_lose_value\": 100,\n",
    "    \"max_loop_pun\": 0,\n",
    "    \"change_reward\": 1,\n",
    "    \"useless_act_pun\": 1,\n",
    "    \"cmd_in_adm\": 1,\n",
    "}"
   ],
   "execution_count": 3,
   "outputs": []
  },
  {
   "cell_type": "markdown",
   "metadata": {
    "id": "mh1VFswxyBw9"
   },
   "source": [
    "Try overfitting on one debug game (correct command \"take x\" will immediately win or lose the game).\n",
    "Depending on whether random agent finds correct WIN command, number of iterations will be enough or not.\n"
   ]
  },
  {
   "cell_type": "code",
   "metadata": {
    "id": "LL2l3YVFyKoM"
   },
   "source": [
    "DEFAULT_HP = {\n",
    "    \"learning_rate\": 1e-3,\n",
    "    \"initial_collect_steps\": 3000,\n",
    "    \"collect_steps_per_iteration\": 1,\n",
    "    \"replay_buffer_max_length\": 100000,\n",
    "    # large values lead to OOM with bert policy\n",
    "    \"batch_size\": 32,\n",
    "    \"num_eval_episodes\": 1,\n",
    "    \"game_gen_buffer\": 25,\n",
    "    \"num_eval_games\": 5,\n",
    "}\n",
    "trainer = TWTrainer(\n",
    "    reward_dict=REWARD_DICT,\n",
    "    hpar=DEFAULT_HP,\n",
    "    debug=False,\n",
    "    biased_buffer=True,\n",
    "    # embedding into fc is default policy\n",
    "    # agent_label=\"FCPolicy\",\n",
    "    agent_label=\"BertPolicy\",\n",
    ")\n",
    "eval_scores = trainer.train(\n",
    "    num_iterations=2000,\n",
    "    log_interval=100,\n",
    "    eval_interval=100,\n",
    "    game_gen_interval=500,\n",
    "    plot_avg_ret=True,\n",
    ")"
   ],
   "execution_count": null,
   "outputs": []
  },
  {
   "cell_type": "markdown",
   "metadata": {
    "collapsed": false,
    "id": "5KvonvXAWDXF"
   },
   "source": [
    "Activate TensorBoard logging."
   ]
  },
  {
   "cell_type": "code",
   "metadata": {
    "pycharm": {
     "name": "#%%\n"
    },
    "id": "TZMwAYvxQ36g",
    "colab": {
     "base_uri": "https://localhost:8080/",
     "height": 35
    },
    "executionInfo": {
     "status": "ok",
     "timestamp": 1628279973346,
     "user_tz": -120,
     "elapsed": 60370,
     "user": {
      "displayName": "Max Lamparth",
      "photoUrl": "https://lh3.googleusercontent.com/a-/AOh14GggONWhA_LZZ2SpKMaopk7rlmYZrhiQrouD31deaw=s64",
      "userId": "07608444463794873074"
     }
    },
    "outputId": "f6bc3582-5067-49e6-8997-1abfbb63b317"
   },
   "source": [
    "pathdir = DEFAULT_PATHS[\"path_logdir\"]\n",
    "%load_ext tensorboard\n",
    "%tensorboard --logdir $pathdir"
   ],
   "execution_count": 4,
   "outputs": [
    {
     "output_type": "display_data",
     "data": {
      "text/plain": [
       "ERROR: Timed out waiting for TensorBoard to start. It may still be running as pid 10017."
      ]
     },
     "metadata": {
      "tags": []
     }
    }
   ]
  },
  {
   "cell_type": "markdown",
   "metadata": {
    "collapsed": false,
    "id": "MwHgPKw5WDXG"
   },
   "source": [
    "Train on all four levels with (simple) Embedding-FC policy agent"
   ]
  },
  {
   "cell_type": "code",
   "metadata": {
    "id": "s-LGSOqOmx08",
    "executionInfo": {
     "status": "ok",
     "timestamp": 1628279985156,
     "user_tz": -120,
     "elapsed": 11814,
     "user": {
      "displayName": "Max Lamparth",
      "photoUrl": "https://lh3.googleusercontent.com/a-/AOh14GggONWhA_LZZ2SpKMaopk7rlmYZrhiQrouD31deaw=s64",
      "userId": "07608444463794873074"
     }
    }
   },
   "source": [
    "DEFAULT_HP = {\n",
    "    \"learning_rate\": 1e-3,\n",
    "    \"initial_collect_steps\": 10000,\n",
    "    \"collect_steps_per_iteration\": 1,\n",
    "    \"replay_buffer_max_length\": 100000,\n",
    "    \"batch_size\": 64,\n",
    "    \"num_eval_episodes\": 1,\n",
    "    \"game_gen_buffer\": 25,\n",
    "    \"num_eval_games\": 10,\n",
    "}\n",
    "\n",
    "trainer = TWTrainer(\n",
    "    env_dir=\"train_games_lvl1\",\n",
    "    reward_dict=REWARD_DICT,\n",
    "    hpar=DEFAULT_HP,\n",
    "    debug=False,\n",
    "    biased_buffer=True,\n",
    "    # embedding into fc is default policy\n",
    "    # agent_label=\"FCPolicy\",\n",
    "    agent_label=\"BertPolicy\",\n",
    ")"
   ],
   "execution_count": 5,
   "outputs": []
  },
  {
   "cell_type": "code",
   "metadata": {
    "pycharm": {
     "name": "#%%\n"
    },
    "id": "LYD27Tn7_h3u",
    "colab": {
     "base_uri": "https://localhost:8080/"
    },
    "outputId": "3f560ded-1b2a-4b64-8da5-f71ad7bf97ac"
   },
   "source": [
    "print(f\"Starting with lvl: 1 \\n\")\n",
    "\n",
    "eval_scores = trainer.train(\n",
    "    num_iterations=5000,\n",
    "    log_interval=250,\n",
    "    eval_interval=500,\n",
    "    game_gen_interval=500,\n",
    "    rndm_fill_replay=True,\n",
    "    plot_avg_ret=True,\n",
    ")\n",
    "\n",
    "print(f\"Changing to next lvl: 2 \\n\")\n",
    "\n",
    "trainer.change_env_dir(f\"train_games_lvl2\")\n",
    "eval_scores = trainer.train(\n",
    "    num_iterations=5000,\n",
    "    log_interval=250,\n",
    "    eval_interval=500,\n",
    "    game_gen_interval=500,\n",
    "    continue_training=True,\n",
    "    rndm_fill_replay=True,\n",
    "    plot_avg_ret=True,\n",
    ")\n",
    "\n",
    "print(f\"Changing to next lvl: 3 \\n\")\n",
    "\n",
    "trainer.change_env_dir(f\"train_games_lvl3\")\n",
    "eval_scores = trainer.train(\n",
    "    num_iterations=5000,\n",
    "    log_interval=250,\n",
    "    eval_interval=500,\n",
    "    game_gen_interval=500,\n",
    "    continue_training=True,\n",
    "    rndm_fill_replay=True,\n",
    "    plot_avg_ret=True,\n",
    ")\n",
    "\n",
    "print(f\"Changing to next lvl: 4 \\n\")\n",
    "\n",
    "trainer.change_env_dir(f\"train_games_lvl4\")\n",
    "eval_scores = trainer.train(\n",
    "    num_iterations=10000,\n",
    "    log_interval=250,\n",
    "    eval_interval=500,\n",
    "    game_gen_interval=500,\n",
    "    continue_training=True,\n",
    "    rndm_fill_replay=True,\n",
    "    plot_avg_ret=True,\n",
    ")\n"
   ],
   "execution_count": null,
   "outputs": [
    {
     "output_type": "stream",
     "text": [
      "Starting with lvl: 1 \n",
      "\n"
     ],
     "name": "stdout"
    }
   ]
  },
  {
   "cell_type": "markdown",
   "metadata": {
    "id": "izOrJDtvs4rO"
   },
   "source": [
    "## Hyper parameter search\n",
    "\n",
    "Simple hyper parameter search.\n",
    "\n",
    "CODE OUT OF DATE. Still used old train method."
   ]
  },
  {
   "cell_type": "code",
   "metadata": {
    "id": "A4S3R9tSqH-c"
   },
   "source": [
    "%%capture\n",
    "!pip install optuna\n",
    "import optuna"
   ],
   "execution_count": null,
   "outputs": []
  },
  {
   "cell_type": "code",
   "metadata": {
    "id": "DQlG-WJQs74O"
   },
   "source": [
    "def objective(trial):\n",
    "    \"\"\"\"\"\"\n",
    "\n",
    "    hp_dict = {\n",
    "      \"num_iterations\": 2000,\n",
    "      \"learning_rate\": trial.suggest_loguniform(\"lr\", 1e-4, 1e-2),\n",
    "      \"initial_collect_steps\": 10000,\n",
    "      \"collect_steps_per_iteration\": 1,\n",
    "      \"replay_buffer_max_length\": 100000,\n",
    "      \"batch_size\": trial.suggest_int(\"batch_size\", 16, 256),\n",
    "      \"log_interval\": 500,\n",
    "      \"num_eval_episodes\": 1,\n",
    "      \"eval_interval\": 100,\n",
    "    }\n",
    "\n",
    "    REWARD_DICT = {\n",
    "        \"win_lose_value\": 100,\n",
    "        \"max_loop_pun\": 1,\n",
    "        \"change_reward\": 1,\n",
    "        \"useless_act_pun\": 1,\n",
    "        \"cmd_in_adm\": 1,\n",
    "    }\n",
    "\n",
    "    eval_scores = train.main(plot_avg_ret=True, debug=False, reward_dict=REWARD_DICT, **hp_dict)\n",
    "    # eval_scores = np.delete(eval_scores, 0)\n",
    "\n",
    "    return max(eval_scores)\n",
    "\n",
    "study = optuna.create_study(direction=\"maximize\")\n",
    "study.optimize(objective, n_trials=30)\n",
    "print(study.best_trial)"
   ],
   "execution_count": null,
   "outputs": []
  },
  {
   "cell_type": "code",
   "metadata": {
    "id": "SeEcJWtgumr7",
    "colab": {
     "base_uri": "https://localhost:8080/"
    },
    "executionInfo": {
     "status": "ok",
     "timestamp": 1627651497254,
     "user_tz": -120,
     "elapsed": 385,
     "user": {
      "displayName": "Max Lamparth",
      "photoUrl": "https://lh3.googleusercontent.com/a-/AOh14GggONWhA_LZZ2SpKMaopk7rlmYZrhiQrouD31deaw=s64",
      "userId": "07608444463794873074"
     }
    },
    "outputId": "f790496d-7644-44f4-af65-3cc27a28e14a"
   },
   "source": [
    "print(study.best_trial)"
   ],
   "execution_count": null,
   "outputs": [
    {
     "output_type": "stream",
     "text": [
      "FrozenTrial(number=0, values=[203.0], datetime_start=datetime.datetime(2021, 7, 30, 11, 46, 26, 924586), datetime_complete=datetime.datetime(2021, 7, 30, 11, 50, 2, 140224), params={'lr': 0.004015582546958087, 'batch_size': 89}, distributions={'lr': LogUniformDistribution(high=0.01, low=0.0001), 'batch_size': IntUniformDistribution(high=256, low=16, step=1)}, user_attrs={}, system_attrs={}, intermediate_values={}, trial_id=0, state=TrialState.COMPLETE, value=None)\n"
     ],
     "name": "stdout"
    }
   ]
  },
  {
   "cell_type": "code",
   "metadata": {
    "id": "KKFKyzX-ltnR"
   },
   "source": [
    ""
   ],
   "execution_count": null,
   "outputs": []
  }
 ]
}