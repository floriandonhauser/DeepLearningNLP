{
 "cells": [
  {
   "cell_type": "markdown",
   "metadata": {
    "id": "klGNgWREsvQv"
   },
   "source": [
    "##### Copyright 2021 The TF-Agents Authors."
   ]
  },
  {
   "cell_type": "code",
   "execution_count": 1,
   "metadata": {
    "cellView": "form",
    "id": "nQnmcm0oI1Q-"
   },
   "outputs": [],
   "source": [
    "#@title Licensed under the Apache License, Version 2.0 (the \"License\");\n",
    "# you may not use this file except in compliance with the License.\n",
    "# You may obtain a copy of the License at\n",
    "#\n",
    "# https://www.apache.org/licenses/LICENSE-2.0\n",
    "#\n",
    "# Unless required by applicable law or agreed to in writing, software\n",
    "# distributed under the License is distributed on an \"AS IS\" BASIS,\n",
    "# WITHOUT WARRANTIES OR CONDITIONS OF ANY KIND, either express or implied.\n",
    "# See the License for the specific language governing permissions and\n",
    "# limitations under the License."
   ]
  },
  {
   "cell_type": "markdown",
   "metadata": {
    "id": "pmDI-h7cI0tI"
   },
   "source": [
    "# Train a Deep Q Network with TF-Agents\n",
    "\n",
    "<table class=\"tfo-notebook-buttons\" align=\"left\">\n",
    "  <td>\n",
    "    <a target=\"_blank\" href=\"https://www.tensorflow.org/agents/tutorials/1_dqn_tutorial\">\n",
    "    <img src=\"https://www.tensorflow.org/images/tf_logo_32px.png\" />\n",
    "    View on TensorFlow.org</a>\n",
    "  </td>\n",
    "  <td>\n",
    "    <a target=\"_blank\" href=\"https://colab.research.google.com/github/tensorflow/agents/blob/master/docs/tutorials/1_dqn_tutorial.ipynb\">\n",
    "    <img src=\"https://www.tensorflow.org/images/colab_logo_32px.png\" />\n",
    "    Run in Google Colab</a>\n",
    "  </td>\n",
    "  <td>\n",
    "    <a target=\"_blank\" href=\"https://github.com/tensorflow/agents/blob/master/docs/tutorials/1_dqn_tutorial.ipynb\">\n",
    "    <img src=\"https://www.tensorflow.org/images/GitHub-Mark-32px.png\" />\n",
    "    View source on GitHub</a>\n",
    "  </td>\n",
    "  <td>\n",
    "    <a href=\"https://storage.googleapis.com/tensorflow_docs/agents/docs/tutorials/1_dqn_tutorial.ipynb\"><img src=\"https://www.tensorflow.org/images/download_logo_32px.png\" />Download notebook</a>\n",
    "  </td>\n",
    "</table>"
   ]
  },
  {
   "cell_type": "markdown",
   "metadata": {
    "id": "lsaQlK8fFQqH"
   },
   "source": [
    "## Introduction\n"
   ]
  },
  {
   "cell_type": "markdown",
   "metadata": {
    "id": "cKOCZlhUgXVK"
   },
   "source": [
    "This example shows how to train a [DQN (Deep Q Networks)](https://storage.googleapis.com/deepmind-media/dqn/DQNNaturePaper.pdf)  agent on the Cartpole environment using the TF-Agents library.\n",
    "\n",
    "![Cartpole environment](https://raw.githubusercontent.com/tensorflow/agents/master/docs/tutorials/images/cartpole.png)\n",
    "\n",
    "It will walk you through all the components in a Reinforcement Learning (RL) pipeline for training, evaluation and data collection.\n",
    "\n",
    "\n",
    "To run this code live, click the 'Run in Google Colab' link above.\n"
   ]
  },
  {
   "cell_type": "markdown",
   "metadata": {
    "id": "1u9QVVsShC9X"
   },
   "source": [
    "## Setup"
   ]
  },
  {
   "cell_type": "markdown",
   "metadata": {
    "id": "kNrNXKI7bINP"
   },
   "source": [
    "If you haven't installed the following dependencies, run:"
   ]
  },
  {
   "cell_type": "markdown",
   "metadata": {},
   "source": [
    "sudo apt-get update\n",
    "sudo apt-get install -y xvfb ffmpeg\n",
    "pip install 'imageio==2.4.0'\n",
    "pip install pyvirtualdisplay\n",
    "pip install tf-agents"
   ]
  },
  {
   "cell_type": "code",
   "execution_count": 2,
   "metadata": {
    "id": "sMitx5qSgJk1"
   },
   "outputs": [],
   "source": [
    "from __future__ import absolute_import, division, print_function\n",
    "\n",
    "import base64\n",
    "import imageio\n",
    "import IPython\n",
    "import matplotlib\n",
    "import matplotlib.pyplot as plt\n",
    "import numpy as np\n",
    "import PIL.Image\n",
    "import pyvirtualdisplay\n",
    "\n",
    "import tensorflow as tf\n",
    "\n",
    "from tf_agents.agents.dqn import dqn_agent\n",
    "from tf_agents.environments import suite_gym\n",
    "from tf_agents.environments import tf_py_environment\n",
    "from tf_agents.eval import metric_utils\n",
    "from tf_agents.metrics import tf_metrics\n",
    "from tf_agents.networks import sequential\n",
    "from tf_agents.networks.q_rnn_network import QRnnNetwork\n",
    "from tf_agents.policies import random_tf_policy\n",
    "from tf_agents.replay_buffers import tf_uniform_replay_buffer\n",
    "from tf_agents.trajectories import trajectory\n",
    "from tf_agents.specs import tensor_spec\n",
    "from tf_agents.utils import common"
   ]
  },
  {
   "cell_type": "code",
   "execution_count": 3,
   "metadata": {
    "id": "J6HsdS5GbSjd"
   },
   "outputs": [],
   "source": [
    "# Set up a virtual display for rendering OpenAI gym environments.\n",
    "display = pyvirtualdisplay.Display(visible=0, size=(1400, 900)).start()"
   ]
  },
  {
   "cell_type": "code",
   "execution_count": 4,
   "metadata": {
    "id": "NspmzG4nP3b9"
   },
   "outputs": [
    {
     "data": {
      "text/plain": [
       "'2.5.0'"
      ]
     },
     "execution_count": 4,
     "metadata": {},
     "output_type": "execute_result"
    }
   ],
   "source": [
    "tf.version.VERSION"
   ]
  },
  {
   "cell_type": "markdown",
   "metadata": {
    "id": "LmC0NDhdLIKY"
   },
   "source": [
    "## Hyperparameters"
   ]
  },
  {
   "cell_type": "code",
   "execution_count": 5,
   "metadata": {
    "id": "HC1kNrOsLSIZ"
   },
   "outputs": [],
   "source": [
    "num_iterations = 100000 # @param {type:\"integer\"}\n",
    "\n",
    "initial_collect_steps = 100  # @param {type:\"integer\"} \n",
    "collect_steps_per_iteration = 1  # @param {type:\"integer\"}\n",
    "replay_buffer_max_length = 100000  # @param {type:\"integer\"}\n",
    "\n",
    "batch_size = 64  # @param {type:\"integer\"}\n",
    "learning_rate = 1e-3  # @param {type:\"number\"}\n",
    "log_interval = 200  # @param {type:\"integer\"}\n",
    "\n",
    "num_eval_episodes = 10  # @param {type:\"integer\"}\n",
    "eval_interval = 1000  # @param {type:\"integer\"}"
   ]
  },
  {
   "cell_type": "markdown",
   "metadata": {
    "id": "VMsJC3DEgI0x"
   },
   "source": [
    "## Environment\n",
    "\n",
    "In Reinforcement Learning (RL), an environment represents the task or problem to be solved. Standard environments can be created in TF-Agents using `tf_agents.environments` suites. TF-Agents has suites for loading environments from sources such as the OpenAI Gym, Atari, and DM Control.\n",
    "\n",
    "Load the CartPole environment from the OpenAI Gym suite. "
   ]
  },
  {
   "cell_type": "code",
   "execution_count": 6,
   "metadata": {
    "id": "pYEz-S9gEv2-"
   },
   "outputs": [],
   "source": [
    "env_name = 'CartPole-v0'\n",
    "env = suite_gym.load(env_name)"
   ]
  },
  {
   "cell_type": "markdown",
   "metadata": {
    "id": "IIHYVBkuvPNw"
   },
   "source": [
    "You can render this environment to see how it looks. A free-swinging pole is attached to a cart.  The goal is to move the cart right or left in order to keep the pole pointing up."
   ]
  },
  {
   "cell_type": "code",
   "execution_count": 7,
   "metadata": {
    "id": "RlO7WIQHu_7D"
   },
   "outputs": [
    {
     "data": {
      "image/png": "[encoded data removed]",
      "text/plain": [
       "<PIL.Image.Image image mode=RGB size=600x400 at 0x7F7EDDF0DDC0>"
      ]
     },
     "execution_count": 7,
     "metadata": {},
     "output_type": "execute_result"
    }
   ],
   "source": [
    "#@test {\"skip\": true}\n",
    "env.reset()\n",
    "PIL.Image.fromarray(env.render())"
   ]
  },
  {
   "cell_type": "markdown",
   "metadata": {
    "id": "B9_lskPOey18"
   },
   "source": [
    "The `environment.step` method takes an `action` in the environment and returns a `TimeStep` tuple containing the next observation of the environment and the reward for the action.\n",
    "\n",
    "The `time_step_spec()` method returns the specification for the `TimeStep` tuple. Its `observation` attribute shows the shape of observations, the data types, and the ranges of allowed values. The `reward` attribute shows the same details for the reward.\n"
   ]
  },
  {
   "cell_type": "code",
   "execution_count": 8,
   "metadata": {
    "id": "exDv57iHfwQV"
   },
   "outputs": [
    {
     "name": "stdout",
     "output_type": "stream",
     "text": [
      "Observation Spec:\n",
      "BoundedArraySpec(shape=(4,), dtype=dtype('float32'), name='observation', minimum=[-4.8000002e+00 -3.4028235e+38 -4.1887903e-01 -3.4028235e+38], maximum=[4.8000002e+00 3.4028235e+38 4.1887903e-01 3.4028235e+38])\n"
     ]
    }
   ],
   "source": [
    "print('Observation Spec:')\n",
    "print(env.time_step_spec().observation)"
   ]
  },
  {
   "cell_type": "code",
   "execution_count": 9,
   "metadata": {
    "id": "UxiSyCbBUQPi"
   },
   "outputs": [
    {
     "name": "stdout",
     "output_type": "stream",
     "text": [
      "Reward Spec:\n",
      "ArraySpec(shape=(), dtype=dtype('float32'), name='reward')\n"
     ]
    }
   ],
   "source": [
    "print('Reward Spec:')\n",
    "print(env.time_step_spec().reward)"
   ]
  },
  {
   "cell_type": "markdown",
   "metadata": {
    "id": "b_lHcIcqUaqB"
   },
   "source": [
    "The `action_spec()` method returns the shape, data types, and allowed values of valid actions."
   ]
  },
  {
   "cell_type": "code",
   "execution_count": 10,
   "metadata": {
    "id": "bttJ4uxZUQBr"
   },
   "outputs": [
    {
     "name": "stdout",
     "output_type": "stream",
     "text": [
      "Action Spec:\n",
      "BoundedArraySpec(shape=(), dtype=dtype('int64'), name='action', minimum=0, maximum=1)\n"
     ]
    }
   ],
   "source": [
    "print('Action Spec:')\n",
    "print(env.action_spec())"
   ]
  },
  {
   "cell_type": "markdown",
   "metadata": {
    "id": "eJCgJnx3g0yY"
   },
   "source": [
    "In the Cartpole environment:\n",
    "\n",
    "-   `observation` is an array of 4 floats: \n",
    "    -   the position and velocity of the cart\n",
    "    -   the angular position and velocity of the pole \n",
    "-   `reward` is a scalar float value\n",
    "-   `action` is a scalar integer with only two possible values:\n",
    "    -   `0` — \"move left\"\n",
    "    -   `1` — \"move right\"\n"
   ]
  },
  {
   "cell_type": "code",
   "execution_count": 11,
   "metadata": {
    "id": "V2UGR5t_iZX-"
   },
   "outputs": [
    {
     "name": "stdout",
     "output_type": "stream",
     "text": [
      "Time step:\n",
      "TimeStep(\n",
      "{'discount': array(1., dtype=float32),\n",
      " 'observation': array([ 0.00375668, -0.03427234,  0.00695126, -0.02870402], dtype=float32),\n",
      " 'reward': array(0., dtype=float32),\n",
      " 'step_type': array(0, dtype=int32)})\n",
      "Next time step:\n",
      "TimeStep(\n",
      "{'discount': array(1., dtype=float32),\n",
      " 'observation': array([ 0.00307124,  0.16074924,  0.00637718, -0.31918567], dtype=float32),\n",
      " 'reward': array(1., dtype=float32),\n",
      " 'step_type': array(1, dtype=int32)})\n"
     ]
    }
   ],
   "source": [
    "time_step = env.reset()\n",
    "print('Time step:')\n",
    "print(time_step)\n",
    "\n",
    "action = np.array(1, dtype=np.int32)\n",
    "\n",
    "next_time_step = env.step(action)\n",
    "print('Next time step:')\n",
    "print(next_time_step)"
   ]
  },
  {
   "cell_type": "markdown",
   "metadata": {
    "id": "4JSc9GviWUBK"
   },
   "source": [
    "Usually two environments are instantiated: one for training and one for evaluation. "
   ]
  },
  {
   "cell_type": "code",
   "execution_count": 12,
   "metadata": {
    "id": "N7brXNIGWXjC"
   },
   "outputs": [],
   "source": [
    "train_py_env = suite_gym.load(env_name)\n",
    "eval_py_env = suite_gym.load(env_name)"
   ]
  },
  {
   "cell_type": "markdown",
   "metadata": {
    "id": "zuUqXAVmecTU"
   },
   "source": [
    "The Cartpole environment, like most environments, is written in pure Python. This is converted to TensorFlow using the `TFPyEnvironment` wrapper.\n",
    "\n",
    "The original environment's API uses Numpy arrays. The `TFPyEnvironment` converts these to `Tensors` to make it compatible with Tensorflow agents and policies.\n"
   ]
  },
  {
   "cell_type": "code",
   "execution_count": 13,
   "metadata": {
    "id": "Xp-Y4mD6eDhF"
   },
   "outputs": [],
   "source": [
    "train_env = tf_py_environment.TFPyEnvironment(train_py_env)\n",
    "eval_env = tf_py_environment.TFPyEnvironment(eval_py_env)"
   ]
  },
  {
   "cell_type": "markdown",
   "metadata": {
    "id": "E9lW_OZYFR8A"
   },
   "source": [
    "## Agent\n",
    "\n",
    "The algorithm used to solve an RL problem is represented by an `Agent`. TF-Agents provides standard implementations of a variety of `Agents`, including:\n",
    "\n",
    "-   [DQN](https://storage.googleapis.com/deepmind-media/dqn/DQNNaturePaper.pdf) (used in this tutorial)\n",
    "-   [REINFORCE](https://www-anw.cs.umass.edu/~barto/courses/cs687/williams92simple.pdf)\n",
    "-   [DDPG](https://arxiv.org/pdf/1509.02971.pdf)\n",
    "-   [TD3](https://arxiv.org/pdf/1802.09477.pdf)\n",
    "-   [PPO](https://arxiv.org/abs/1707.06347)\n",
    "-   [SAC](https://arxiv.org/abs/1801.01290).\n",
    "\n",
    "The DQN agent can be used in any environment which has a discrete action space.\n",
    "\n",
    "At the heart of a DQN Agent is a `QNetwork`, a neural network model that can learn to predict `QValues` (expected returns) for all actions, given an observation from the environment.\n",
    "\n",
    "We will use `tf_agents.networks.` to create a `QNetwork`. The network will consist of a sequence of `tf.keras.layers.Dense` layers, where the final layer will have 1 output for each possible action."
   ]
  },
  {
   "cell_type": "code",
   "execution_count": 14,
   "metadata": {
    "id": "TgkdEPg_muzV"
   },
   "outputs": [],
   "source": [
    "fc_layer_params = (100, 50)\n",
    "action_tensor_spec = tensor_spec.from_spec(env.action_spec())\n",
    "num_actions = action_tensor_spec.maximum - action_tensor_spec.minimum + 1\n",
    "\n",
    "# Define a helper function to create Dense layers configured with the right\n",
    "# activation and kernel initializer.\n",
    "def dense_layer(num_units):\n",
    "  return tf.keras.layers.Dense(\n",
    "      num_units,\n",
    "      activation=tf.keras.activations.relu,\n",
    "      kernel_initializer=tf.keras.initializers.VarianceScaling(\n",
    "          scale=2.0, mode='fan_in', distribution='truncated_normal'))\n",
    "\n",
    "# QNetwork consists of a sequence of Dense layers followed by a dense layer\n",
    "# with `num_actions` units to generate one q_value per available action as\n",
    "# it's output.\n",
    "#dense_layers = [dense_layer(num_units) for num_units in fc_layer_params]\n",
    "#q_values_layer = tf.keras.layers.Dense(\n",
    "#    num_actions,\n",
    "#    activation=None,\n",
    "#    kernel_initializer=tf.keras.initializers.RandomUniform(\n",
    "#        minval=-0.03, maxval=0.03),\n",
    "#    bias_initializer=tf.keras.initializers.Constant(-0.2))\n",
    "#q_net = sequential.Sequential(dense_layers + [q_values_layer])\n",
    "q_net = QRnnNetwork(\n",
    "    train_env.observation_spec(),\n",
    "    train_env.action_spec(),\n",
    "    output_fc_layer_params=fc_layer_params,\n",
    "    lstm_size = [3]\n",
    "    \n",
    ")"
   ]
  },
  {
   "cell_type": "markdown",
   "metadata": {
    "id": "z62u55hSmviJ"
   },
   "source": [
    "Now use `tf_agents.agents.dqn.dqn_agent` to instantiate a `DqnAgent`. In addition to the `time_step_spec`, `action_spec` and the QNetwork, the agent constructor also requires an optimizer (in this case, `AdamOptimizer`), a loss function, and an integer step counter."
   ]
  },
  {
   "cell_type": "code",
   "execution_count": 15,
   "metadata": {
    "id": "jbY4yrjTEyc9"
   },
   "outputs": [],
   "source": [
    "optimizer = tf.keras.optimizers.Adam(learning_rate=learning_rate)\n",
    "\n",
    "train_step_counter = tf.Variable(0)\n",
    "\n",
    "agent = dqn_agent.DqnAgent(\n",
    "    train_env.time_step_spec(),\n",
    "    train_env.action_spec(),\n",
    "    q_network=q_net,\n",
    "    optimizer=optimizer,\n",
    "    td_errors_loss_fn=common.element_wise_squared_loss,\n",
    "    train_step_counter=train_step_counter)\n",
    "\n",
    "agent.initialize()"
   ]
  },
  {
   "cell_type": "markdown",
   "metadata": {
    "id": "I0KLrEPwkn5x"
   },
   "source": [
    "## Policies\n",
    "\n",
    "A policy defines the way an agent acts in an environment. Typically, the goal of reinforcement learning is to train the underlying model until the policy produces the desired outcome.\n",
    "\n",
    "In this tutorial:\n",
    "\n",
    "-   The desired outcome is keeping the pole balanced upright over the cart.\n",
    "-   The policy returns an action (left or right) for each `time_step` observation.\n",
    "\n",
    "Agents contain two policies: \n",
    "\n",
    "-   `agent.policy` — The main policy that is used for evaluation and deployment.\n",
    "-   `agent.collect_policy` — A second policy that is used for data collection.\n"
   ]
  },
  {
   "cell_type": "code",
   "execution_count": 16,
   "metadata": {
    "id": "BwY7StuMkuV4"
   },
   "outputs": [],
   "source": [
    "eval_policy = agent.policy\n",
    "collect_policy = agent.collect_policy"
   ]
  },
  {
   "cell_type": "markdown",
   "metadata": {
    "id": "2Qs1Fl3dV0ae"
   },
   "source": [
    "Policies can be created independently of agents. For example, use `tf_agents.policies.random_tf_policy` to create a policy which will randomly select an action for each `time_step`."
   ]
  },
  {
   "cell_type": "code",
   "execution_count": 17,
   "metadata": {
    "id": "HE37-UCIrE69"
   },
   "outputs": [],
   "source": [
    "random_policy = random_tf_policy.RandomTFPolicy(train_env.time_step_spec(),\n",
    "                                                train_env.action_spec())"
   ]
  },
  {
   "cell_type": "markdown",
   "metadata": {
    "id": "dOlnlRRsUbxP"
   },
   "source": [
    "To get an action from a policy, call the `policy.action(time_step)` method. The `time_step` contains the observation from the environment. This method returns a `PolicyStep`, which is a named tuple with three components:\n",
    "\n",
    "-   `action` — the action to be taken (in this case, `0` or `1`)\n",
    "-   `state` — used for stateful (that is, RNN-based) policies\n",
    "-   `info` — auxiliary data, such as log probabilities of actions"
   ]
  },
  {
   "cell_type": "code",
   "execution_count": 18,
   "metadata": {
    "id": "5gCcpXswVAxk"
   },
   "outputs": [],
   "source": [
    "example_environment = tf_py_environment.TFPyEnvironment(\n",
    "    suite_gym.load('CartPole-v0'))"
   ]
  },
  {
   "cell_type": "code",
   "execution_count": 19,
   "metadata": {
    "id": "D4DHZtq3Ndis"
   },
   "outputs": [],
   "source": [
    "time_step = example_environment.reset()"
   ]
  },
  {
   "cell_type": "code",
   "execution_count": 20,
   "metadata": {
    "id": "PRFqAUzpNaAW"
   },
   "outputs": [
    {
     "data": {
      "text/plain": [
       "PolicyStep(action=<tf.Tensor: shape=(1,), dtype=int64, numpy=array([0])>, state=(), info=())"
      ]
     },
     "execution_count": 20,
     "metadata": {},
     "output_type": "execute_result"
    }
   ],
   "source": [
    "random_policy.action(time_step)"
   ]
  },
  {
   "cell_type": "markdown",
   "metadata": {
    "id": "94rCXQtbUbXv"
   },
   "source": [
    "## Metrics and Evaluation\n",
    "\n",
    "The most common metric used to evaluate a policy is the average return. The return is the sum of rewards obtained while running a policy in an environment for an episode. Several episodes are run, creating an average return.\n",
    "\n",
    "The following function computes the average return of a policy, given the policy, environment, and a number of episodes.\n"
   ]
  },
  {
   "cell_type": "code",
   "execution_count": 21,
   "metadata": {
    "id": "bitzHo5_UbXy"
   },
   "outputs": [],
   "source": [
    "#@test {\"skip\": true}\n",
    "def compute_avg_return(environment, policy, num_episodes=10):\n",
    "\n",
    "  total_return = 0.0\n",
    "  for _ in range(num_episodes):\n",
    "\n",
    "    time_step = environment.reset()\n",
    "    episode_return = 0.0\n",
    "    policy_state = policy.get_initial_state(environment.batch_size)\n",
    "\n",
    "    while not time_step.is_last():\n",
    "      action, policy_state, info = policy.action(time_step, policy_state)\n",
    "      time_step = environment.step(action)\n",
    "      episode_return += time_step.reward\n",
    "    total_return += episode_return\n",
    "\n",
    "  avg_return = total_return / num_episodes\n",
    "  return avg_return.numpy()[0]\n",
    "\n",
    "\n",
    "# See also the metrics module for standard implementations of different metrics.\n",
    "# https://github.com/tensorflow/agents/tree/master/tf_agents/metrics"
   ]
  },
  {
   "cell_type": "markdown",
   "metadata": {
    "id": "_snCVvq5Z8lJ"
   },
   "source": [
    "Running this computation on the `random_policy` shows a baseline performance in the environment."
   ]
  },
  {
   "cell_type": "code",
   "execution_count": 22,
   "metadata": {
    "id": "9bgU6Q6BZ8Bp"
   },
   "outputs": [
    {
     "data": {
      "text/plain": [
       "25.7"
      ]
     },
     "execution_count": 22,
     "metadata": {},
     "output_type": "execute_result"
    }
   ],
   "source": [
    "compute_avg_return(eval_env, random_policy, num_eval_episodes)"
   ]
  },
  {
   "cell_type": "markdown",
   "metadata": {
    "id": "NLva6g2jdWgr"
   },
   "source": [
    "## Replay Buffer\n",
    "\n",
    "The replay buffer keeps track of data collected from the environment. This tutorial uses `tf_agents.replay_buffers.tf_uniform_replay_buffer.TFUniformReplayBuffer`, as it is the most common. \n",
    "\n",
    "The constructor requires the specs for the data it will be collecting. This is available from the agent using the `collect_data_spec` method. The batch size and maximum buffer length are also required.\n"
   ]
  },
  {
   "cell_type": "code",
   "execution_count": 23,
   "metadata": {
    "id": "vX2zGUWJGWAl"
   },
   "outputs": [],
   "source": [
    "replay_buffer = tf_uniform_replay_buffer.TFUniformReplayBuffer(\n",
    "    data_spec=agent.collect_data_spec,\n",
    "    batch_size=train_env.batch_size,\n",
    "    max_length=replay_buffer_max_length)"
   ]
  },
  {
   "cell_type": "markdown",
   "metadata": {
    "id": "ZGNTDJpZs4NN"
   },
   "source": [
    "For most agents, `collect_data_spec` is a named tuple called `Trajectory`, containing the specs for observations, actions, rewards, and other items."
   ]
  },
  {
   "cell_type": "code",
   "execution_count": 24,
   "metadata": {
    "id": "_IZ-3HcqgE1z"
   },
   "outputs": [
    {
     "data": {
      "text/plain": [
       "Trajectory(\n",
       "{'action': BoundedTensorSpec(shape=(), dtype=tf.int64, name='action', minimum=array(0), maximum=array(1)),\n",
       " 'discount': BoundedTensorSpec(shape=(), dtype=tf.float32, name='discount', minimum=array(0., dtype=float32), maximum=array(1., dtype=float32)),\n",
       " 'next_step_type': TensorSpec(shape=(), dtype=tf.int32, name='step_type'),\n",
       " 'observation': BoundedTensorSpec(shape=(4,), dtype=tf.float32, name='observation', minimum=array([-4.8000002e+00, -3.4028235e+38, -4.1887903e-01, -3.4028235e+38],\n",
       "      dtype=float32), maximum=array([4.8000002e+00, 3.4028235e+38, 4.1887903e-01, 3.4028235e+38],\n",
       "      dtype=float32)),\n",
       " 'policy_info': (),\n",
       " 'reward': TensorSpec(shape=(), dtype=tf.float32, name='reward'),\n",
       " 'step_type': TensorSpec(shape=(), dtype=tf.int32, name='step_type')})"
      ]
     },
     "execution_count": 24,
     "metadata": {},
     "output_type": "execute_result"
    }
   ],
   "source": [
    "agent.collect_data_spec"
   ]
  },
  {
   "cell_type": "code",
   "execution_count": 25,
   "metadata": {
    "id": "sy6g1tGcfRlw"
   },
   "outputs": [
    {
     "data": {
      "text/plain": [
       "('step_type',\n",
       " 'observation',\n",
       " 'action',\n",
       " 'policy_info',\n",
       " 'next_step_type',\n",
       " 'reward',\n",
       " 'discount')"
      ]
     },
     "execution_count": 25,
     "metadata": {},
     "output_type": "execute_result"
    }
   ],
   "source": [
    "agent.collect_data_spec._fields"
   ]
  },
  {
   "cell_type": "markdown",
   "metadata": {
    "id": "rVD5nQ9ZGo8_"
   },
   "source": [
    "## Data Collection\n",
    "\n",
    "Now execute the random policy in the environment for a few steps, recording the data in the replay buffer."
   ]
  },
  {
   "cell_type": "code",
   "execution_count": 26,
   "metadata": {
    "id": "wr1KSAEGG4h9"
   },
   "outputs": [],
   "source": [
    "#@test {\"skip\": true}\n",
    "def collect_step(environment, policy, buffer, policy_state):\n",
    "    time_step = environment.current_time_step()\n",
    "    action_step = policy.action(time_step, policy_state)\n",
    "    next_time_step = environment.step(action_step.action)\n",
    "    traj = trajectory.from_transition(time_step, action_step, next_time_step)\n",
    "\n",
    "    # Add trajectory to the replay buffer\n",
    "    buffer.add_batch(traj)\n",
    "    return action_step.state\n",
    "\n",
    "def collect_data(env, policy, buffer, steps):\n",
    "    policy_state = policy.get_initial_state(env.batch_size)\n",
    "    for _ in range(steps):\n",
    "        policy_state = collect_step(env, policy, buffer, policy_state)\n",
    "\n",
    "collect_data(train_env, random_policy, replay_buffer, initial_collect_steps)\n",
    "\n",
    "# This loop is so common in RL, that we provide standard implementations. \n",
    "# For more details see tutorial 4 or the drivers module.\n",
    "# https://github.com/tensorflow/agents/blob/master/docs/tutorials/4_drivers_tutorial.ipynb \n",
    "# https://www.tensorflow.org/agents/api_docs/python/tf_agents/drivers"
   ]
  },
  {
   "cell_type": "markdown",
   "metadata": {
    "id": "84z5pQJdoKxo"
   },
   "source": [
    "The replay buffer is now a collection of Trajectories."
   ]
  },
  {
   "cell_type": "code",
   "execution_count": 27,
   "metadata": {
    "id": "4wZnLu2ViO4E"
   },
   "outputs": [],
   "source": [
    "# For the curious:\n",
    "# Uncomment to peel one of these off and inspect it.\n",
    "# iter(replay_buffer.as_dataset()).next()"
   ]
  },
  {
   "cell_type": "markdown",
   "metadata": {
    "id": "TujU-PMUsKjS"
   },
   "source": [
    "The agent needs access to the replay buffer. This is provided by creating an iterable `tf.data.Dataset` pipeline which will feed data to the agent.\n",
    "\n",
    "Each row of the replay buffer only stores a single observation step. But since the DQN Agent needs both the current and next observation to compute the loss, the dataset pipeline will sample two adjacent rows for each item in the batch (`num_steps=2`).\n",
    "\n",
    "This dataset is also optimized by running parallel calls and prefetching data."
   ]
  },
  {
   "cell_type": "code",
   "execution_count": 28,
   "metadata": {
    "id": "ba7bilizt_qW"
   },
   "outputs": [
    {
     "name": "stdout",
     "output_type": "stream",
     "text": [
      "WARNING:tensorflow:From /home/florian/anaconda3/envs/tensorflow/lib/python3.8/site-packages/tensorflow/python/autograph/impl/api.py:382: ReplayBuffer.get_next (from tf_agents.replay_buffers.replay_buffer) is deprecated and will be removed in a future version.\n",
      "Instructions for updating:\n",
      "Use `as_dataset(..., single_deterministic_pass=False) instead.\n"
     ]
    },
    {
     "data": {
      "text/plain": [
       "<PrefetchDataset shapes: (Trajectory(\n",
       "{action: (64, 2),\n",
       " discount: (64, 2),\n",
       " next_step_type: (64, 2),\n",
       " observation: (64, 2, 4),\n",
       " policy_info: (),\n",
       " reward: (64, 2),\n",
       " step_type: (64, 2)}), BufferInfo(ids=(64, 2), probabilities=(64,))), types: (Trajectory(\n",
       "{action: tf.int64,\n",
       " discount: tf.float32,\n",
       " next_step_type: tf.int32,\n",
       " observation: tf.float32,\n",
       " policy_info: (),\n",
       " reward: tf.float32,\n",
       " step_type: tf.int32}), BufferInfo(ids=tf.int64, probabilities=tf.float32))>"
      ]
     },
     "execution_count": 28,
     "metadata": {},
     "output_type": "execute_result"
    }
   ],
   "source": [
    "# Dataset generates trajectories with shape [Bx2x...]\n",
    "dataset = replay_buffer.as_dataset(\n",
    "    num_parallel_calls=3, \n",
    "    sample_batch_size=batch_size, \n",
    "    num_steps=2).prefetch(3)\n",
    "\n",
    "\n",
    "dataset"
   ]
  },
  {
   "cell_type": "code",
   "execution_count": 29,
   "metadata": {
    "id": "K13AST-2ppOq"
   },
   "outputs": [
    {
     "name": "stdout",
     "output_type": "stream",
     "text": [
      "<tensorflow.python.data.ops.iterator_ops.OwnedIterator object at 0x7f7d1005d400>\n"
     ]
    }
   ],
   "source": [
    "iterator = iter(dataset)\n",
    "print(iterator)"
   ]
  },
  {
   "cell_type": "code",
   "execution_count": 30,
   "metadata": {
    "id": "Th5w5Sff0b16"
   },
   "outputs": [],
   "source": [
    "# For the curious:\n",
    "# Uncomment to see what the dataset iterator is feeding to the agent.\n",
    "# Compare this representation of replay data \n",
    "# to the collection of individual trajectories shown earlier.\n",
    "\n",
    "# iterator.next()"
   ]
  },
  {
   "cell_type": "markdown",
   "metadata": {
    "id": "hBc9lj9VWWtZ"
   },
   "source": [
    "## Training the agent\n",
    "\n",
    "Two things must happen during the training loop:\n",
    "\n",
    "-   collect data from the environment\n",
    "-   use that data to train the agent's neural network(s)\n",
    "\n",
    "This example also periodicially evaluates the policy and prints the current score.\n",
    "\n",
    "The following will take ~5 minutes to run."
   ]
  },
  {
   "cell_type": "code",
   "execution_count": 31,
   "metadata": {
    "id": "0pTbJ3PeyF-u"
   },
   "outputs": [
    {
     "name": "stdout",
     "output_type": "stream",
     "text": [
      "step = 200: loss = 21.594324111938477\n",
      "step = 400: loss = 16.89083480834961\n",
      "step = 600: loss = 55.287925720214844\n",
      "step = 800: loss = 94.83201599121094\n",
      "step = 1000: loss = 147.9092254638672\n",
      "step = 1000: Average Return = 70.80000305175781\n",
      "step = 1200: loss = 12.195680618286133\n",
      "step = 1400: loss = 186.73118591308594\n",
      "step = 1600: loss = 63.1030158996582\n",
      "step = 1800: loss = 8.091495513916016\n",
      "step = 2000: loss = 188.5952606201172\n",
      "step = 2000: Average Return = 77.4000015258789\n",
      "step = 2200: loss = 109.24842834472656\n",
      "step = 2400: loss = 49.87887191772461\n",
      "step = 2600: loss = 110.43609619140625\n",
      "step = 2800: loss = 7.71315860748291\n",
      "step = 3000: loss = 35.279563903808594\n",
      "step = 3000: Average Return = 63.20000076293945\n",
      "step = 3200: loss = 191.72381591796875\n",
      "step = 3400: loss = 35.24369812011719\n",
      "step = 3600: loss = 116.76710510253906\n",
      "step = 3800: loss = 5.941551208496094\n",
      "step = 4000: loss = 90.86309814453125\n",
      "step = 4000: Average Return = 57.599998474121094\n",
      "step = 4200: loss = 54.74087142944336\n",
      "step = 4400: loss = 8.279159545898438\n",
      "step = 4600: loss = 15.32332706451416\n",
      "step = 4800: loss = 46.370811462402344\n",
      "step = 5000: loss = 22.44290542602539\n",
      "step = 5000: Average Return = 109.80000305175781\n",
      "step = 5200: loss = 21.87630844116211\n",
      "step = 5400: loss = 513.0296630859375\n",
      "step = 5600: loss = 18.213075637817383\n",
      "step = 5800: loss = 49.96549987792969\n",
      "step = 6000: loss = 1616.939697265625\n",
      "step = 6000: Average Return = 122.69999694824219\n",
      "step = 6200: loss = 33.0972785949707\n",
      "step = 6400: loss = 36.99053955078125\n",
      "step = 6600: loss = 18.843040466308594\n",
      "step = 6800: loss = 26.606740951538086\n",
      "step = 7000: loss = 784.9930419921875\n",
      "step = 7000: Average Return = 9.5\n",
      "step = 7200: loss = 31.448509216308594\n",
      "step = 7400: loss = 1730.4765625\n",
      "step = 7600: loss = 17.267343521118164\n",
      "step = 7800: loss = 114.77354431152344\n",
      "step = 8000: loss = 20.565574645996094\n",
      "step = 8000: Average Return = 16.700000762939453\n",
      "step = 8200: loss = 956.0794067382812\n",
      "step = 8400: loss = 22.835477828979492\n",
      "step = 8600: loss = 1899.9658203125\n",
      "step = 8800: loss = 18.62268829345703\n",
      "step = 9000: loss = 283.66351318359375\n",
      "step = 9000: Average Return = 11.100000381469727\n",
      "step = 9200: loss = 1344.749267578125\n",
      "step = 9400: loss = 26.883892059326172\n",
      "step = 9600: loss = 21.198486328125\n",
      "step = 9800: loss = 847.15966796875\n",
      "step = 10000: loss = 22.39137840270996\n",
      "step = 10000: Average Return = 45.79999923706055\n",
      "step = 10200: loss = 808.5184936523438\n",
      "step = 10400: loss = 25.694000244140625\n",
      "step = 10600: loss = 1059.8170166015625\n",
      "step = 10800: loss = 1014.3870239257812\n",
      "step = 11000: loss = 90.1666259765625\n",
      "step = 11000: Average Return = 65.5\n",
      "step = 11200: loss = 688.0255737304688\n",
      "step = 11400: loss = 294.8048095703125\n",
      "step = 11600: loss = 23.815906524658203\n",
      "step = 11800: loss = 37.402957916259766\n",
      "step = 12000: loss = 2190.49609375\n",
      "step = 12000: Average Return = 80.0999984741211\n",
      "step = 12200: loss = 10.837197303771973\n",
      "step = 12400: loss = 909.76708984375\n",
      "step = 12600: loss = 29.127368927001953\n",
      "step = 12800: loss = 11.267814636230469\n",
      "step = 13000: loss = 1191.7999267578125\n",
      "step = 13000: Average Return = 9.899999618530273\n",
      "step = 13200: loss = 46.35306167602539\n",
      "step = 13400: loss = 195.27359008789062\n",
      "step = 13600: loss = 274.53338623046875\n",
      "step = 13800: loss = 1080.500244140625\n",
      "step = 14000: loss = 2485.044677734375\n",
      "step = 14000: Average Return = 11.899999618530273\n",
      "step = 14200: loss = 3125.70703125\n",
      "step = 14400: loss = 15790.9931640625\n",
      "step = 14600: loss = 10029.638671875\n",
      "step = 14800: loss = 64454.18359375\n",
      "step = 15000: loss = 3189.844482421875\n",
      "step = 15000: Average Return = 58.400001525878906\n",
      "step = 15200: loss = 5715.27734375\n",
      "step = 15400: loss = 98632.15625\n",
      "step = 15600: loss = 21990.30859375\n",
      "step = 15800: loss = 8782.322265625\n",
      "step = 16000: loss = 18377.048828125\n",
      "step = 16000: Average Return = 72.0999984741211\n",
      "step = 16200: loss = 22362.111328125\n",
      "step = 16400: loss = 15800.365234375\n",
      "step = 16600: loss = 56433.734375\n",
      "step = 16800: loss = 31583.421875\n",
      "step = 17000: loss = 53943.68359375\n",
      "step = 17000: Average Return = 197.39999389648438\n",
      "step = 17200: loss = 36298.1796875\n",
      "step = 17400: loss = 455522.8125\n",
      "step = 17600: loss = 307287.84375\n",
      "step = 17800: loss = 317640.0625\n",
      "step = 18000: loss = 177802.515625\n",
      "step = 18000: Average Return = 173.10000610351562\n",
      "step = 18200: loss = 380210.4375\n",
      "step = 18400: loss = 579053.6875\n",
      "step = 18600: loss = 2640918.5\n",
      "step = 18800: loss = 1062982.25\n",
      "step = 19000: loss = 2412694.75\n",
      "step = 19000: Average Return = 75.19999694824219\n",
      "step = 19200: loss = 3128107.25\n",
      "step = 19400: loss = 7865315.5\n",
      "step = 19600: loss = 7580783.0\n",
      "step = 19800: loss = 11819544.0\n",
      "step = 20000: loss = 20517162.0\n",
      "step = 20000: Average Return = 200.0\n",
      "step = 20200: loss = 22304930.0\n",
      "step = 20400: loss = 29720900.0\n",
      "step = 20600: loss = 10239578.0\n",
      "step = 20800: loss = 27681976.0\n",
      "step = 21000: loss = 17127044.0\n",
      "step = 21000: Average Return = 200.0\n",
      "step = 21200: loss = 172549408.0\n",
      "step = 21400: loss = 28694282.0\n",
      "step = 21600: loss = 251357264.0\n",
      "step = 21800: loss = 155900528.0\n",
      "step = 22000: loss = 42717848.0\n",
      "step = 22000: Average Return = 200.0\n",
      "step = 22200: loss = 138809632.0\n",
      "step = 22400: loss = 88203776.0\n",
      "step = 22600: loss = 187577440.0\n",
      "step = 22800: loss = 206325936.0\n",
      "step = 23000: loss = 90773472.0\n",
      "step = 23000: Average Return = 200.0\n",
      "step = 23200: loss = 645161984.0\n",
      "step = 23400: loss = 182500144.0\n",
      "step = 23600: loss = 129952648.0\n",
      "step = 23800: loss = 152857440.0\n",
      "step = 24000: loss = 631881664.0\n",
      "step = 24000: Average Return = 196.60000610351562\n",
      "step = 24200: loss = 189974816.0\n",
      "step = 24400: loss = 169301168.0\n",
      "step = 24600: loss = 928131328.0\n",
      "step = 24800: loss = 2730681088.0\n",
      "step = 25000: loss = 403608064.0\n",
      "step = 25000: Average Return = 200.0\n",
      "step = 25200: loss = 684817728.0\n",
      "step = 25400: loss = 897020096.0\n",
      "step = 25600: loss = 1044983168.0\n",
      "step = 25800: loss = 500361024.0\n",
      "step = 26000: loss = 1320462336.0\n",
      "step = 26000: Average Return = 200.0\n",
      "step = 26200: loss = 414351360.0\n",
      "step = 26400: loss = 1302850816.0\n",
      "step = 26600: loss = 845657600.0\n",
      "step = 26800: loss = 2312239616.0\n",
      "step = 27000: loss = 1826215680.0\n",
      "step = 27000: Average Return = 200.0\n",
      "step = 27200: loss = 2027457664.0\n",
      "step = 27400: loss = 1024506112.0\n",
      "step = 27600: loss = 7982154752.0\n",
      "step = 27800: loss = 1652750208.0\n",
      "step = 28000: loss = 22302175232.0\n",
      "step = 28000: Average Return = 102.30000305175781\n",
      "step = 28200: loss = 2028878976.0\n",
      "step = 28400: loss = 6469018624.0\n",
      "step = 28600: loss = 1822273792.0\n",
      "step = 28800: loss = 5291146752.0\n",
      "step = 29000: loss = 8501121024.0\n",
      "step = 29000: Average Return = 200.0\n",
      "step = 29200: loss = 2665413632.0\n",
      "step = 29400: loss = 5368844288.0\n",
      "step = 29600: loss = 2995860480.0\n",
      "step = 29800: loss = 3284264448.0\n",
      "step = 30000: loss = 8671305728.0\n",
      "step = 30000: Average Return = 200.0\n",
      "step = 30200: loss = 14382979072.0\n",
      "step = 30400: loss = 4027683840.0\n",
      "step = 30600: loss = 17875814400.0\n",
      "step = 30800: loss = 6412294144.0\n",
      "step = 31000: loss = 5926044672.0\n",
      "step = 31000: Average Return = 200.0\n",
      "step = 31200: loss = 19448750080.0\n",
      "step = 31400: loss = 32808900608.0\n",
      "step = 31600: loss = 8949204992.0\n",
      "step = 31800: loss = 42767753216.0\n",
      "step = 32000: loss = 5923371008.0\n",
      "step = 32000: Average Return = 156.89999389648438\n",
      "step = 32200: loss = 17074254848.0\n",
      "step = 32400: loss = 18838523904.0\n",
      "step = 32600: loss = 22250084352.0\n",
      "step = 32800: loss = 12140477440.0\n",
      "step = 33000: loss = 12142313472.0\n",
      "step = 33000: Average Return = 123.80000305175781\n",
      "step = 33200: loss = 27390564352.0\n",
      "step = 33400: loss = 5676577792.0\n",
      "step = 33600: loss = 9160205312.0\n",
      "step = 33800: loss = 43812597760.0\n",
      "step = 34000: loss = 69653389312.0\n",
      "step = 34000: Average Return = 113.9000015258789\n",
      "step = 34200: loss = 22344138752.0\n",
      "step = 34400: loss = 15743823872.0\n",
      "step = 34600: loss = 20395220992.0\n",
      "step = 34800: loss = 27058356224.0\n",
      "step = 35000: loss = 45346611200.0\n",
      "step = 35000: Average Return = 123.0\n",
      "step = 35200: loss = 18843181056.0\n",
      "step = 35400: loss = 25265070080.0\n",
      "step = 35600: loss = 43571347456.0\n",
      "step = 35800: loss = 96243982336.0\n",
      "step = 36000: loss = 37487022080.0\n",
      "step = 36000: Average Return = 118.9000015258789\n",
      "step = 36200: loss = 164171710464.0\n",
      "step = 36400: loss = 78266499072.0\n",
      "step = 36600: loss = 69083742208.0\n",
      "step = 36800: loss = 13976928256.0\n",
      "step = 37000: loss = 256298795008.0\n",
      "step = 37000: Average Return = 93.9000015258789\n",
      "step = 37200: loss = 42274791424.0\n",
      "step = 37400: loss = 22718701568.0\n",
      "step = 37600: loss = 72228782080.0\n",
      "step = 37800: loss = 771761307648.0\n",
      "step = 38000: loss = 78344912896.0\n",
      "step = 38000: Average Return = 95.4000015258789\n",
      "step = 38200: loss = 308398489600.0\n",
      "step = 38400: loss = 37675442176.0\n",
      "step = 38600: loss = 107094704128.0\n",
      "step = 38800: loss = 31481532416.0\n",
      "step = 39000: loss = 57939566592.0\n",
      "step = 39000: Average Return = 98.9000015258789\n",
      "step = 39200: loss = 177279909888.0\n",
      "step = 39400: loss = 146528305152.0\n",
      "step = 39600: loss = 82832670720.0\n",
      "step = 39800: loss = 44150038528.0\n",
      "step = 40000: loss = 85943353344.0\n",
      "step = 40000: Average Return = 103.80000305175781\n",
      "step = 40200: loss = 82278449152.0\n",
      "step = 40400: loss = 405232123904.0\n",
      "step = 40600: loss = 72290639872.0\n",
      "step = 40800: loss = 129941340160.0\n",
      "step = 41000: loss = 161118453760.0\n",
      "step = 41000: Average Return = 200.0\n",
      "step = 41200: loss = 236719046656.0\n",
      "step = 41400: loss = 148358135808.0\n",
      "step = 41600: loss = 210730336256.0\n",
      "step = 41800: loss = 127331196928.0\n",
      "step = 42000: loss = 216212340736.0\n",
      "step = 42000: Average Return = 200.0\n",
      "step = 42200: loss = 261758304256.0\n",
      "step = 42400: loss = 384987037696.0\n",
      "step = 42600: loss = 60808204288.0\n",
      "step = 42800: loss = 348051668992.0\n",
      "step = 43000: loss = 382468390912.0\n",
      "step = 43000: Average Return = 187.6999969482422\n",
      "step = 43200: loss = 276806598656.0\n",
      "step = 43400: loss = 306708742144.0\n",
      "step = 43600: loss = 306888212480.0\n",
      "step = 43800: loss = 286301814784.0\n",
      "step = 44000: loss = 94187257856.0\n",
      "step = 44000: Average Return = 180.8000030517578\n",
      "step = 44200: loss = 95514271744.0\n",
      "step = 44400: loss = 441381945344.0\n",
      "step = 44600: loss = 422694191104.0\n",
      "step = 44800: loss = 57219723264.0\n",
      "step = 45000: loss = 230377848832.0\n",
      "step = 45000: Average Return = 110.5999984741211\n",
      "step = 45200: loss = 627736051712.0\n",
      "step = 45400: loss = 199101775872.0\n",
      "step = 45600: loss = 126283292672.0\n",
      "step = 45800: loss = 266105421824.0\n",
      "step = 46000: loss = 87251222528.0\n",
      "step = 46000: Average Return = 200.0\n",
      "step = 46200: loss = 85244125184.0\n",
      "step = 46400: loss = 361911877632.0\n",
      "step = 46600: loss = 405521465344.0\n",
      "step = 46800: loss = 160140541952.0\n",
      "step = 47000: loss = 220398600192.0\n",
      "step = 47000: Average Return = 200.0\n",
      "step = 47200: loss = 950447898624.0\n",
      "step = 47400: loss = 254213586944.0\n",
      "step = 47600: loss = 791955505152.0\n",
      "step = 47800: loss = 878884683776.0\n",
      "step = 48000: loss = 316930883584.0\n",
      "step = 48000: Average Return = 182.89999389648438\n",
      "step = 48200: loss = 1221896962048.0\n",
      "step = 48400: loss = 775251296256.0\n",
      "step = 48600: loss = 179729563648.0\n",
      "step = 48800: loss = 987263926272.0\n",
      "step = 49000: loss = 298101637120.0\n",
      "step = 49000: Average Return = 196.8000030517578\n",
      "step = 49200: loss = 529039556608.0\n",
      "step = 49400: loss = 701870571520.0\n",
      "step = 49600: loss = 1632145506304.0\n",
      "step = 49800: loss = 808392458240.0\n",
      "step = 50000: loss = 372922089472.0\n",
      "step = 50000: Average Return = 200.0\n",
      "step = 50200: loss = 120504066048.0\n",
      "step = 50400: loss = 198502154240.0\n",
      "step = 50600: loss = 958836244480.0\n",
      "step = 50800: loss = 1135972319232.0\n",
      "step = 51000: loss = 870706970624.0\n",
      "step = 51000: Average Return = 197.10000610351562\n",
      "step = 51200: loss = 256362741760.0\n",
      "step = 51400: loss = 1271376248832.0\n",
      "step = 51600: loss = 695287414784.0\n",
      "step = 51800: loss = 271723986944.0\n",
      "step = 52000: loss = 423612121088.0\n",
      "step = 52000: Average Return = 200.0\n",
      "step = 52200: loss = 185089261568.0\n",
      "step = 52400: loss = 320644284416.0\n",
      "step = 52600: loss = 1689638141952.0\n",
      "step = 52800: loss = 1530613858304.0\n",
      "step = 53000: loss = 607139135488.0\n",
      "step = 53000: Average Return = 200.0\n",
      "step = 53200: loss = 1002818437120.0\n",
      "step = 53400: loss = 396246482944.0\n",
      "step = 53600: loss = 1366639247360.0\n",
      "step = 53800: loss = 1140110655488.0\n",
      "step = 54000: loss = 373232369664.0\n",
      "step = 54000: Average Return = 200.0\n",
      "step = 54200: loss = 13990089457664.0\n",
      "step = 54400: loss = 375933796352.0\n",
      "step = 54600: loss = 1575784939520.0\n",
      "step = 54800: loss = 3006276304896.0\n",
      "step = 55000: loss = 586010787840.0\n",
      "step = 55000: Average Return = 200.0\n",
      "step = 55200: loss = 1310139482112.0\n",
      "step = 55400: loss = 486651723776.0\n",
      "step = 55600: loss = 539739684864.0\n",
      "step = 55800: loss = 217151832064.0\n",
      "step = 56000: loss = 1309161684992.0\n",
      "step = 56000: Average Return = 200.0\n",
      "step = 56200: loss = 170096164864.0\n",
      "step = 56400: loss = 344556306432.0\n",
      "step = 56600: loss = 812751323136.0\n",
      "step = 56800: loss = 929812643840.0\n",
      "step = 57000: loss = 553961127936.0\n",
      "step = 57000: Average Return = 168.60000610351562\n",
      "step = 57200: loss = 903379156992.0\n",
      "step = 57400: loss = 501351415808.0\n",
      "step = 57600: loss = 2033068015616.0\n",
      "step = 57800: loss = 449543700480.0\n",
      "step = 58000: loss = 3519836061696.0\n",
      "step = 58000: Average Return = 200.0\n",
      "step = 58200: loss = 603353907200.0\n",
      "step = 58400: loss = 744262270976.0\n",
      "step = 58600: loss = 854996680704.0\n",
      "step = 58800: loss = 3123877249024.0\n",
      "step = 59000: loss = 3019247714304.0\n",
      "step = 59000: Average Return = 200.0\n",
      "step = 59200: loss = 3635197247488.0\n",
      "step = 59400: loss = 539374452736.0\n",
      "step = 59600: loss = 455551483904.0\n",
      "step = 59800: loss = 1624428773376.0\n",
      "step = 60000: loss = 1041160208384.0\n",
      "step = 60000: Average Return = 200.0\n",
      "step = 60200: loss = 2561030488064.0\n",
      "step = 60400: loss = 600196382720.0\n",
      "step = 60600: loss = 147482296320.0\n",
      "step = 60800: loss = 987775434752.0\n",
      "step = 61000: loss = 766109155328.0\n",
      "step = 61000: Average Return = 200.0\n",
      "step = 61200: loss = 1727833833472.0\n",
      "step = 61400: loss = 3726045085696.0\n",
      "step = 61600: loss = 837023629312.0\n",
      "step = 61800: loss = 4376484642816.0\n",
      "step = 62000: loss = 2662606045184.0\n",
      "step = 62000: Average Return = 200.0\n",
      "step = 62200: loss = 1664379912192.0\n",
      "step = 62400: loss = 1153667956736.0\n",
      "step = 62600: loss = 909740605440.0\n",
      "step = 62800: loss = 2672834904064.0\n",
      "step = 63000: loss = 1060929667072.0\n",
      "step = 63000: Average Return = 200.0\n",
      "step = 63200: loss = 2637183320064.0\n",
      "step = 63400: loss = 3123473547264.0\n",
      "step = 63600: loss = 1088510951424.0\n",
      "step = 63800: loss = 1650975309824.0\n",
      "step = 64000: loss = 5282692857856.0\n",
      "step = 64000: Average Return = 200.0\n",
      "step = 64200: loss = 400611803136.0\n",
      "step = 64400: loss = 1058571550720.0\n",
      "step = 64600: loss = 3299566157824.0\n",
      "step = 64800: loss = 1737411395584.0\n",
      "step = 65000: loss = 3553618034688.0\n",
      "step = 65000: Average Return = 200.0\n",
      "step = 65200: loss = 3298188328960.0\n",
      "step = 65400: loss = 4659759022080.0\n",
      "step = 65600: loss = 693656223744.0\n",
      "step = 65800: loss = 5358094909440.0\n",
      "step = 66000: loss = 952290770944.0\n",
      "step = 66000: Average Return = 200.0\n",
      "step = 66200: loss = 1789418405888.0\n",
      "step = 66400: loss = 2510946304000.0\n",
      "step = 66600: loss = 796590866432.0\n",
      "step = 66800: loss = 1391745171456.0\n",
      "step = 67000: loss = 6852444160000.0\n",
      "step = 67000: Average Return = 200.0\n",
      "step = 67200: loss = 699719221248.0\n",
      "step = 67400: loss = 3059774652416.0\n",
      "step = 67600: loss = 1464303091712.0\n",
      "step = 67800: loss = 4447447023616.0\n",
      "step = 68000: loss = 2531807199232.0\n",
      "step = 68000: Average Return = 200.0\n",
      "step = 68200: loss = 2278102663168.0\n",
      "step = 68400: loss = 7005205954560.0\n",
      "step = 68600: loss = 2039554768896.0\n",
      "step = 68800: loss = 18491394490368.0\n",
      "step = 69000: loss = 3203263889408.0\n",
      "step = 69000: Average Return = 200.0\n",
      "step = 69200: loss = 1395482951680.0\n",
      "step = 69400: loss = 34167635050496.0\n",
      "step = 69600: loss = 2556177678336.0\n",
      "step = 69800: loss = 1443250307072.0\n",
      "step = 70000: loss = 6963099860992.0\n",
      "step = 70000: Average Return = 200.0\n",
      "step = 70200: loss = 2147148365824.0\n",
      "step = 70400: loss = 631436673024.0\n",
      "step = 70600: loss = 734315216896.0\n",
      "step = 70800: loss = 18806869065728.0\n",
      "step = 71000: loss = 748613009408.0\n",
      "step = 71000: Average Return = 200.0\n",
      "step = 71200: loss = 2448815816704.0\n",
      "step = 71400: loss = 1984522223616.0\n",
      "step = 71600: loss = 7037114122240.0\n",
      "step = 71800: loss = 3792246407168.0\n",
      "step = 72000: loss = 6313413181440.0\n",
      "step = 72000: Average Return = 200.0\n",
      "step = 72200: loss = 617059844096.0\n",
      "step = 72400: loss = 6137682329600.0\n",
      "step = 72600: loss = 3290546307072.0\n",
      "step = 72800: loss = 3950509555712.0\n",
      "step = 73000: loss = 3181352058880.0\n",
      "step = 73000: Average Return = 196.39999389648438\n",
      "step = 73200: loss = 3788588449792.0\n",
      "step = 73400: loss = 5293253066752.0\n",
      "step = 73600: loss = 15179603509248.0\n",
      "step = 73800: loss = 1972811333632.0\n",
      "step = 74000: loss = 5705896558592.0\n",
      "step = 74000: Average Return = 200.0\n",
      "step = 74200: loss = 3666926108672.0\n",
      "step = 74400: loss = 13914295238656.0\n",
      "step = 74600: loss = 2951168131072.0\n",
      "step = 74800: loss = 2170233290752.0\n",
      "step = 75000: loss = 5307515797504.0\n",
      "step = 75000: Average Return = 200.0\n",
      "step = 75200: loss = 2512039968768.0\n",
      "step = 75400: loss = 1842192187392.0\n",
      "step = 75600: loss = 5578960142336.0\n",
      "step = 75800: loss = 13435371782144.0\n",
      "step = 76000: loss = 2366432870400.0\n",
      "step = 76000: Average Return = 200.0\n",
      "step = 76200: loss = 3030863839232.0\n",
      "step = 76400: loss = 2186753605632.0\n",
      "step = 76600: loss = 8349012721664.0\n",
      "step = 76800: loss = 14138651705344.0\n",
      "step = 77000: loss = 1869408501760.0\n",
      "step = 77000: Average Return = 200.0\n",
      "step = 77200: loss = 16789729705984.0\n",
      "step = 77400: loss = 745592061952.0\n",
      "step = 77600: loss = 2401194213376.0\n",
      "step = 77800: loss = 18340613455872.0\n",
      "step = 78000: loss = 12409907445760.0\n",
      "step = 78000: Average Return = 200.0\n",
      "step = 78200: loss = 4325441536000.0\n",
      "step = 78400: loss = 1058529738752.0\n",
      "step = 78600: loss = 35351238279168.0\n",
      "step = 78800: loss = 5124953997312.0\n",
      "step = 79000: loss = 16255214944256.0\n",
      "step = 79000: Average Return = 200.0\n",
      "step = 79200: loss = 10706184306688.0\n",
      "step = 79400: loss = 2235401240576.0\n",
      "step = 79600: loss = 1855572672512.0\n",
      "step = 79800: loss = 1431510581248.0\n",
      "step = 80000: loss = 4819236421632.0\n",
      "step = 80000: Average Return = 200.0\n",
      "step = 80200: loss = 6303435980800.0\n",
      "step = 80400: loss = 3009838317568.0\n",
      "step = 80600: loss = 3252271710208.0\n",
      "step = 80800: loss = 3855003680768.0\n",
      "step = 81000: loss = 25422263746560.0\n",
      "step = 81000: Average Return = 200.0\n",
      "step = 81200: loss = 18599068565504.0\n",
      "step = 81400: loss = 12062414602240.0\n",
      "step = 81600: loss = 4340271808512.0\n",
      "step = 81800: loss = 15977034022912.0\n",
      "step = 82000: loss = 20655990898688.0\n",
      "step = 82000: Average Return = 200.0\n",
      "step = 82200: loss = 8258689957888.0\n",
      "step = 82400: loss = 1753595117568.0\n",
      "step = 82600: loss = 4934304530432.0\n",
      "step = 82800: loss = 3732343357440.0\n",
      "step = 83000: loss = 1789527851008.0\n",
      "step = 83000: Average Return = 196.8000030517578\n",
      "step = 83200: loss = 6951200096256.0\n",
      "step = 83400: loss = 4489392160768.0\n",
      "step = 83600: loss = 5631682019328.0\n",
      "step = 83800: loss = 4554305306624.0\n",
      "step = 84000: loss = 6011398127616.0\n",
      "step = 84000: Average Return = 200.0\n",
      "step = 84200: loss = 1051743289344.0\n",
      "step = 84400: loss = 24929726627840.0\n",
      "step = 84600: loss = 13777888083968.0\n",
      "step = 84800: loss = 4477966876672.0\n",
      "step = 85000: loss = 5752303386624.0\n",
      "step = 85000: Average Return = 200.0\n",
      "step = 85200: loss = 2961316249600.0\n",
      "step = 85400: loss = 6018932146176.0\n",
      "step = 85600: loss = 41979161346048.0\n",
      "step = 85800: loss = 987199307776.0\n",
      "step = 86000: loss = 18254965768192.0\n",
      "step = 86000: Average Return = 200.0\n",
      "step = 86200: loss = 1778903416832.0\n",
      "step = 86400: loss = 10025370124288.0\n",
      "step = 86600: loss = 7154586091520.0\n",
      "step = 86800: loss = 5704266022912.0\n",
      "step = 87000: loss = 12386811510784.0\n",
      "step = 87000: Average Return = 200.0\n",
      "step = 87200: loss = 2214599852032.0\n",
      "step = 87400: loss = 2833088774144.0\n",
      "step = 87600: loss = 1382214270976.0\n",
      "step = 87800: loss = 5599285739520.0\n",
      "step = 88000: loss = 9532472295424.0\n",
      "step = 88000: Average Return = 200.0\n",
      "step = 88200: loss = 7545692356608.0\n",
      "step = 88400: loss = 27531889606656.0\n",
      "step = 88600: loss = 5497216303104.0\n",
      "step = 88800: loss = 10046490542080.0\n",
      "step = 89000: loss = 5774988804096.0\n",
      "step = 89000: Average Return = 200.0\n",
      "step = 89200: loss = 11023499132928.0\n",
      "step = 89400: loss = 6388649558016.0\n",
      "step = 89600: loss = 14889684828160.0\n",
      "step = 89800: loss = 16082204098560.0\n",
      "step = 90000: loss = 55995610955776.0\n",
      "step = 90000: Average Return = 200.0\n",
      "step = 90200: loss = 9384158560256.0\n",
      "step = 90400: loss = 19312515481600.0\n",
      "step = 90600: loss = 2736874586112.0\n",
      "step = 90800: loss = 19344880828416.0\n",
      "step = 91000: loss = 4588311674880.0\n",
      "step = 91000: Average Return = 200.0\n",
      "step = 91200: loss = 3615802523648.0\n",
      "step = 91400: loss = 11815796867072.0\n",
      "step = 91600: loss = 5799096090624.0\n",
      "step = 91800: loss = 43067784560640.0\n",
      "step = 92000: loss = 198657504706560.0\n",
      "step = 92000: Average Return = 200.0\n",
      "step = 92200: loss = 12892325806080.0\n",
      "step = 92400: loss = 24023824072704.0\n",
      "step = 92600: loss = 11889582014464.0\n",
      "step = 92800: loss = 41732175560704.0\n",
      "step = 93000: loss = 25258757193728.0\n",
      "step = 93000: Average Return = 200.0\n",
      "step = 93200: loss = 2844138668032.0\n",
      "step = 93400: loss = 3653334204416.0\n",
      "step = 93600: loss = 5036401229824.0\n",
      "step = 93800: loss = 16157463543808.0\n",
      "step = 94000: loss = 1968829759488.0\n",
      "step = 94000: Average Return = 200.0\n",
      "step = 94200: loss = 7099360739328.0\n",
      "step = 94400: loss = 4968295170048.0\n",
      "step = 94600: loss = 5147848081408.0\n",
      "step = 94800: loss = 3289896452096.0\n",
      "step = 95000: loss = 3507515555840.0\n",
      "step = 95000: Average Return = 200.0\n",
      "step = 95200: loss = 5847653548032.0\n",
      "step = 95400: loss = 2203679719424.0\n",
      "step = 95600: loss = 2636074450944.0\n",
      "step = 95800: loss = 7847133839360.0\n",
      "step = 96000: loss = 7843531980800.0\n",
      "step = 96000: Average Return = 200.0\n",
      "step = 96200: loss = 9249950269440.0\n",
      "step = 96400: loss = 50242464514048.0\n",
      "step = 96600: loss = 5015479517184.0\n",
      "step = 96800: loss = 5562020397056.0\n",
      "step = 97000: loss = 10083692969984.0\n",
      "step = 97000: Average Return = 200.0\n",
      "step = 97200: loss = 9871323824128.0\n",
      "step = 97400: loss = 2412045664256.0\n",
      "step = 97600: loss = 16755206389760.0\n",
      "step = 97800: loss = 7462837026816.0\n",
      "step = 98000: loss = 61378756870144.0\n",
      "step = 98000: Average Return = 200.0\n",
      "step = 98200: loss = 18686154899456.0\n",
      "step = 98400: loss = 16073887842304.0\n",
      "step = 98600: loss = 5565980344320.0\n",
      "step = 98800: loss = 11111709540352.0\n",
      "step = 99000: loss = 12732651798528.0\n",
      "step = 99000: Average Return = 200.0\n",
      "step = 99200: loss = 8480327467008.0\n",
      "step = 99400: loss = 5399867555840.0\n",
      "step = 99600: loss = 20010848223232.0\n",
      "step = 99800: loss = 41227575623680.0\n",
      "step = 100000: loss = 17225826172928.0\n",
      "step = 100000: Average Return = 162.0\n"
     ]
    }
   ],
   "source": [
    "#@test {\"skip\": true}\n",
    "try:\n",
    "  %%time\n",
    "except:\n",
    "  pass\n",
    "\n",
    "# (Optional) Optimize by wrapping some of the code in a graph using TF function.\n",
    "agent.train = common.function(agent.train)\n",
    "\n",
    "# Reset the train step\n",
    "agent.train_step_counter.assign(0)\n",
    "\n",
    "# Evaluate the agent's policy once before training.\n",
    "avg_return = compute_avg_return(eval_env, agent.policy, num_eval_episodes)\n",
    "returns = [avg_return]\n",
    "\n",
    "for _ in range(num_iterations):\n",
    "\n",
    "  # Collect a few steps using collect_policy and save to the replay buffer.\n",
    "  collect_data(train_env, agent.collect_policy, replay_buffer, collect_steps_per_iteration)\n",
    "\n",
    "  # Sample a batch of data from the buffer and update the agent's network.\n",
    "  experience, unused_info = next(iterator)\n",
    "  train_loss = agent.train(experience).loss\n",
    "\n",
    "  step = agent.train_step_counter.numpy()\n",
    "\n",
    "  if step % log_interval == 0:\n",
    "    print('step = {0}: loss = {1}'.format(step, train_loss))\n",
    "\n",
    "  if step % eval_interval == 0:\n",
    "    avg_return = compute_avg_return(eval_env, agent.policy, num_eval_episodes)\n",
    "    print('step = {0}: Average Return = {1}'.format(step, avg_return))\n",
    "    returns.append(avg_return)"
   ]
  },
  {
   "cell_type": "markdown",
   "metadata": {
    "id": "68jNcA_TiJDq"
   },
   "source": [
    "## Visualization\n"
   ]
  },
  {
   "cell_type": "markdown",
   "metadata": {
    "id": "aO-LWCdbbOIC"
   },
   "source": [
    "### Plots\n",
    "\n",
    "Use `matplotlib.pyplot` to chart how the policy improved during training.\n",
    "\n",
    "One iteration of `Cartpole-v0` consists of 200 time steps. The environment gives a reward of `+1` for each step the pole stays up, so the maximum return for one episode is 200. The charts shows the return increasing towards that maximum each time it is evaluated during training. (It may be a little unstable and not increase monotonically each time.)"
   ]
  },
  {
   "cell_type": "code",
   "execution_count": 32,
   "metadata": {
    "id": "NxtL1mbOYCVO"
   },
   "outputs": [
    {
     "data": {
      "text/plain": [
       "(-0.025000000000000355, 250.0)"
      ]
     },
     "execution_count": 32,
     "metadata": {},
     "output_type": "execute_result"
    },
    {
     "data": {
      "image/png": "[encoded data removed]",
      "text/plain": [
       "<Figure size 432x288 with 1 Axes>"
      ]
     },
     "metadata": {
      "needs_background": "light"
     },
     "output_type": "display_data"
    }
   ],
   "source": [
    "#@test {\"skip\": true}\n",
    "\n",
    "iterations = range(0, num_iterations + 1, eval_interval)\n",
    "plt.plot(iterations, returns)\n",
    "plt.ylabel('Average Return')\n",
    "plt.xlabel('Iterations')\n",
    "plt.ylim(top=250)"
   ]
  },
  {
   "cell_type": "markdown",
   "metadata": {
    "id": "M7-XpPP99Cy7"
   },
   "source": [
    "### Videos"
   ]
  },
  {
   "cell_type": "markdown",
   "metadata": {
    "id": "9pGfGxSH32gn"
   },
   "source": [
    "Charts are nice. But more exciting is seeing an agent actually performing a task in an environment. \n",
    "\n",
    "First, create a function to embed videos in the notebook."
   ]
  },
  {
   "cell_type": "code",
   "execution_count": 33,
   "metadata": {
    "id": "ULaGr8pvOKbl"
   },
   "outputs": [],
   "source": [
    "def embed_mp4(filename):\n",
    "  \"\"\"Embeds an mp4 file in the notebook.\"\"\"\n",
    "  video = open(filename,'rb').read()\n",
    "  b64 = base64.b64encode(video)\n",
    "  tag = '''\n",
    "  <video width=\"640\" height=\"480\" controls>\n",
    "    <source src=\"data:video/mp4;base64,{0}\" type=\"video/mp4\">\n",
    "  Your browser does not support the video tag.\n",
    "  </video>'''.format(b64.decode())\n",
    "\n",
    "  return IPython.display.HTML(tag)"
   ]
  },
  {
   "cell_type": "markdown",
   "metadata": {
    "id": "9c_PH-pX4Pr5"
   },
   "source": [
    "Now iterate through a few episodes of the Cartpole game with the agent. The underlying Python environment (the one \"inside\" the TensorFlow environment wrapper) provides a `render()` method, which outputs an image of the environment state. These can be collected into a video."
   ]
  },
  {
   "cell_type": "code",
   "execution_count": 36,
   "metadata": {
    "id": "owOVWB158NlF"
   },
   "outputs": [
    {
     "name": "stderr",
     "output_type": "stream",
     "text": [
      "WARNING:root:IMAGEIO FFMPEG_WRITER WARNING: input image is not divisible by macro_block_size=16, resizing from (400, 600) to (400, 608) to ensure video compatibility with most codecs and players. To prevent resizing, make your input image divisible by the macro_block_size or set the macro_block_size to None (risking incompatibility). You may also see a FFMPEG warning concerning speedloss due to data not being aligned.\n"
     ]
    },
    {
     "data": {
      "text/html": [
       "\n",
       "  <video width=\"640\" height=\"480\" controls>\n",
       "    <source src=\"data:video/mp4;base64,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\" type=\"video/mp4\">\n",
       "  Your browser does not support the video tag.\n",
       "  </video>"
      ],
      "text/plain": [
       "<IPython.core.display.HTML object>"
      ]
     },
     "execution_count": 36,
     "metadata": {},
     "output_type": "execute_result"
    }
   ],
   "source": [
    "def create_policy_eval_video(policy, filename, num_episodes=5, fps=30):\n",
    "  filename = filename + \".mp4\"\n",
    "  with imageio.get_writer(filename, fps=fps) as video:\n",
    "    for _ in range(num_episodes):\n",
    "      time_step = eval_env.reset()\n",
    "      video.append_data(eval_py_env.render())\n",
    "      policy_state = policy.get_initial_state(env.batch_size)\n",
    "      while not time_step.is_last():\n",
    "        action_step = policy.action(time_step, policy_state)\n",
    "        policy_state = action_step.state\n",
    "        time_step = eval_env.step(action_step.action)\n",
    "        video.append_data(eval_py_env.render())\n",
    "  return embed_mp4(filename)\n",
    "\n",
    "\n",
    "\n",
    "\n",
    "create_policy_eval_video(agent.policy, \"trained-agent\")"
   ]
  },
  {
   "cell_type": "markdown",
   "metadata": {
    "id": "povaAOcZygLw"
   },
   "source": [
    "For fun, compare the trained agent (above) to an agent moving randomly. (It does not do as well.)"
   ]
  },
  {
   "cell_type": "code",
   "execution_count": 37,
   "metadata": {
    "id": "pJZIdC37yNH4"
   },
   "outputs": [
    {
     "name": "stderr",
     "output_type": "stream",
     "text": [
      "WARNING:root:IMAGEIO FFMPEG_WRITER WARNING: input image is not divisible by macro_block_size=16, resizing from (400, 600) to (400, 608) to ensure video compatibility with most codecs and players. To prevent resizing, make your input image divisible by the macro_block_size or set the macro_block_size to None (risking incompatibility). You may also see a FFMPEG warning concerning speedloss due to data not being aligned.\n"
     ]
    },
    {
     "data": {
      "text/html": [
       "\n",
       "  <video width=\"640\" height=\"480\" controls>\n",
       "    <source src=\"data:video/mp4;base64,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\" type=\"video/mp4\">\n",
       "  Your browser does not support the video tag.\n",
       "  </video>"
      ],
      "text/plain": [
       "<IPython.core.display.HTML object>"
      ]
     },
     "execution_count": 37,
     "metadata": {},
     "output_type": "execute_result"
    }
   ],
   "source": [
    "create_policy_eval_video(random_policy, \"random-agent\")"
   ]
  },
  {
   "cell_type": "code",
   "execution_count": null,
   "metadata": {},
   "outputs": [],
   "source": []
  }
 ],
 "metadata": {
  "colab": {
   "collapsed_sections": [],
   "name": "DQN Tutorial.ipynb",
   "private_outputs": true,
   "provenance": [],
   "toc_visible": true
  },
  "interpreter": {
   "hash": "045652b23767f21ff8283538b8df83eae70d2472958a2d91a3594e31590cdc5c"
  },
  "kernelspec": {
   "display_name": "Python 3",
   "language": "python",
   "name": "python3"
  },
  "language_info": {
   "codemirror_mode": {
    "name": "ipython",
    "version": 3
   },
   "file_extension": ".py",
   "mimetype": "text/x-python",
   "name": "python",
   "nbconvert_exporter": "python",
   "pygments_lexer": "ipython3",
   "version": "3.8.8"
  },
  "pycharm": {
   "stem_cell": {
    "cell_type": "raw",
    "metadata": {
     "collapsed": false
    },
    "source": []
   }
  }
 },
 "nbformat": 4,
 "nbformat_minor": 4
}
