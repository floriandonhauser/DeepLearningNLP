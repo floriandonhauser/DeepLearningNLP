{
 "nbformat": 4,
 "nbformat_minor": 0,
 "metadata": {
  "colab": {
   "name": "tf_TextWorld_RL.ipynb",
   "provenance": [],
   "collapsed_sections": []
  },
  "kernelspec": {
   "name": "python3",
   "display_name": "Python 3"
  },
  "language_info": {
   "name": "python"
  },
  "accelerator": "GPU"
 },
 "cells": [
  {
   "cell_type": "markdown",
   "metadata": {
    "id": "VJQwRDYVlPwi"
   },
   "source": [
    "# Advanced Deep Learning for NLP - Text based adventure game RL\n"
   ]
  },
  {
   "cell_type": "markdown",
   "metadata": {
    "id": "LPNo9umRmNlr"
   },
   "source": [
    "WIP: Links not assigned yet\n",
    "\n",
    "<table class=\"tfo-notebook-buttons\" align=\"left\">\n",
    "  <td>\n",
    "    <a target=\"_blank\" href=\"https://colab.research.google.com/github/tensorflow/agents/blob/master/docs/tutorials/1_dqn_tutorial.ipynb\">\n",
    "    <img src=\"https://www.tensorflow.org/images/colab_logo_32px.png\" />\n",
    "    Run in Google Colab</a>\n",
    "  </td>\n",
    "  <td>\n",
    "    <a target=\"_blank\" href=\"https://github.com/tensorflow/agents/blob/master/docs/tutorials/1_dqn_tutorial.ipynb\">\n",
    "    <img src=\"https://www.tensorflow.org/images/GitHub-Mark-32px.png\" />\n",
    "    View source on GitHub</a>\n",
    "  </td>\n",
    "</table>"
   ]
  },
  {
   "cell_type": "markdown",
   "metadata": {
    "id": "2BDIAa_mlcXp"
   },
   "source": [
    "## Google Colab stuff"
   ]
  },
  {
   "cell_type": "code",
   "metadata": {
    "id": "hXImSpAcBqWk"
   },
   "source": [
    "%%capture\n",
    "!pip install tf-agents\n",
    "!pip install textworld\n",
    "\n",
    "from google.colab import drive\n",
    "drive.mount(\"/content/drive\")\n",
    "import os\n",
    "os.chdir(\"/content/drive/MyDrive/DeepLearningNLP/\")"
   ],
   "execution_count": null,
   "outputs": []
  },
  {
   "cell_type": "markdown",
   "metadata": {
    "id": "UkpwpO2ll8md"
   },
   "source": [
    "Or alternatively (for future, when project not private anymore):"
   ]
  },
  {
   "cell_type": "code",
   "metadata": {
    "colab": {
     "base_uri": "https://localhost:8080/"
    },
    "id": "Z9iV-qUKmCpJ",
    "outputId": "65436aed-a27c-4ed5-fc23-278458003497"
   },
   "source": [
    "!git clone https://github.com/"
   ],
   "execution_count": null,
   "outputs": [
    {
     "output_type": "stream",
     "text": [
      "Cloning into 'github.com'...\n",
      "fatal: repository 'https://github.com/' not found\n"
     ],
     "name": "stdout"
    }
   ]
  },
  {
   "cell_type": "markdown",
   "metadata": {
    "id": "4ge9lm5ElgBF"
   },
   "source": [
    "## Imports"
   ]
  },
  {
   "cell_type": "code",
   "metadata": {
    "colab": {
     "base_uri": "https://localhost:8080/"
    },
    "id": "85h9Bei-n_al",
    "outputId": "5b9924bc-b2ed-4ee7-a035-7b038a770e8a"
   },
   "source": [
    "from tests import test_environment_creation\n",
    "import train\n",
    "\n",
    "%load_ext autoreload\n",
    "%autoreload 2"
   ],
   "execution_count": 18,
   "outputs": [
    {
     "output_type": "stream",
     "text": [
      "The autoreload extension is already loaded. To reload it, use:\n",
      "  %reload_ext autoreload\n"
     ],
     "name": "stdout"
    }
   ]
  },
  {
   "cell_type": "markdown",
   "metadata": {
    "id": "i2kCbHw2QeVX"
   },
   "source": [
    "# Test environment"
   ]
  },
  {
   "cell_type": "code",
   "metadata": {
    "id": "HawL9R4V6AYJ"
   },
   "source": [
    "test_environment_creation()"
   ],
   "execution_count": null,
   "outputs": []
  },
  {
   "cell_type": "markdown",
   "metadata": {
    "id": "u1Zx2a9AQoVh"
   },
   "source": [
    "# Train"
   ]
  },
  {
   "cell_type": "code",
   "metadata": {
    "id": "s-LGSOqOmx08"
   },
   "source": [
    "hp_dict = {\n",
    "  \"num_iterations\": 1000,\n",
    "  \"learning_rate\": 1e-3,\n",
    "  \"initial_collect_steps\": 100,\n",
    "  \"collect_steps_per_iteration\": 1,\n",
    "  \"replay_buffer_max_length\": 100000,\n",
    "  \"batch_size\": 64,\n",
    "  \"log_interval\": 5,\n",
    "  \"num_eval_episodes\": 3,\n",
    "  \"eval_interval\": 100,\n",
    "}"
   ],
   "execution_count": 21,
   "outputs": []
  },
  {
   "cell_type": "code",
   "metadata": {
    "id": "k3QsRR2JQunt",
    "pycharm": {
     "name": "#%%\n"
    }
   },
   "source": [
    "eval_scores = train.main(plot_avg_ret=True, debug=False, **hp_dict)\n",
    "print(eval_scores)"
   ],
   "execution_count": null,
   "outputs": []
  },
  {
   "cell_type": "markdown",
   "metadata": {
    "id": "izOrJDtvs4rO"
   },
   "source": [
    "## Hyper parameter search"
   ]
  },
  {
   "cell_type": "code",
   "metadata": {
    "id": "A4S3R9tSqH-c"
   },
   "source": [
    "!pip install optuna\n",
    "import optuna"
   ],
   "execution_count": null,
   "outputs": []
  },
  {
   "cell_type": "code",
   "metadata": {
    "id": "DQlG-WJQs74O"
   },
   "source": [
    "def objective(trial):\n",
    "    \"\"\"\"\"\"\n",
    "\n",
    "    hp_dict = {\n",
    "      \"num_iterations\": 1000,\n",
    "      \"learning_rate\": trial.suggest_loguniform(\"lr\", 1e-4, 1e-2),\n",
    "      \"initial_collect_steps\": 100,\n",
    "      \"collect_steps_per_iteration\": 1,\n",
    "      \"replay_buffer_max_length\": 100000,\n",
    "      \"batch_size\": trial.suggest_int(\"batch_size\", 16, 256),\n",
    "      \"log_interval\": 50,\n",
    "      \"num_eval_episodes\": 2,\n",
    "      \"eval_interval\": 250,\n",
    "    }\n",
    "\n",
    "    eval_scores = train.main(plot_avg_ret=False, debug=False, **hp_dict)\n",
    "    eval_scores = np.delete(eval_scores, 0)\n",
    "\n",
    "    return max(eval_scores)\n",
    "\n",
    "study = optuna.create_study(direction=\"maximize\")\n",
    "study.optimize(objective, n_trials=30)\n",
    "print(study.best_trial)"
   ],
   "execution_count": null,
   "outputs": []
  },
  {
   "cell_type": "code",
   "metadata": {
    "id": "SeEcJWtgumr7"
   },
   "source": [
    ""
   ],
   "execution_count": null,
   "outputs": []
  }
 ]
}