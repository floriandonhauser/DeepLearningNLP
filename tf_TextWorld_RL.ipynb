{
 "nbformat": 4,
 "nbformat_minor": 0,
 "metadata": {
  "colab": {
   "name": "tf_TextWorld_RL.ipynb",
   "provenance": [],
   "collapsed_sections": []
  },
  "kernelspec": {
   "name": "python3",
   "display_name": "Python 3"
  },
  "language_info": {
   "name": "python"
  },
  "accelerator": "GPU"
 },
 "cells": [
  {
   "cell_type": "markdown",
   "metadata": {
    "id": "ku7U1N9V7_By"
   },
   "source": [
    "TODO:\n",
    "try non trainable bert ?\n",
    "absolute loss?\n",
    "clip loss?\n",
    "biased experience replay\n",
    "write train class\n",
    "save/write model\n",
    "custom loss?\n",
    "dropout?\n",
    "batchnorm?\n",
    "diff architecture?\n",
    "steal bert calssifier https://www.tensorflow.org/text/tutorials/classify_text_with_bert\n"
   ]
  },
  {
   "cell_type": "markdown",
   "metadata": {
    "id": "VJQwRDYVlPwi"
   },
   "source": [
    "# Advanced Deep Learning for NLP - Text based adventure game RL\n"
   ]
  },
  {
   "cell_type": "markdown",
   "metadata": {
    "id": "LPNo9umRmNlr"
   },
   "source": [
    "WIP: Links not assigned yet\n",
    "\n",
    "<table class=\"tfo-notebook-buttons\" align=\"left\">\n",
    "  <td>\n",
    "    <a target=\"_blank\" href=\"https://colab.research.google.com/github/tensorflow/agents/blob/master/docs/tutorials/1_dqn_tutorial.ipynb\">\n",
    "    <img src=\"https://www.tensorflow.org/images/colab_logo_32px.png\" />\n",
    "    Run in Google Colab</a>\n",
    "  </td>\n",
    "  <td>\n",
    "    <a target=\"_blank\" href=\"https://github.com/tensorflow/agents/blob/master/docs/tutorials/1_dqn_tutorial.ipynb\">\n",
    "    <img src=\"https://www.tensorflow.org/images/GitHub-Mark-32px.png\" />\n",
    "    View source on GitHub</a>\n",
    "  </td>\n",
    "</table>"
   ]
  },
  {
   "cell_type": "markdown",
   "metadata": {
    "id": "2BDIAa_mlcXp"
   },
   "source": [
    "## Google Colab stuff"
   ]
  },
  {
   "cell_type": "code",
   "metadata": {
    "id": "hXImSpAcBqWk",
    "executionInfo": {
     "status": "ok",
     "timestamp": 1627898993471,
     "user_tz": -120,
     "elapsed": 5077,
     "user": {
      "displayName": "Max Lamparth",
      "photoUrl": "https://lh3.googleusercontent.com/a-/AOh14GggONWhA_LZZ2SpKMaopk7rlmYZrhiQrouD31deaw=s64",
      "userId": "07608444463794873074"
     }
    }
   },
   "source": [
    "%%capture\n",
    "!pip install tf-agents\n",
    "!pip install textworld\n",
    "\n",
    "from google.colab import drive\n",
    "drive.mount(\"/content/drive\")\n",
    "import os\n",
    "os.chdir(\"/content/drive/MyDrive/DeepLearningNLP/\")"
   ],
   "execution_count": 1,
   "outputs": []
  },
  {
   "cell_type": "markdown",
   "metadata": {
    "id": "UkpwpO2ll8md"
   },
   "source": [
    "Or alternatively (for future, when project not private anymore):"
   ]
  },
  {
   "cell_type": "code",
   "metadata": {
    "colab": {
     "base_uri": "https://localhost:8080/"
    },
    "id": "Z9iV-qUKmCpJ",
    "outputId": "65436aed-a27c-4ed5-fc23-278458003497"
   },
   "source": [
    "!git clone https://github.com/"
   ],
   "execution_count": null,
   "outputs": [
    {
     "output_type": "stream",
     "text": [
      "Cloning into 'github.com'...\n",
      "fatal: repository 'https://github.com/' not found\n"
     ],
     "name": "stdout"
    }
   ]
  },
  {
   "cell_type": "markdown",
   "metadata": {
    "id": "4ge9lm5ElgBF"
   },
   "source": [
    "## Imports"
   ]
  },
  {
   "cell_type": "code",
   "metadata": {
    "id": "85h9Bei-n_al",
    "executionInfo": {
     "status": "ok",
     "timestamp": 1627898997308,
     "user_tz": -120,
     "elapsed": 3844,
     "user": {
      "displayName": "Max Lamparth",
      "photoUrl": "https://lh3.googleusercontent.com/a-/AOh14GggONWhA_LZZ2SpKMaopk7rlmYZrhiQrouD31deaw=s64",
      "userId": "07608444463794873074"
     }
    }
   },
   "source": [
    "from tests import test_environment_creation\n",
    "import train\n",
    "\n",
    "%load_ext autoreload\n",
    "%autoreload 2"
   ],
   "execution_count": 2,
   "outputs": []
  },
  {
   "cell_type": "markdown",
   "metadata": {
    "id": "LpLGgA5Xk2NE"
   },
   "source": [
    "## Generate games\n",
    "\n",
    "\n",
    "Only run of necessary."
   ]
  },
  {
   "cell_type": "code",
   "metadata": {
    "id": "svdyaH5irbYK"
   },
   "source": [
    "os.chdir(\"/content/drive/MyDrive/DeepLearningNLP/scripts/\")"
   ],
   "execution_count": null,
   "outputs": []
  },
  {
   "cell_type": "code",
   "metadata": {
    "colab": {
     "base_uri": "https://localhost:8080/"
    },
    "id": "AMXxZfzGk_fV",
    "executionInfo": {
     "status": "ok",
     "timestamp": 1627671800034,
     "user_tz": -120,
     "elapsed": 5099,
     "user": {
      "displayName": "Max Lamparth",
      "photoUrl": "https://lh3.googleusercontent.com/a-/AOh14GggONWhA_LZZ2SpKMaopk7rlmYZrhiQrouD31deaw=s64",
      "userId": "07608444463794873074"
     }
    },
    "outputId": "f7f54138-bacb-40b1-c461-694920680ed9"
   },
   "source": [
    "%%shell\n",
    "bash ./make_debug_game.sh"
   ],
   "execution_count": null,
   "outputs": [
    {
     "output_type": "stream",
     "text": [
      "Global seed: 2021\n",
      "Game generated: /content/drive/My Drive/DeepLearningNLP/resources/game_th_lvl2_simple.ulx\n"
     ],
     "name": "stdout"
    },
    {
     "output_type": "execute_result",
     "data": {
      "text/plain": [
       ""
      ]
     },
     "metadata": {
      "tags": []
     },
     "execution_count": 4
    }
   ]
  },
  {
   "cell_type": "code",
   "metadata": {
    "id": "tc9fq9C8n9q1"
   },
   "source": [
    "%%capture\n",
    "%%shell\n",
    "bash ./make_allgames.sh"
   ],
   "execution_count": null,
   "outputs": []
  },
  {
   "cell_type": "code",
   "metadata": {
    "id": "bX23AdS2riOI"
   },
   "source": [
    "os.chdir(\"/content/drive/MyDrive/DeepLearningNLP/\")"
   ],
   "execution_count": null,
   "outputs": []
  },
  {
   "cell_type": "markdown",
   "metadata": {
    "id": "i2kCbHw2QeVX"
   },
   "source": [
    "# Test environment"
   ]
  },
  {
   "cell_type": "code",
   "metadata": {
    "id": "HawL9R4V6AYJ"
   },
   "source": [
    "test_environment_creation()"
   ],
   "execution_count": null,
   "outputs": []
  },
  {
   "cell_type": "markdown",
   "metadata": {
    "id": "u1Zx2a9AQoVh"
   },
   "source": [
    "# Train"
   ]
  },
  {
   "cell_type": "code",
   "metadata": {
    "id": "s-LGSOqOmx08",
    "executionInfo": {
     "status": "ok",
     "timestamp": 1627898997312,
     "user_tz": -120,
     "elapsed": 8,
     "user": {
      "displayName": "Max Lamparth",
      "photoUrl": "https://lh3.googleusercontent.com/a-/AOh14GggONWhA_LZZ2SpKMaopk7rlmYZrhiQrouD31deaw=s64",
      "userId": "07608444463794873074"
     }
    }
   },
   "source": [
    "hp_dict = {\n",
    "  \"num_iterations\": 1500,\n",
    "  \"learning_rate\": 1e-3,\n",
    "  \"initial_collect_steps\": 5000,\n",
    "  \"collect_steps_per_iteration\": 1,\n",
    "  \"replay_buffer_max_length\": 100000,\n",
    "  \"batch_size\": 128,\n",
    "  \"log_interval\": 250,\n",
    "  \"num_eval_episodes\": 1,\n",
    "  \"eval_interval\": 250,\n",
    "  \"game_gen_interval\": 500,\n",
    "  \"game_gen_no\": 50,\n",
    "}\n",
    "REWARD_DICT = {\n",
    "    \"win_lose_value\": 100,\n",
    "    \"max_loop_pun\": 1,\n",
    "    \"change_reward\": 2,\n",
    "    \"useless_act_pun\": 1,\n",
    "    \"verb_in_adm\": 2,\n",
    "}"
   ],
   "execution_count": 3,
   "outputs": []
  },
  {
   "cell_type": "code",
   "metadata": {
    "id": "k3QsRR2JQunt",
    "pycharm": {
     "name": "#%%\n"
    },
    "colab": {
     "base_uri": "https://localhost:8080/",
     "height": 1000
    },
    "executionInfo": {
     "status": "ok",
     "timestamp": 1627899361345,
     "user_tz": -120,
     "elapsed": 364039,
     "user": {
      "displayName": "Max Lamparth",
      "photoUrl": "https://lh3.googleusercontent.com/a-/AOh14GggONWhA_LZZ2SpKMaopk7rlmYZrhiQrouD31deaw=s64",
      "userId": "07608444463794873074"
     }
    },
    "outputId": "f71cb637-1601-47ae-85ec-f0a17b05be33"
   },
   "source": [
    "eval_scores = train.main(\n",
    "    plot_avg_ret=True,\n",
    "    debug=False,\n",
    "    reward_dict=REWARD_DICT,\n",
    "    env_dir=\"train_games_lvl2\",\n",
    "    **hp_dict\n",
    ")\n",
    "print(eval_scores)"
   ],
   "execution_count": 4,
   "outputs": [
    {
     "output_type": "stream",
     "text": [
      "Debug Start Filling RB\n",
      "GAME WON\n",
      "GAME WON\n",
      "Debug End Filling RB\n",
      "WARNING:tensorflow:From /usr/local/lib/python3.7/dist-packages/tensorflow/python/autograph/impl/api.py:382: ReplayBuffer.get_next (from tf_agents.replay_buffers.replay_buffer) is deprecated and will be removed in a future version.\n",
      "Instructions for updating:\n",
      "Use `as_dataset(..., single_deterministic_pass=False) instead.\n"
     ],
     "name": "stdout"
    },
    {
     "output_type": "stream",
     "text": [
      "WARNING:tensorflow:From /usr/local/lib/python3.7/dist-packages/tensorflow/python/autograph/impl/api.py:382: ReplayBuffer.get_next (from tf_agents.replay_buffers.replay_buffer) is deprecated and will be removed in a future version.\n",
      "Instructions for updating:\n",
      "Use `as_dataset(..., single_deterministic_pass=False) instead.\n"
     ],
     "name": "stderr"
    },
    {
     "output_type": "stream",
     "text": [
      "WARNING:tensorflow:From /usr/local/lib/python3.7/dist-packages/tensorflow/python/util/dispatch.py:206: calling foldr_v2 (from tensorflow.python.ops.functional_ops) with back_prop=False is deprecated and will be removed in a future version.\n",
      "Instructions for updating:\n",
      "back_prop=False is deprecated. Consider using tf.stop_gradient instead.\n",
      "Instead of:\n",
      "results = tf.foldr(fn, elems, back_prop=False)\n",
      "Use:\n",
      "results = tf.nest.map_structure(tf.stop_gradient, tf.foldr(fn, elems))\n"
     ],
     "name": "stdout"
    },
    {
     "output_type": "stream",
     "text": [
      "WARNING:tensorflow:From /usr/local/lib/python3.7/dist-packages/tensorflow/python/util/dispatch.py:206: calling foldr_v2 (from tensorflow.python.ops.functional_ops) with back_prop=False is deprecated and will be removed in a future version.\n",
      "Instructions for updating:\n",
      "back_prop=False is deprecated. Consider using tf.stop_gradient instead.\n",
      "Instead of:\n",
      "results = tf.foldr(fn, elems, back_prop=False)\n",
      "Use:\n",
      "results = tf.nest.map_structure(tf.stop_gradient, tf.foldr(fn, elems))\n"
     ],
     "name": "stderr"
    },
    {
     "output_type": "stream",
     "text": [
      "step = 250: loss = 4430580.0\n",
      "step = 250: Average Return = 3.0\n",
      "step = 500: loss = 685481600.0\n",
      "step = 500: Average Return = 3.0\n",
      "GAME WON\n",
      "GAME WON\n",
      "GAME WON\n",
      "GAME WON\n",
      "step = 750: loss = 9356243968.0\n",
      "step = 750: Average Return = -97.0\n",
      "step = 1000: loss = 52037099520.0\n",
      "step = 1000: Average Return = -97.0\n",
      "step = 1250: loss = 194285174784.0\n",
      "step = 1250: Average Return = -97.0\n",
      "step = 1500: loss = 486452789248.0\n",
      "step = 1500: Average Return = -97.0\n",
      "(6,) [ 250  500  750 1000 1250 1500]\n",
      "(6,) [  3.   3. -97. -97. -97. -97.]\n",
      "[  3.   3. -97. -97. -97. -97.]\n"
     ],
     "name": "stdout"
    },
    {
     "output_type": "display_data",
     "data": {
      "image/png": "[encoded data removed]",
      "text/plain": [
       "<Figure size 432x288 with 1 Axes>"
      ]
     },
     "metadata": {
      "tags": [],
      "needs_background": "light"
     }
    }
   ]
  },
  {
   "cell_type": "markdown",
   "metadata": {
    "id": "izOrJDtvs4rO"
   },
   "source": [
    "## Hyper parameter search"
   ]
  },
  {
   "cell_type": "code",
   "metadata": {
    "id": "A4S3R9tSqH-c"
   },
   "source": [
    "%%capture\n",
    "!pip install optuna\n",
    "import optuna"
   ],
   "execution_count": null,
   "outputs": []
  },
  {
   "cell_type": "code",
   "metadata": {
    "id": "DQlG-WJQs74O"
   },
   "source": [
    "def objective(trial):\n",
    "    \"\"\"\"\"\"\n",
    "\n",
    "    hp_dict = {\n",
    "      \"num_iterations\": 2000,\n",
    "      \"learning_rate\": trial.suggest_loguniform(\"lr\", 1e-4, 1e-2),\n",
    "      \"initial_collect_steps\": 10000,\n",
    "      \"collect_steps_per_iteration\": 1,\n",
    "      \"replay_buffer_max_length\": 100000,\n",
    "      \"batch_size\": trial.suggest_int(\"batch_size\", 16, 256),\n",
    "      \"log_interval\": 500,\n",
    "      \"num_eval_episodes\": 1,\n",
    "      \"eval_interval\": 100,\n",
    "    }\n",
    "\n",
    "    REWARD_DICT = {\n",
    "        \"win_lose_value\": 100,\n",
    "        \"max_loop_pun\": 1,\n",
    "        \"change_reward\": 1,\n",
    "        \"useless_act_pun\": 1,\n",
    "        \"verb_in_adm\": 1,\n",
    "    }\n",
    "\n",
    "    eval_scores = train.main(plot_avg_ret=True, debug=False, reward_dict=REWARD_DICT, **hp_dict)\n",
    "    # eval_scores = np.delete(eval_scores, 0)\n",
    "\n",
    "    return max(eval_scores)\n",
    "\n",
    "study = optuna.create_study(direction=\"maximize\")\n",
    "study.optimize(objective, n_trials=30)\n",
    "print(study.best_trial)"
   ],
   "execution_count": null,
   "outputs": []
  },
  {
   "cell_type": "code",
   "metadata": {
    "id": "SeEcJWtgumr7",
    "colab": {
     "base_uri": "https://localhost:8080/"
    },
    "executionInfo": {
     "status": "ok",
     "timestamp": 1627651497254,
     "user_tz": -120,
     "elapsed": 385,
     "user": {
      "displayName": "Max Lamparth",
      "photoUrl": "https://lh3.googleusercontent.com/a-/AOh14GggONWhA_LZZ2SpKMaopk7rlmYZrhiQrouD31deaw=s64",
      "userId": "07608444463794873074"
     }
    },
    "outputId": "f790496d-7644-44f4-af65-3cc27a28e14a"
   },
   "source": [
    "print(study.best_trial)"
   ],
   "execution_count": null,
   "outputs": [
    {
     "output_type": "stream",
     "text": [
      "FrozenTrial(number=0, values=[203.0], datetime_start=datetime.datetime(2021, 7, 30, 11, 46, 26, 924586), datetime_complete=datetime.datetime(2021, 7, 30, 11, 50, 2, 140224), params={'lr': 0.004015582546958087, 'batch_size': 89}, distributions={'lr': LogUniformDistribution(high=0.01, low=0.0001), 'batch_size': IntUniformDistribution(high=256, low=16, step=1)}, user_attrs={}, system_attrs={}, intermediate_values={}, trial_id=0, state=TrialState.COMPLETE, value=None)\n"
     ],
     "name": "stdout"
    }
   ]
  },
  {
   "cell_type": "code",
   "metadata": {
    "id": "KKFKyzX-ltnR"
   },
   "source": [
    ""
   ],
   "execution_count": null,
   "outputs": []
  }
 ]
}